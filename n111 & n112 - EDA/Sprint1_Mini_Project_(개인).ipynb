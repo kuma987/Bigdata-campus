{
  "nbformat": 4,
  "nbformat_minor": 0,
  "metadata": {
    "colab": {
      "provenance": [],
      "include_colab_link": true
    },
    "kernelspec": {
      "name": "python3",
      "display_name": "Python 3"
    },
    "language_info": {
      "name": "python"
    }
  },
  "cells": [
    {
      "cell_type": "markdown",
      "metadata": {
        "id": "view-in-github",
        "colab_type": "text"
      },
      "source": [
        "<a href=\"https://colab.research.google.com/github/kuma987/Bigdata-campus/blob/main/n111%20%26%20n112%20-%20EDA/Sprint1_Mini_Project_(%EA%B0%9C%EC%9D%B8).ipynb\" target=\"_parent\"><img src=\"https://colab.research.google.com/assets/colab-badge.svg\" alt=\"Open In Colab\"/></a>"
      ]
    },
    {
      "cell_type": "markdown",
      "source": [
        "# **Sprint 1 Mini Project**\n"
      ],
      "metadata": {
        "id": "ozuNq4ntan5m"
      }
    },
    {
      "cell_type": "markdown",
      "source": [
        "## Sprint 학습 목표\n",
        "\n",
        "- EDA & Data Wrangling 과정을 코드로 구현할 수 있다.\n",
        "- 목적에 맞는 시각화를 활용하여 비지니스 인사이트를 도출할 수 있다."
      ],
      "metadata": {
        "id": "TNlVAZ15azaz"
      }
    },
    {
      "cell_type": "markdown",
      "source": [
        "## Project 문제 정의"
      ],
      "metadata": {
        "id": "Dt5KsBNbbN1B"
      }
    },
    {
      "cell_type": "markdown",
      "source": [
        "### 배경\n",
        "> 여러분은 웹사이트와 더불어 오프라인 매장을 함께 운영하고 있는 **자전거 거래 플랫폼 회사**에서 데이터 분석 업무를 담당하고 있습니다.<br>\n",
        "해당 회사의 주요 타겟 지역은 **호주**이며, 매출액을 늘리기 위해서는 자전거 거래 데이터를 분석하여 **인사이트를 도출**하는 작업이 필요합니다.<br>\n",
        "회사 Database에 적재 되어있는 데이터를 추출하여 확보한 **고객 데이터**와 **거래 데이터**를 분석에 용이한 형태로 정제하는 것이 이번 프로젝트의 주요 과제입니다.<br>\n",
        "가능하다면 데이터 분석을 통해 현재 상황과 매출액 증가를 위한 방안에 대한 **비즈니스 인사이트를 도출**하고 **실행 가능한 계획까지 수립**하는 프로젝트를 완성해보세요.\n",
        "\n",
        "\n"
      ],
      "metadata": {
        "id": "S_30oFfwbUUW"
      }
    },
    {
      "cell_type": "markdown",
      "source": [
        "### 목표\n",
        "\n",
        "#### 기본 과제\n",
        "> - 주어진 데이터셋을 **이해하고 분석**할 수 있다.\n",
        "- 주어진 질문에 대해 **시각화를 통해 설명**할 수 있다.\n",
        "- **품질의 문제와 구조적 문제**를 파악하여 **정제**할 수 있다.\n",
        "\n",
        "\n",
        "#### 도전 과제\n",
        "> - 현재 플랫폼 내 자전거 거래의 **동향(trend)**을 파악한다.<br>\n",
        "- **고객 세분화(Customer Segmentation)**를 통해 비슷한 특성을 가진 **고객군 각각의 특징을 파악**한다. <br>\n",
        "- 고객군 별로 매출을 증가시키기 위해 적용할 수 있는 마케팅 전략을 수립하고 **실행 계획(action plan)**을 제시할 수 있다."
      ],
      "metadata": {
        "id": "0YP8FV0IawBo"
      }
    },
    {
      "cell_type": "markdown",
      "source": [
        "## **N111**\n",
        "\n",
        "### 오늘의 목표\n",
        "- 주어진 데이터셋을 불러올 수 있다.\n",
        "- 데이터셋에 대해 pandas 메서드를 통해 기본 정보를 확인할 수 있다.\n"
      ],
      "metadata": {
        "id": "jtAQyTDKbuGH"
      }
    },
    {
      "cell_type": "markdown",
      "source": [
        "### `Topic 1`: 데이터셋 불러오기\n",
        "본격적인 분석에 앞서, 아래의 데이터셋 설명을 통해 어떤 정보를 가진 데이터셋인지 파악 후 코드를 통해 데이터셋을 불러오도록 합시다.\n",
        "\n",
        "<br>\n",
        "\n",
        "> **customer 데이터셋 설명 (description)** <br>\n",
        "우리 플랫폼에 등록된 고객 정보 데이터\n",
        "\n",
        "- `customer_id`: 고객 고유번호\n",
        "- `first_name`: 이름\n",
        "- `last_name`: 성\n",
        "- `gender`: 성별\n",
        "- `past_3_years_bike_related_purchases`: 자전거 관련 구매 이력 (3년)\n",
        "- `DOB`: 생년월일\n",
        "- `job_title`: 직업명\n",
        "- `job_industry_category`: 직무\n",
        "- `wealth_segment`: 재력\n",
        "- `deceased_indicator`: 사망 여부\n",
        "- `default`: 정보\n",
        "- `owns_car`: 차 소유 여부\n",
        "- `tenure`: 재직 기간\n"
      ],
      "metadata": {
        "id": "0vOrRMndLZuF"
      }
    },
    {
      "cell_type": "markdown",
      "source": [
        "#### **1-1. 라이브러리와 메서드는 무엇인가요?**\n",
        "> 앞으로 여러분은 다양한 라이브러리를 사용하여 분석, 모델링을 진행하시게 될 텐데요.\n",
        ">\n",
        "> 오늘 Lecture Note에서도 pandas라는 라이브러리를 활용하고 있습니다.\n",
        ">\n",
        "> 그렇다면 라이브러리는 무엇이며, 왜 사용을 하는 것일까요? 이와 더불어 라이브러리와 함께 자주 등장하는 개념인 메서드는 무엇인지에 대해서도 함께 찾아본 후 내용을 정리하여 노션의 **진행내용**에 남겨주세요."
      ],
      "metadata": {
        "id": "m6N8xdcIPiZp"
      }
    },
    {
      "cell_type": "markdown",
      "source": [
        "\n",
        "#### **1-2. pandas의 `read_csv` 함수를 활용하여 주어진 csv 파일(customer_info.csv)을 `customer`라는 이름으로 불러오세요.**\n"
      ],
      "metadata": {
        "id": "VmMqcS5HPZpP"
      }
    },
    {
      "cell_type": "code",
      "source": [
        "# 필요한 패키지 불러오기\n",
        "import pandas as pd\n",
        "import numpy as np"
      ],
      "metadata": {
        "id": "EupkR7cfKorD"
      },
      "execution_count": 2,
      "outputs": []
    },
    {
      "cell_type": "code",
      "source": [
        "# 데이터 업로드\n",
        "from google.colab import files\n",
        "uploaded = files.upload()"
      ],
      "metadata": {
        "colab": {
          "base_uri": "https://localhost:8080/",
          "height": 73
        },
        "id": "X3z-AYIPtXDc",
        "outputId": "43fc54ff-b45b-4b8e-a13b-22608a0b3369"
      },
      "execution_count": 3,
      "outputs": [
        {
          "output_type": "display_data",
          "data": {
            "text/plain": [
              "<IPython.core.display.HTML object>"
            ],
            "text/html": [
              "\n",
              "     <input type=\"file\" id=\"files-1cf1f55e-6d63-424f-92a4-eb6d1341a38b\" name=\"files[]\" multiple disabled\n",
              "        style=\"border:none\" />\n",
              "     <output id=\"result-1cf1f55e-6d63-424f-92a4-eb6d1341a38b\">\n",
              "      Upload widget is only available when the cell has been executed in the\n",
              "      current browser session. Please rerun this cell to enable.\n",
              "      </output>\n",
              "      <script>// Copyright 2017 Google LLC\n",
              "//\n",
              "// Licensed under the Apache License, Version 2.0 (the \"License\");\n",
              "// you may not use this file except in compliance with the License.\n",
              "// You may obtain a copy of the License at\n",
              "//\n",
              "//      http://www.apache.org/licenses/LICENSE-2.0\n",
              "//\n",
              "// Unless required by applicable law or agreed to in writing, software\n",
              "// distributed under the License is distributed on an \"AS IS\" BASIS,\n",
              "// WITHOUT WARRANTIES OR CONDITIONS OF ANY KIND, either express or implied.\n",
              "// See the License for the specific language governing permissions and\n",
              "// limitations under the License.\n",
              "\n",
              "/**\n",
              " * @fileoverview Helpers for google.colab Python module.\n",
              " */\n",
              "(function(scope) {\n",
              "function span(text, styleAttributes = {}) {\n",
              "  const element = document.createElement('span');\n",
              "  element.textContent = text;\n",
              "  for (const key of Object.keys(styleAttributes)) {\n",
              "    element.style[key] = styleAttributes[key];\n",
              "  }\n",
              "  return element;\n",
              "}\n",
              "\n",
              "// Max number of bytes which will be uploaded at a time.\n",
              "const MAX_PAYLOAD_SIZE = 100 * 1024;\n",
              "\n",
              "function _uploadFiles(inputId, outputId) {\n",
              "  const steps = uploadFilesStep(inputId, outputId);\n",
              "  const outputElement = document.getElementById(outputId);\n",
              "  // Cache steps on the outputElement to make it available for the next call\n",
              "  // to uploadFilesContinue from Python.\n",
              "  outputElement.steps = steps;\n",
              "\n",
              "  return _uploadFilesContinue(outputId);\n",
              "}\n",
              "\n",
              "// This is roughly an async generator (not supported in the browser yet),\n",
              "// where there are multiple asynchronous steps and the Python side is going\n",
              "// to poll for completion of each step.\n",
              "// This uses a Promise to block the python side on completion of each step,\n",
              "// then passes the result of the previous step as the input to the next step.\n",
              "function _uploadFilesContinue(outputId) {\n",
              "  const outputElement = document.getElementById(outputId);\n",
              "  const steps = outputElement.steps;\n",
              "\n",
              "  const next = steps.next(outputElement.lastPromiseValue);\n",
              "  return Promise.resolve(next.value.promise).then((value) => {\n",
              "    // Cache the last promise value to make it available to the next\n",
              "    // step of the generator.\n",
              "    outputElement.lastPromiseValue = value;\n",
              "    return next.value.response;\n",
              "  });\n",
              "}\n",
              "\n",
              "/**\n",
              " * Generator function which is called between each async step of the upload\n",
              " * process.\n",
              " * @param {string} inputId Element ID of the input file picker element.\n",
              " * @param {string} outputId Element ID of the output display.\n",
              " * @return {!Iterable<!Object>} Iterable of next steps.\n",
              " */\n",
              "function* uploadFilesStep(inputId, outputId) {\n",
              "  const inputElement = document.getElementById(inputId);\n",
              "  inputElement.disabled = false;\n",
              "\n",
              "  const outputElement = document.getElementById(outputId);\n",
              "  outputElement.innerHTML = '';\n",
              "\n",
              "  const pickedPromise = new Promise((resolve) => {\n",
              "    inputElement.addEventListener('change', (e) => {\n",
              "      resolve(e.target.files);\n",
              "    });\n",
              "  });\n",
              "\n",
              "  const cancel = document.createElement('button');\n",
              "  inputElement.parentElement.appendChild(cancel);\n",
              "  cancel.textContent = 'Cancel upload';\n",
              "  const cancelPromise = new Promise((resolve) => {\n",
              "    cancel.onclick = () => {\n",
              "      resolve(null);\n",
              "    };\n",
              "  });\n",
              "\n",
              "  // Wait for the user to pick the files.\n",
              "  const files = yield {\n",
              "    promise: Promise.race([pickedPromise, cancelPromise]),\n",
              "    response: {\n",
              "      action: 'starting',\n",
              "    }\n",
              "  };\n",
              "\n",
              "  cancel.remove();\n",
              "\n",
              "  // Disable the input element since further picks are not allowed.\n",
              "  inputElement.disabled = true;\n",
              "\n",
              "  if (!files) {\n",
              "    return {\n",
              "      response: {\n",
              "        action: 'complete',\n",
              "      }\n",
              "    };\n",
              "  }\n",
              "\n",
              "  for (const file of files) {\n",
              "    const li = document.createElement('li');\n",
              "    li.append(span(file.name, {fontWeight: 'bold'}));\n",
              "    li.append(span(\n",
              "        `(${file.type || 'n/a'}) - ${file.size} bytes, ` +\n",
              "        `last modified: ${\n",
              "            file.lastModifiedDate ? file.lastModifiedDate.toLocaleDateString() :\n",
              "                                    'n/a'} - `));\n",
              "    const percent = span('0% done');\n",
              "    li.appendChild(percent);\n",
              "\n",
              "    outputElement.appendChild(li);\n",
              "\n",
              "    const fileDataPromise = new Promise((resolve) => {\n",
              "      const reader = new FileReader();\n",
              "      reader.onload = (e) => {\n",
              "        resolve(e.target.result);\n",
              "      };\n",
              "      reader.readAsArrayBuffer(file);\n",
              "    });\n",
              "    // Wait for the data to be ready.\n",
              "    let fileData = yield {\n",
              "      promise: fileDataPromise,\n",
              "      response: {\n",
              "        action: 'continue',\n",
              "      }\n",
              "    };\n",
              "\n",
              "    // Use a chunked sending to avoid message size limits. See b/62115660.\n",
              "    let position = 0;\n",
              "    do {\n",
              "      const length = Math.min(fileData.byteLength - position, MAX_PAYLOAD_SIZE);\n",
              "      const chunk = new Uint8Array(fileData, position, length);\n",
              "      position += length;\n",
              "\n",
              "      const base64 = btoa(String.fromCharCode.apply(null, chunk));\n",
              "      yield {\n",
              "        response: {\n",
              "          action: 'append',\n",
              "          file: file.name,\n",
              "          data: base64,\n",
              "        },\n",
              "      };\n",
              "\n",
              "      let percentDone = fileData.byteLength === 0 ?\n",
              "          100 :\n",
              "          Math.round((position / fileData.byteLength) * 100);\n",
              "      percent.textContent = `${percentDone}% done`;\n",
              "\n",
              "    } while (position < fileData.byteLength);\n",
              "  }\n",
              "\n",
              "  // All done.\n",
              "  yield {\n",
              "    response: {\n",
              "      action: 'complete',\n",
              "    }\n",
              "  };\n",
              "}\n",
              "\n",
              "scope.google = scope.google || {};\n",
              "scope.google.colab = scope.google.colab || {};\n",
              "scope.google.colab._files = {\n",
              "  _uploadFiles,\n",
              "  _uploadFilesContinue,\n",
              "};\n",
              "})(self);\n",
              "</script> "
            ]
          },
          "metadata": {}
        },
        {
          "output_type": "stream",
          "name": "stdout",
          "text": [
            "Saving customer_info.csv to customer_info.csv\n"
          ]
        }
      ]
    },
    {
      "cell_type": "code",
      "source": [
        "customer = pd.read_csv('customer_info.csv')\n",
        "customer.head()"
      ],
      "metadata": {
        "colab": {
          "base_uri": "https://localhost:8080/",
          "height": 389
        },
        "id": "7xZ1YvJMtYbX",
        "outputId": "bac64b55-bb43-441c-c7fe-d92082e73ca1"
      },
      "execution_count": 6,
      "outputs": [
        {
          "output_type": "execute_result",
          "data": {
            "text/plain": [
              "   customer_id      first_name  last_name  gender  \\\n",
              "0            1         Laraine  Medendorp       F   \n",
              "1            2             Eli    Bockman    Male   \n",
              "2            3           Arlin     Dearle    Male   \n",
              "3            4          Talbot        NaN    Male   \n",
              "4            5  Sheila-kathryn     Calton  Female   \n",
              "\n",
              "   past_3_years_bike_related_purchases         DOB               job_title  \\\n",
              "0                                   93  1953-10-12     Executive Secretary   \n",
              "1                                   81  1980-12-16  Administrative Officer   \n",
              "2                                   61  1954-01-20      Recruiting Manager   \n",
              "3                                   33  1961-10-03                     NaN   \n",
              "4                                   56  1977-05-13           Senior Editor   \n",
              "\n",
              "  job_industry_category     wealth_segment deceased_indicator  \\\n",
              "0                Health      Mass Customer                  N   \n",
              "1    Financial Services      Mass Customer                  N   \n",
              "2              Property      Mass Customer                  N   \n",
              "3                    IT      Mass Customer                  N   \n",
              "4                   NaN  Affluent Customer                  N   \n",
              "\n",
              "                                             default owns_car  tenure  \\\n",
              "0                                                 \"'      Yes    11.0   \n",
              "1                       <script>alert('hi')</script>      Yes    16.0   \n",
              "2                                             01-Feb      Yes    15.0   \n",
              "3  () { _; } >_[$($())] { touch /tmp/blns.shellsh...       No     7.0   \n",
              "4                                                NIL      Yes     8.0   \n",
              "\n",
              "   Unnamed: 13  \n",
              "0          NaN  \n",
              "1          NaN  \n",
              "2          NaN  \n",
              "3          NaN  \n",
              "4          NaN  "
            ],
            "text/html": [
              "\n",
              "  <div id=\"df-7c0ef976-0ad4-48e1-b27f-75aeea11f1c3\">\n",
              "    <div class=\"colab-df-container\">\n",
              "      <div>\n",
              "<style scoped>\n",
              "    .dataframe tbody tr th:only-of-type {\n",
              "        vertical-align: middle;\n",
              "    }\n",
              "\n",
              "    .dataframe tbody tr th {\n",
              "        vertical-align: top;\n",
              "    }\n",
              "\n",
              "    .dataframe thead th {\n",
              "        text-align: right;\n",
              "    }\n",
              "</style>\n",
              "<table border=\"1\" class=\"dataframe\">\n",
              "  <thead>\n",
              "    <tr style=\"text-align: right;\">\n",
              "      <th></th>\n",
              "      <th>customer_id</th>\n",
              "      <th>first_name</th>\n",
              "      <th>last_name</th>\n",
              "      <th>gender</th>\n",
              "      <th>past_3_years_bike_related_purchases</th>\n",
              "      <th>DOB</th>\n",
              "      <th>job_title</th>\n",
              "      <th>job_industry_category</th>\n",
              "      <th>wealth_segment</th>\n",
              "      <th>deceased_indicator</th>\n",
              "      <th>default</th>\n",
              "      <th>owns_car</th>\n",
              "      <th>tenure</th>\n",
              "      <th>Unnamed: 13</th>\n",
              "    </tr>\n",
              "  </thead>\n",
              "  <tbody>\n",
              "    <tr>\n",
              "      <th>0</th>\n",
              "      <td>1</td>\n",
              "      <td>Laraine</td>\n",
              "      <td>Medendorp</td>\n",
              "      <td>F</td>\n",
              "      <td>93</td>\n",
              "      <td>1953-10-12</td>\n",
              "      <td>Executive Secretary</td>\n",
              "      <td>Health</td>\n",
              "      <td>Mass Customer</td>\n",
              "      <td>N</td>\n",
              "      <td>\"'</td>\n",
              "      <td>Yes</td>\n",
              "      <td>11.0</td>\n",
              "      <td>NaN</td>\n",
              "    </tr>\n",
              "    <tr>\n",
              "      <th>1</th>\n",
              "      <td>2</td>\n",
              "      <td>Eli</td>\n",
              "      <td>Bockman</td>\n",
              "      <td>Male</td>\n",
              "      <td>81</td>\n",
              "      <td>1980-12-16</td>\n",
              "      <td>Administrative Officer</td>\n",
              "      <td>Financial Services</td>\n",
              "      <td>Mass Customer</td>\n",
              "      <td>N</td>\n",
              "      <td>&lt;script&gt;alert('hi')&lt;/script&gt;</td>\n",
              "      <td>Yes</td>\n",
              "      <td>16.0</td>\n",
              "      <td>NaN</td>\n",
              "    </tr>\n",
              "    <tr>\n",
              "      <th>2</th>\n",
              "      <td>3</td>\n",
              "      <td>Arlin</td>\n",
              "      <td>Dearle</td>\n",
              "      <td>Male</td>\n",
              "      <td>61</td>\n",
              "      <td>1954-01-20</td>\n",
              "      <td>Recruiting Manager</td>\n",
              "      <td>Property</td>\n",
              "      <td>Mass Customer</td>\n",
              "      <td>N</td>\n",
              "      <td>01-Feb</td>\n",
              "      <td>Yes</td>\n",
              "      <td>15.0</td>\n",
              "      <td>NaN</td>\n",
              "    </tr>\n",
              "    <tr>\n",
              "      <th>3</th>\n",
              "      <td>4</td>\n",
              "      <td>Talbot</td>\n",
              "      <td>NaN</td>\n",
              "      <td>Male</td>\n",
              "      <td>33</td>\n",
              "      <td>1961-10-03</td>\n",
              "      <td>NaN</td>\n",
              "      <td>IT</td>\n",
              "      <td>Mass Customer</td>\n",
              "      <td>N</td>\n",
              "      <td>() { _; } &gt;_[$($())] { touch /tmp/blns.shellsh...</td>\n",
              "      <td>No</td>\n",
              "      <td>7.0</td>\n",
              "      <td>NaN</td>\n",
              "    </tr>\n",
              "    <tr>\n",
              "      <th>4</th>\n",
              "      <td>5</td>\n",
              "      <td>Sheila-kathryn</td>\n",
              "      <td>Calton</td>\n",
              "      <td>Female</td>\n",
              "      <td>56</td>\n",
              "      <td>1977-05-13</td>\n",
              "      <td>Senior Editor</td>\n",
              "      <td>NaN</td>\n",
              "      <td>Affluent Customer</td>\n",
              "      <td>N</td>\n",
              "      <td>NIL</td>\n",
              "      <td>Yes</td>\n",
              "      <td>8.0</td>\n",
              "      <td>NaN</td>\n",
              "    </tr>\n",
              "  </tbody>\n",
              "</table>\n",
              "</div>\n",
              "      <button class=\"colab-df-convert\" onclick=\"convertToInteractive('df-7c0ef976-0ad4-48e1-b27f-75aeea11f1c3')\"\n",
              "              title=\"Convert this dataframe to an interactive table.\"\n",
              "              style=\"display:none;\">\n",
              "        \n",
              "  <svg xmlns=\"http://www.w3.org/2000/svg\" height=\"24px\"viewBox=\"0 0 24 24\"\n",
              "       width=\"24px\">\n",
              "    <path d=\"M0 0h24v24H0V0z\" fill=\"none\"/>\n",
              "    <path d=\"M18.56 5.44l.94 2.06.94-2.06 2.06-.94-2.06-.94-.94-2.06-.94 2.06-2.06.94zm-11 1L8.5 8.5l.94-2.06 2.06-.94-2.06-.94L8.5 2.5l-.94 2.06-2.06.94zm10 10l.94 2.06.94-2.06 2.06-.94-2.06-.94-.94-2.06-.94 2.06-2.06.94z\"/><path d=\"M17.41 7.96l-1.37-1.37c-.4-.4-.92-.59-1.43-.59-.52 0-1.04.2-1.43.59L10.3 9.45l-7.72 7.72c-.78.78-.78 2.05 0 2.83L4 21.41c.39.39.9.59 1.41.59.51 0 1.02-.2 1.41-.59l7.78-7.78 2.81-2.81c.8-.78.8-2.07 0-2.86zM5.41 20L4 18.59l7.72-7.72 1.47 1.35L5.41 20z\"/>\n",
              "  </svg>\n",
              "      </button>\n",
              "      \n",
              "  <style>\n",
              "    .colab-df-container {\n",
              "      display:flex;\n",
              "      flex-wrap:wrap;\n",
              "      gap: 12px;\n",
              "    }\n",
              "\n",
              "    .colab-df-convert {\n",
              "      background-color: #E8F0FE;\n",
              "      border: none;\n",
              "      border-radius: 50%;\n",
              "      cursor: pointer;\n",
              "      display: none;\n",
              "      fill: #1967D2;\n",
              "      height: 32px;\n",
              "      padding: 0 0 0 0;\n",
              "      width: 32px;\n",
              "    }\n",
              "\n",
              "    .colab-df-convert:hover {\n",
              "      background-color: #E2EBFA;\n",
              "      box-shadow: 0px 1px 2px rgba(60, 64, 67, 0.3), 0px 1px 3px 1px rgba(60, 64, 67, 0.15);\n",
              "      fill: #174EA6;\n",
              "    }\n",
              "\n",
              "    [theme=dark] .colab-df-convert {\n",
              "      background-color: #3B4455;\n",
              "      fill: #D2E3FC;\n",
              "    }\n",
              "\n",
              "    [theme=dark] .colab-df-convert:hover {\n",
              "      background-color: #434B5C;\n",
              "      box-shadow: 0px 1px 3px 1px rgba(0, 0, 0, 0.15);\n",
              "      filter: drop-shadow(0px 1px 2px rgba(0, 0, 0, 0.3));\n",
              "      fill: #FFFFFF;\n",
              "    }\n",
              "  </style>\n",
              "\n",
              "      <script>\n",
              "        const buttonEl =\n",
              "          document.querySelector('#df-7c0ef976-0ad4-48e1-b27f-75aeea11f1c3 button.colab-df-convert');\n",
              "        buttonEl.style.display =\n",
              "          google.colab.kernel.accessAllowed ? 'block' : 'none';\n",
              "\n",
              "        async function convertToInteractive(key) {\n",
              "          const element = document.querySelector('#df-7c0ef976-0ad4-48e1-b27f-75aeea11f1c3');\n",
              "          const dataTable =\n",
              "            await google.colab.kernel.invokeFunction('convertToInteractive',\n",
              "                                                     [key], {});\n",
              "          if (!dataTable) return;\n",
              "\n",
              "          const docLinkHtml = 'Like what you see? Visit the ' +\n",
              "            '<a target=\"_blank\" href=https://colab.research.google.com/notebooks/data_table.ipynb>data table notebook</a>'\n",
              "            + ' to learn more about interactive tables.';\n",
              "          element.innerHTML = '';\n",
              "          dataTable['output_type'] = 'display_data';\n",
              "          await google.colab.output.renderOutput(dataTable, element);\n",
              "          const docLink = document.createElement('div');\n",
              "          docLink.innerHTML = docLinkHtml;\n",
              "          element.appendChild(docLink);\n",
              "        }\n",
              "      </script>\n",
              "    </div>\n",
              "  </div>\n",
              "  "
            ]
          },
          "metadata": {},
          "execution_count": 6
        }
      ]
    },
    {
      "cell_type": "markdown",
      "source": [
        "### `Topic 2`: 기본 정보 확인\n",
        "> 위에서 불러온 데이터셋에 대해 pandas 메서드를 활용하여 기본 정보를 확인해봅시다."
      ],
      "metadata": {
        "id": "3hOs58uKQYa6"
      }
    },
    {
      "cell_type": "markdown",
      "source": [
        "#### **2-1. `customer`는 몇 개의 행과 열로 구성되어 있는지 확인해보세요.**\n",
        "\n",
        "> 💡 **Hint)** shape"
      ],
      "metadata": {
        "id": "9ve5Puc5QuKn"
      }
    },
    {
      "cell_type": "code",
      "source": [
        "customer.shape"
      ],
      "metadata": {
        "id": "wNHlRUG8KqAO",
        "colab": {
          "base_uri": "https://localhost:8080/"
        },
        "outputId": "a5ecc391-0ac1-48ca-d1b1-29c3a3953754"
      },
      "execution_count": 7,
      "outputs": [
        {
          "output_type": "execute_result",
          "data": {
            "text/plain": [
              "(4000, 14)"
            ]
          },
          "metadata": {},
          "execution_count": 7
        }
      ]
    },
    {
      "cell_type": "markdown",
      "source": [
        "#### **2-2. `customer`의 정보(column 이름, 결측치 개수, 데이터타입 ...)를 pandas 메서드를 활용하여 확인해보세요.**\n",
        "> 💡 **Hint)** info\n",
        "\n",
        "- 몇 개의 column을 가지고 있는 데이터셋인지 확인해보세요.\n",
        "  - 각 column에 어떤 정보가 들어있는지 확인한 뒤, 무의미한 데이터가 들어있는 column이 있는지도 함께 논의해보세요."
      ],
      "metadata": {
        "id": "T-qz3WCxRBje"
      }
    },
    {
      "cell_type": "code",
      "source": [
        "customer.info()"
      ],
      "metadata": {
        "id": "8fKPtj75OSfF",
        "colab": {
          "base_uri": "https://localhost:8080/"
        },
        "outputId": "2644063c-71ac-45f1-a9c8-f5998c09aad1"
      },
      "execution_count": 8,
      "outputs": [
        {
          "output_type": "stream",
          "name": "stdout",
          "text": [
            "<class 'pandas.core.frame.DataFrame'>\n",
            "RangeIndex: 4000 entries, 0 to 3999\n",
            "Data columns (total 14 columns):\n",
            " #   Column                               Non-Null Count  Dtype  \n",
            "---  ------                               --------------  -----  \n",
            " 0   customer_id                          4000 non-null   int64  \n",
            " 1   first_name                           4000 non-null   object \n",
            " 2   last_name                            3875 non-null   object \n",
            " 3   gender                               4000 non-null   object \n",
            " 4   past_3_years_bike_related_purchases  4000 non-null   int64  \n",
            " 5   DOB                                  3913 non-null   object \n",
            " 6   job_title                            3494 non-null   object \n",
            " 7   job_industry_category                3344 non-null   object \n",
            " 8   wealth_segment                       4000 non-null   object \n",
            " 9   deceased_indicator                   4000 non-null   object \n",
            " 10  default                              2571 non-null   object \n",
            " 11  owns_car                             4000 non-null   object \n",
            " 12  tenure                               3913 non-null   float64\n",
            " 13  Unnamed: 13                          0 non-null      float64\n",
            "dtypes: float64(2), int64(2), object(10)\n",
            "memory usage: 437.6+ KB\n"
          ]
        }
      ]
    },
    {
      "cell_type": "code",
      "source": [
        "customer.isna().sum()"
      ],
      "metadata": {
        "colab": {
          "base_uri": "https://localhost:8080/"
        },
        "id": "eIDo3SsAuudZ",
        "outputId": "967b9488-6e65-4ccb-e201-b85f9968cd9a"
      },
      "execution_count": 11,
      "outputs": [
        {
          "output_type": "execute_result",
          "data": {
            "text/plain": [
              "customer_id                               0\n",
              "first_name                                0\n",
              "last_name                               125\n",
              "gender                                    0\n",
              "past_3_years_bike_related_purchases       0\n",
              "DOB                                      87\n",
              "job_title                               506\n",
              "job_industry_category                   656\n",
              "wealth_segment                            0\n",
              "deceased_indicator                        0\n",
              "default                                1429\n",
              "owns_car                                  0\n",
              "tenure                                   87\n",
              "Unnamed: 13                            4000\n",
              "dtype: int64"
            ]
          },
          "metadata": {},
          "execution_count": 11
        }
      ]
    },
    {
      "cell_type": "markdown",
      "source": [
        "#### **2-3. `customer`에 결측치가 있는지 확인한 뒤, 어떻게 처리하는 것이 좋을지 생각해보세요.**\n",
        "> 💡 **Hint)** missing value, nan, isnull\n",
        "- 결측치 처리 방식에는 크게 두 가지가 있습니다.\n",
        "  - 결측치 대체: 특정 값으로 결측치를 채우는 것\n",
        "  - 결측치 제거: 결측치가 있는 행 또는 열을 제거하는 것\n",
        "\n",
        "- 결측치가 있는 column에는 어떤 것이 있는지 확인해보세요.\n",
        "- 각 column 별로 결측치를 어떻게 처리하는 것이 좋을지 생각해보세요.\n",
        "  - 결측치 처리에 무조건적인 정답은 없으며, 조에서 논의 후 내린 결론을 논리적으로 설명하는 것이 무엇보다 중요합니다."
      ],
      "metadata": {
        "id": "XoaORCSRSThK"
      }
    },
    {
      "cell_type": "code",
      "source": [
        "# default Column의 경우, 결측치 비율이 상당히 높으며, 데이터의 내용 자체도 이해하기 어려워서 열 자체를 제거\n",
        "# Unnamed: 13 Column의 경우, 아예 결측치로만 구성되어 있기 때문에 열 자체를 제거\n",
        "customer.drop(['default','Unnamed: 13'], axis=1, inplace=True)"
      ],
      "metadata": {
        "id": "FtPNqSJBKuUR"
      },
      "execution_count": 12,
      "outputs": []
    },
    {
      "cell_type": "code",
      "source": [
        "# tenure column의 경우, 숫자형이며, 재직기간을 의미하기 때문에 0으로 대체하기 보다는 일단 평균값으로 대체\n",
        "customer['tenure'].fillna(customer['tenure'].mean(), inplace=True)"
      ],
      "metadata": {
        "id": "i9gKhSsY0_F1"
      },
      "execution_count": 20,
      "outputs": []
    },
    {
      "cell_type": "code",
      "source": [
        "# 문자열 타입은 대체하기도 어려워서 일단 행 자체를 제거 (그냥 내비둬도 되긴 하지만, dropna 매서드를 사용해보고 싶어서 제거함)\n",
        "# dropna(axis)하면 na값이 있는 행, 또는 열 자체를 삭제\n",
        "customer.dropna(axis=0, inplace=True)"
      ],
      "metadata": {
        "id": "jZDE2Gj41MGJ"
      },
      "execution_count": 21,
      "outputs": []
    },
    {
      "cell_type": "code",
      "source": [
        "customer.shape"
      ],
      "metadata": {
        "colab": {
          "base_uri": "https://localhost:8080/"
        },
        "id": "Bf9S-3h_wxFv",
        "outputId": "b42367d2-4eb1-45db-f888-76139f013de2"
      },
      "execution_count": 22,
      "outputs": [
        {
          "output_type": "execute_result",
          "data": {
            "text/plain": [
              "(2780, 12)"
            ]
          },
          "metadata": {},
          "execution_count": 22
        }
      ]
    },
    {
      "cell_type": "code",
      "source": [
        "customer.isna().sum()"
      ],
      "metadata": {
        "colab": {
          "base_uri": "https://localhost:8080/"
        },
        "id": "vMEMXwCewsjX",
        "outputId": "b292224e-652d-4664-f737-5c2f4258b606"
      },
      "execution_count": 23,
      "outputs": [
        {
          "output_type": "execute_result",
          "data": {
            "text/plain": [
              "customer_id                            0\n",
              "first_name                             0\n",
              "last_name                              0\n",
              "gender                                 0\n",
              "past_3_years_bike_related_purchases    0\n",
              "DOB                                    0\n",
              "job_title                              0\n",
              "job_industry_category                  0\n",
              "wealth_segment                         0\n",
              "deceased_indicator                     0\n",
              "owns_car                               0\n",
              "tenure                                 0\n",
              "dtype: int64"
            ]
          },
          "metadata": {},
          "execution_count": 23
        }
      ]
    },
    {
      "cell_type": "code",
      "source": [
        "customer.head()"
      ],
      "metadata": {
        "colab": {
          "base_uri": "https://localhost:8080/",
          "height": 250
        },
        "id": "vrtujMGUw5p7",
        "outputId": "076dc7c5-36ea-4ffb-9046-950031cbc29f"
      },
      "execution_count": 24,
      "outputs": [
        {
          "output_type": "execute_result",
          "data": {
            "text/plain": [
              "   customer_id first_name  last_name  gender  \\\n",
              "0            1    Laraine  Medendorp       F   \n",
              "1            2        Eli    Bockman    Male   \n",
              "2            3      Arlin     Dearle    Male   \n",
              "8            9       Mala       Lind  Female   \n",
              "9           10   Fiorenze    Birdall  Female   \n",
              "\n",
              "   past_3_years_bike_related_purchases         DOB  \\\n",
              "0                                   93  1953-10-12   \n",
              "1                                   81  1980-12-16   \n",
              "2                                   61  1954-01-20   \n",
              "8                                   97  1973-03-10   \n",
              "9                                   49  1988-10-11   \n",
              "\n",
              "                              job_title job_industry_category  \\\n",
              "0                   Executive Secretary                Health   \n",
              "1                Administrative Officer    Financial Services   \n",
              "2                    Recruiting Manager              Property   \n",
              "8  Business Systems Development Analyst           Argiculture   \n",
              "9               Senior Quality Engineer    Financial Services   \n",
              "\n",
              "      wealth_segment deceased_indicator owns_car  tenure  \n",
              "0      Mass Customer                  N      Yes    11.0  \n",
              "1      Mass Customer                  N      Yes    16.0  \n",
              "2      Mass Customer                  N      Yes    15.0  \n",
              "8  Affluent Customer                  N      Yes     8.0  \n",
              "9      Mass Customer                  N      Yes    20.0  "
            ],
            "text/html": [
              "\n",
              "  <div id=\"df-c71a0f83-0608-4e8d-90b1-2aae59c4c8d5\">\n",
              "    <div class=\"colab-df-container\">\n",
              "      <div>\n",
              "<style scoped>\n",
              "    .dataframe tbody tr th:only-of-type {\n",
              "        vertical-align: middle;\n",
              "    }\n",
              "\n",
              "    .dataframe tbody tr th {\n",
              "        vertical-align: top;\n",
              "    }\n",
              "\n",
              "    .dataframe thead th {\n",
              "        text-align: right;\n",
              "    }\n",
              "</style>\n",
              "<table border=\"1\" class=\"dataframe\">\n",
              "  <thead>\n",
              "    <tr style=\"text-align: right;\">\n",
              "      <th></th>\n",
              "      <th>customer_id</th>\n",
              "      <th>first_name</th>\n",
              "      <th>last_name</th>\n",
              "      <th>gender</th>\n",
              "      <th>past_3_years_bike_related_purchases</th>\n",
              "      <th>DOB</th>\n",
              "      <th>job_title</th>\n",
              "      <th>job_industry_category</th>\n",
              "      <th>wealth_segment</th>\n",
              "      <th>deceased_indicator</th>\n",
              "      <th>owns_car</th>\n",
              "      <th>tenure</th>\n",
              "    </tr>\n",
              "  </thead>\n",
              "  <tbody>\n",
              "    <tr>\n",
              "      <th>0</th>\n",
              "      <td>1</td>\n",
              "      <td>Laraine</td>\n",
              "      <td>Medendorp</td>\n",
              "      <td>F</td>\n",
              "      <td>93</td>\n",
              "      <td>1953-10-12</td>\n",
              "      <td>Executive Secretary</td>\n",
              "      <td>Health</td>\n",
              "      <td>Mass Customer</td>\n",
              "      <td>N</td>\n",
              "      <td>Yes</td>\n",
              "      <td>11.0</td>\n",
              "    </tr>\n",
              "    <tr>\n",
              "      <th>1</th>\n",
              "      <td>2</td>\n",
              "      <td>Eli</td>\n",
              "      <td>Bockman</td>\n",
              "      <td>Male</td>\n",
              "      <td>81</td>\n",
              "      <td>1980-12-16</td>\n",
              "      <td>Administrative Officer</td>\n",
              "      <td>Financial Services</td>\n",
              "      <td>Mass Customer</td>\n",
              "      <td>N</td>\n",
              "      <td>Yes</td>\n",
              "      <td>16.0</td>\n",
              "    </tr>\n",
              "    <tr>\n",
              "      <th>2</th>\n",
              "      <td>3</td>\n",
              "      <td>Arlin</td>\n",
              "      <td>Dearle</td>\n",
              "      <td>Male</td>\n",
              "      <td>61</td>\n",
              "      <td>1954-01-20</td>\n",
              "      <td>Recruiting Manager</td>\n",
              "      <td>Property</td>\n",
              "      <td>Mass Customer</td>\n",
              "      <td>N</td>\n",
              "      <td>Yes</td>\n",
              "      <td>15.0</td>\n",
              "    </tr>\n",
              "    <tr>\n",
              "      <th>8</th>\n",
              "      <td>9</td>\n",
              "      <td>Mala</td>\n",
              "      <td>Lind</td>\n",
              "      <td>Female</td>\n",
              "      <td>97</td>\n",
              "      <td>1973-03-10</td>\n",
              "      <td>Business Systems Development Analyst</td>\n",
              "      <td>Argiculture</td>\n",
              "      <td>Affluent Customer</td>\n",
              "      <td>N</td>\n",
              "      <td>Yes</td>\n",
              "      <td>8.0</td>\n",
              "    </tr>\n",
              "    <tr>\n",
              "      <th>9</th>\n",
              "      <td>10</td>\n",
              "      <td>Fiorenze</td>\n",
              "      <td>Birdall</td>\n",
              "      <td>Female</td>\n",
              "      <td>49</td>\n",
              "      <td>1988-10-11</td>\n",
              "      <td>Senior Quality Engineer</td>\n",
              "      <td>Financial Services</td>\n",
              "      <td>Mass Customer</td>\n",
              "      <td>N</td>\n",
              "      <td>Yes</td>\n",
              "      <td>20.0</td>\n",
              "    </tr>\n",
              "  </tbody>\n",
              "</table>\n",
              "</div>\n",
              "      <button class=\"colab-df-convert\" onclick=\"convertToInteractive('df-c71a0f83-0608-4e8d-90b1-2aae59c4c8d5')\"\n",
              "              title=\"Convert this dataframe to an interactive table.\"\n",
              "              style=\"display:none;\">\n",
              "        \n",
              "  <svg xmlns=\"http://www.w3.org/2000/svg\" height=\"24px\"viewBox=\"0 0 24 24\"\n",
              "       width=\"24px\">\n",
              "    <path d=\"M0 0h24v24H0V0z\" fill=\"none\"/>\n",
              "    <path d=\"M18.56 5.44l.94 2.06.94-2.06 2.06-.94-2.06-.94-.94-2.06-.94 2.06-2.06.94zm-11 1L8.5 8.5l.94-2.06 2.06-.94-2.06-.94L8.5 2.5l-.94 2.06-2.06.94zm10 10l.94 2.06.94-2.06 2.06-.94-2.06-.94-.94-2.06-.94 2.06-2.06.94z\"/><path d=\"M17.41 7.96l-1.37-1.37c-.4-.4-.92-.59-1.43-.59-.52 0-1.04.2-1.43.59L10.3 9.45l-7.72 7.72c-.78.78-.78 2.05 0 2.83L4 21.41c.39.39.9.59 1.41.59.51 0 1.02-.2 1.41-.59l7.78-7.78 2.81-2.81c.8-.78.8-2.07 0-2.86zM5.41 20L4 18.59l7.72-7.72 1.47 1.35L5.41 20z\"/>\n",
              "  </svg>\n",
              "      </button>\n",
              "      \n",
              "  <style>\n",
              "    .colab-df-container {\n",
              "      display:flex;\n",
              "      flex-wrap:wrap;\n",
              "      gap: 12px;\n",
              "    }\n",
              "\n",
              "    .colab-df-convert {\n",
              "      background-color: #E8F0FE;\n",
              "      border: none;\n",
              "      border-radius: 50%;\n",
              "      cursor: pointer;\n",
              "      display: none;\n",
              "      fill: #1967D2;\n",
              "      height: 32px;\n",
              "      padding: 0 0 0 0;\n",
              "      width: 32px;\n",
              "    }\n",
              "\n",
              "    .colab-df-convert:hover {\n",
              "      background-color: #E2EBFA;\n",
              "      box-shadow: 0px 1px 2px rgba(60, 64, 67, 0.3), 0px 1px 3px 1px rgba(60, 64, 67, 0.15);\n",
              "      fill: #174EA6;\n",
              "    }\n",
              "\n",
              "    [theme=dark] .colab-df-convert {\n",
              "      background-color: #3B4455;\n",
              "      fill: #D2E3FC;\n",
              "    }\n",
              "\n",
              "    [theme=dark] .colab-df-convert:hover {\n",
              "      background-color: #434B5C;\n",
              "      box-shadow: 0px 1px 3px 1px rgba(0, 0, 0, 0.15);\n",
              "      filter: drop-shadow(0px 1px 2px rgba(0, 0, 0, 0.3));\n",
              "      fill: #FFFFFF;\n",
              "    }\n",
              "  </style>\n",
              "\n",
              "      <script>\n",
              "        const buttonEl =\n",
              "          document.querySelector('#df-c71a0f83-0608-4e8d-90b1-2aae59c4c8d5 button.colab-df-convert');\n",
              "        buttonEl.style.display =\n",
              "          google.colab.kernel.accessAllowed ? 'block' : 'none';\n",
              "\n",
              "        async function convertToInteractive(key) {\n",
              "          const element = document.querySelector('#df-c71a0f83-0608-4e8d-90b1-2aae59c4c8d5');\n",
              "          const dataTable =\n",
              "            await google.colab.kernel.invokeFunction('convertToInteractive',\n",
              "                                                     [key], {});\n",
              "          if (!dataTable) return;\n",
              "\n",
              "          const docLinkHtml = 'Like what you see? Visit the ' +\n",
              "            '<a target=\"_blank\" href=https://colab.research.google.com/notebooks/data_table.ipynb>data table notebook</a>'\n",
              "            + ' to learn more about interactive tables.';\n",
              "          element.innerHTML = '';\n",
              "          dataTable['output_type'] = 'display_data';\n",
              "          await google.colab.output.renderOutput(dataTable, element);\n",
              "          const docLink = document.createElement('div');\n",
              "          docLink.innerHTML = docLinkHtml;\n",
              "          element.appendChild(docLink);\n",
              "        }\n",
              "      </script>\n",
              "    </div>\n",
              "  </div>\n",
              "  "
            ]
          },
          "metadata": {},
          "execution_count": 24
        }
      ]
    },
    {
      "cell_type": "markdown",
      "source": [
        "#### **2-4. `customer`에 중복값이 있는지 확인한 뒤, 있다면 제거하세요.**\n",
        "> 💡 **Hint)** duplicated"
      ],
      "metadata": {
        "id": "XXOy98uOSLyq"
      }
    },
    {
      "cell_type": "code",
      "source": [
        "customer.duplicated().sum()\n",
        "# drop_duplicates() 메소드를 통해 중복된 데이터 제거"
      ],
      "metadata": {
        "id": "FqObQ8pOKv0Y",
        "colab": {
          "base_uri": "https://localhost:8080/"
        },
        "outputId": "551955fc-f851-426a-8117-320ea21e7998"
      },
      "execution_count": 25,
      "outputs": [
        {
          "output_type": "execute_result",
          "data": {
            "text/plain": [
              "0"
            ]
          },
          "metadata": {},
          "execution_count": 25
        }
      ]
    },
    {
      "cell_type": "markdown",
      "source": [
        "### **Conclusion**\n",
        "> 오늘 논의한 내용을 바탕으로 아래 항목에 대해 논의하고 답변을 정리해보세요.\n",
        "\n",
        " * 해당 데이터셋은 어떻게 구성되어 있는지 정리해보세요.\n",
        "  - 몇 개의 행과 열로 구성되어 있는 데이터셋인가요?\n",
        "  - 각 컬럼이 어떤 데이터 타입에 속해있나요?\n",
        " * 데이터 전처리 과정을 정리해보세요. (결측치 처리, 중복값 제거)\n",
        "  - 결측치는 몇 개가 있었나요? 어떤 기준으로 제거/대치하셨나요?\n",
        "  - 중복값은 몇 개가 있었나요? 어떤 메소드로 제거하셨나요?\n",
        "\n",
        "</br>\n",
        "*과제를 진행하면서 답을 모두 적었습니다.*"
      ],
      "metadata": {
        "id": "uY2r6kx16ygH"
      }
    }
  ]
}