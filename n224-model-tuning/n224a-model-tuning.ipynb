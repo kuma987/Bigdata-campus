{
  "cells": [
    {
      "cell_type": "markdown",
      "metadata": {
        "id": "view-in-github",
        "colab_type": "text"
      },
      "source": [
        "<a href=\"https://colab.research.google.com/github/kuma987/Bigdata-campus/blob/main/n224-model-tuning/n224a-model-tuning.ipynb\" target=\"_parent\"><img src=\"https://colab.research.google.com/assets/colab-badge.svg\" alt=\"Open In Colab\"/></a>"
      ]
    },
    {
      "cell_type": "markdown",
      "metadata": {
        "id": "eKz7lIFFHrXl"
      },
      "source": [
        "<img align=\"right\" src=\"https://ds-cs-images.s3.ap-northeast-2.amazonaws.com/Codestates_Fulllogo_Color.png\" width=100>\n",
        "\n",
        "## *AIB / SECTION 2 / SPRINT 2 / NOTE 4*\n",
        "\n",
        "# 📝 Assignment\n",
        "---"
      ]
    },
    {
      "cell_type": "markdown",
      "metadata": {
        "id": "dFyZMljNIULR"
      },
      "source": [
        "# 🌱 **기본 과제**\n",
        "\n",
        "캐글 대회를 이어서 진행합니다. "
      ]
    },
    {
      "cell_type": "code",
      "execution_count": null,
      "metadata": {
        "id": "FL6EjgRf996I"
      },
      "outputs": [],
      "source": [
        "!pip install category_encoders\n",
        "!pip install hyperopt"
      ]
    },
    {
      "cell_type": "markdown",
      "metadata": {
        "id": "qcGfRqz2IbQ8"
      },
      "source": [
        "## **Part 1. EDA 및 Feature Engineering**\n",
        "\n",
        "캐글 inclass competition 마지막 날입니다. 더 추가할 EDA와 Feature Engineering이 있다면 진행해주세요!"
      ]
    },
    {
      "cell_type": "code",
      "execution_count": 2,
      "metadata": {
        "id": "6SVlbblXKPfQ"
      },
      "outputs": [],
      "source": [
        "# 데이터셋 불러오기\n",
        "import pandas as pd\n",
        "\n",
        "target = 'vacc_h1n1_f'\n",
        "train = pd.merge(pd.read_csv('https://ds-lecture-data.s3.ap-northeast-2.amazonaws.com/vacc_flu/train.csv'), \n",
        "                 pd.read_csv('https://ds-lecture-data.s3.ap-northeast-2.amazonaws.com/vacc_flu/train_labels.csv')[target], left_index=True, right_index=True)\n",
        "test = pd.read_csv('https://ds-lecture-data.s3.ap-northeast-2.amazonaws.com/vacc_flu/test.csv')\n",
        "sample_submission = pd.read_csv('https://ds-lecture-data.s3.ap-northeast-2.amazonaws.com/vacc_flu/submission.csv')"
      ]
    },
    {
      "cell_type": "code",
      "execution_count": 3,
      "metadata": {
        "id": "8RiGzu8vI08-",
        "outputId": "cdf0bf94-422d-4aa8-962c-67f0101beafe",
        "colab": {
          "base_uri": "https://localhost:8080/",
          "height": 425
        }
      },
      "outputs": [
        {
          "output_type": "execute_result",
          "data": {
            "text/plain": [
              "                             count unique  \\\n",
              "state                        42154     51   \n",
              "employment_occupation        17165     25   \n",
              "employment_industry          17165     23   \n",
              "agegrp                       42154      7   \n",
              "opinion_h1n1_vacc_effective  33375      6   \n",
              "opinion_h1n1_risk            33329      6   \n",
              "opinion_h1n1_sick_from_vacc  33285      6   \n",
              "opinion_seas_vacc_effective  33220      6   \n",
              "opinion_seas_risk            33153      6   \n",
              "opinion_seas_sick_from_vacc  33089      6   \n",
              "employment_status            31876      3   \n",
              "census_msa                   42154      3   \n",
              "\n",
              "                                                                      top  \\\n",
              "state                                                          NEW MEXICO   \n",
              "employment_occupation                              Management Occupations   \n",
              "employment_industry          Health Care and Social Assistance Industries   \n",
              "agegrp                                                          65+ Years   \n",
              "opinion_h1n1_vacc_effective                            Somewhat Effective   \n",
              "opinion_h1n1_risk                                            Somewhat Low   \n",
              "opinion_h1n1_sick_from_vacc                              Not Very Worried   \n",
              "opinion_seas_vacc_effective                            Somewhat Effective   \n",
              "opinion_seas_risk                                            Somewhat Low   \n",
              "opinion_seas_sick_from_vacc                            Not At All Worried   \n",
              "employment_status                                                Employed   \n",
              "census_msa                                        MSA, Not Principle City   \n",
              "\n",
              "                              freq  \n",
              "state                         1017  \n",
              "employment_occupation         2188  \n",
              "employment_industry           3086  \n",
              "agegrp                        8517  \n",
              "opinion_h1n1_vacc_effective  14729  \n",
              "opinion_h1n1_risk            12520  \n",
              "opinion_h1n1_sick_from_vacc  11582  \n",
              "opinion_seas_vacc_effective  14543  \n",
              "opinion_seas_risk            11397  \n",
              "opinion_seas_sick_from_vacc  14749  \n",
              "employment_status            17173  \n",
              "census_msa                   18957  "
            ],
            "text/html": [
              "\n",
              "  <div id=\"df-577fc90a-dab4-43dc-b51d-50fbba3b833d\">\n",
              "    <div class=\"colab-df-container\">\n",
              "      <div>\n",
              "<style scoped>\n",
              "    .dataframe tbody tr th:only-of-type {\n",
              "        vertical-align: middle;\n",
              "    }\n",
              "\n",
              "    .dataframe tbody tr th {\n",
              "        vertical-align: top;\n",
              "    }\n",
              "\n",
              "    .dataframe thead th {\n",
              "        text-align: right;\n",
              "    }\n",
              "</style>\n",
              "<table border=\"1\" class=\"dataframe\">\n",
              "  <thead>\n",
              "    <tr style=\"text-align: right;\">\n",
              "      <th></th>\n",
              "      <th>count</th>\n",
              "      <th>unique</th>\n",
              "      <th>top</th>\n",
              "      <th>freq</th>\n",
              "    </tr>\n",
              "  </thead>\n",
              "  <tbody>\n",
              "    <tr>\n",
              "      <th>state</th>\n",
              "      <td>42154</td>\n",
              "      <td>51</td>\n",
              "      <td>NEW MEXICO</td>\n",
              "      <td>1017</td>\n",
              "    </tr>\n",
              "    <tr>\n",
              "      <th>employment_occupation</th>\n",
              "      <td>17165</td>\n",
              "      <td>25</td>\n",
              "      <td>Management Occupations</td>\n",
              "      <td>2188</td>\n",
              "    </tr>\n",
              "    <tr>\n",
              "      <th>employment_industry</th>\n",
              "      <td>17165</td>\n",
              "      <td>23</td>\n",
              "      <td>Health Care and Social Assistance Industries</td>\n",
              "      <td>3086</td>\n",
              "    </tr>\n",
              "    <tr>\n",
              "      <th>agegrp</th>\n",
              "      <td>42154</td>\n",
              "      <td>7</td>\n",
              "      <td>65+ Years</td>\n",
              "      <td>8517</td>\n",
              "    </tr>\n",
              "    <tr>\n",
              "      <th>opinion_h1n1_vacc_effective</th>\n",
              "      <td>33375</td>\n",
              "      <td>6</td>\n",
              "      <td>Somewhat Effective</td>\n",
              "      <td>14729</td>\n",
              "    </tr>\n",
              "    <tr>\n",
              "      <th>opinion_h1n1_risk</th>\n",
              "      <td>33329</td>\n",
              "      <td>6</td>\n",
              "      <td>Somewhat Low</td>\n",
              "      <td>12520</td>\n",
              "    </tr>\n",
              "    <tr>\n",
              "      <th>opinion_h1n1_sick_from_vacc</th>\n",
              "      <td>33285</td>\n",
              "      <td>6</td>\n",
              "      <td>Not Very Worried</td>\n",
              "      <td>11582</td>\n",
              "    </tr>\n",
              "    <tr>\n",
              "      <th>opinion_seas_vacc_effective</th>\n",
              "      <td>33220</td>\n",
              "      <td>6</td>\n",
              "      <td>Somewhat Effective</td>\n",
              "      <td>14543</td>\n",
              "    </tr>\n",
              "    <tr>\n",
              "      <th>opinion_seas_risk</th>\n",
              "      <td>33153</td>\n",
              "      <td>6</td>\n",
              "      <td>Somewhat Low</td>\n",
              "      <td>11397</td>\n",
              "    </tr>\n",
              "    <tr>\n",
              "      <th>opinion_seas_sick_from_vacc</th>\n",
              "      <td>33089</td>\n",
              "      <td>6</td>\n",
              "      <td>Not At All Worried</td>\n",
              "      <td>14749</td>\n",
              "    </tr>\n",
              "    <tr>\n",
              "      <th>employment_status</th>\n",
              "      <td>31876</td>\n",
              "      <td>3</td>\n",
              "      <td>Employed</td>\n",
              "      <td>17173</td>\n",
              "    </tr>\n",
              "    <tr>\n",
              "      <th>census_msa</th>\n",
              "      <td>42154</td>\n",
              "      <td>3</td>\n",
              "      <td>MSA, Not Principle City</td>\n",
              "      <td>18957</td>\n",
              "    </tr>\n",
              "  </tbody>\n",
              "</table>\n",
              "</div>\n",
              "      <button class=\"colab-df-convert\" onclick=\"convertToInteractive('df-577fc90a-dab4-43dc-b51d-50fbba3b833d')\"\n",
              "              title=\"Convert this dataframe to an interactive table.\"\n",
              "              style=\"display:none;\">\n",
              "        \n",
              "  <svg xmlns=\"http://www.w3.org/2000/svg\" height=\"24px\"viewBox=\"0 0 24 24\"\n",
              "       width=\"24px\">\n",
              "    <path d=\"M0 0h24v24H0V0z\" fill=\"none\"/>\n",
              "    <path d=\"M18.56 5.44l.94 2.06.94-2.06 2.06-.94-2.06-.94-.94-2.06-.94 2.06-2.06.94zm-11 1L8.5 8.5l.94-2.06 2.06-.94-2.06-.94L8.5 2.5l-.94 2.06-2.06.94zm10 10l.94 2.06.94-2.06 2.06-.94-2.06-.94-.94-2.06-.94 2.06-2.06.94z\"/><path d=\"M17.41 7.96l-1.37-1.37c-.4-.4-.92-.59-1.43-.59-.52 0-1.04.2-1.43.59L10.3 9.45l-7.72 7.72c-.78.78-.78 2.05 0 2.83L4 21.41c.39.39.9.59 1.41.59.51 0 1.02-.2 1.41-.59l7.78-7.78 2.81-2.81c.8-.78.8-2.07 0-2.86zM5.41 20L4 18.59l7.72-7.72 1.47 1.35L5.41 20z\"/>\n",
              "  </svg>\n",
              "      </button>\n",
              "      \n",
              "  <style>\n",
              "    .colab-df-container {\n",
              "      display:flex;\n",
              "      flex-wrap:wrap;\n",
              "      gap: 12px;\n",
              "    }\n",
              "\n",
              "    .colab-df-convert {\n",
              "      background-color: #E8F0FE;\n",
              "      border: none;\n",
              "      border-radius: 50%;\n",
              "      cursor: pointer;\n",
              "      display: none;\n",
              "      fill: #1967D2;\n",
              "      height: 32px;\n",
              "      padding: 0 0 0 0;\n",
              "      width: 32px;\n",
              "    }\n",
              "\n",
              "    .colab-df-convert:hover {\n",
              "      background-color: #E2EBFA;\n",
              "      box-shadow: 0px 1px 2px rgba(60, 64, 67, 0.3), 0px 1px 3px 1px rgba(60, 64, 67, 0.15);\n",
              "      fill: #174EA6;\n",
              "    }\n",
              "\n",
              "    [theme=dark] .colab-df-convert {\n",
              "      background-color: #3B4455;\n",
              "      fill: #D2E3FC;\n",
              "    }\n",
              "\n",
              "    [theme=dark] .colab-df-convert:hover {\n",
              "      background-color: #434B5C;\n",
              "      box-shadow: 0px 1px 3px 1px rgba(0, 0, 0, 0.15);\n",
              "      filter: drop-shadow(0px 1px 2px rgba(0, 0, 0, 0.3));\n",
              "      fill: #FFFFFF;\n",
              "    }\n",
              "  </style>\n",
              "\n",
              "      <script>\n",
              "        const buttonEl =\n",
              "          document.querySelector('#df-577fc90a-dab4-43dc-b51d-50fbba3b833d button.colab-df-convert');\n",
              "        buttonEl.style.display =\n",
              "          google.colab.kernel.accessAllowed ? 'block' : 'none';\n",
              "\n",
              "        async function convertToInteractive(key) {\n",
              "          const element = document.querySelector('#df-577fc90a-dab4-43dc-b51d-50fbba3b833d');\n",
              "          const dataTable =\n",
              "            await google.colab.kernel.invokeFunction('convertToInteractive',\n",
              "                                                     [key], {});\n",
              "          if (!dataTable) return;\n",
              "\n",
              "          const docLinkHtml = 'Like what you see? Visit the ' +\n",
              "            '<a target=\"_blank\" href=https://colab.research.google.com/notebooks/data_table.ipynb>data table notebook</a>'\n",
              "            + ' to learn more about interactive tables.';\n",
              "          element.innerHTML = '';\n",
              "          dataTable['output_type'] = 'display_data';\n",
              "          await google.colab.output.renderOutput(dataTable, element);\n",
              "          const docLink = document.createElement('div');\n",
              "          docLink.innerHTML = docLinkHtml;\n",
              "          element.appendChild(docLink);\n",
              "        }\n",
              "      </script>\n",
              "    </div>\n",
              "  </div>\n",
              "  "
            ]
          },
          "metadata": {},
          "execution_count": 3
        }
      ],
      "source": [
        "# train 데이터에서 범주형 변수들의 카디널리티 확인 \n",
        "ordinal_card = train.describe(exclude=\"number\").T.sort_values(\"unique\", ascending=False)\n",
        "ordinal_card"
      ]
    },
    {
      "cell_type": "code",
      "source": [
        "# train 데이터에서 카디널리티가 10 이상인 범주형 변수 추출\n",
        "card_many = ordinal_card.query(\"unique >= 10\").index"
      ],
      "metadata": {
        "id": "w4Wt1gtKPNAh"
      },
      "execution_count": 4,
      "outputs": []
    },
    {
      "cell_type": "code",
      "source": [
        "# train과 test 데이터에서 해당 칼럼 제거\n",
        "train.drop(card_many, axis=1, inplace=True)\n",
        "test.drop(card_many, axis=1, inplace=True)"
      ],
      "metadata": {
        "id": "m7r-ZWKKPtWr"
      },
      "execution_count": 5,
      "outputs": []
    },
    {
      "cell_type": "code",
      "source": [
        "# 특성과 타겟 분할\n",
        "X_train = train.drop(target,axis=1)\n",
        "y_train = train[target]"
      ],
      "metadata": {
        "id": "zi7xSgPQRqkK"
      },
      "execution_count": 6,
      "outputs": []
    },
    {
      "cell_type": "code",
      "source": [
        "# 데이터 분할\n",
        "from sklearn.model_selection import train_test_split\n",
        "\n",
        "X_train, X_val, y_train, y_val = train_test_split(X_train, y_train, test_size = 0.2, stratify = y_train)"
      ],
      "metadata": {
        "id": "b2PigwaSSb7U"
      },
      "execution_count": 7,
      "outputs": []
    },
    {
      "cell_type": "markdown",
      "metadata": {
        "id": "ZEHL1ibqU44O"
      },
      "source": [
        "## **Part 2. Hyperparameter Tuning**"
      ]
    },
    {
      "cell_type": "markdown",
      "metadata": {
        "id": "pG2W906aVbu1"
      },
      "source": [
        "### **2-1. 모델 학습**\n",
        "- Randomforest 혹은 XGBoost를 학습시키세요.\n",
        "- 분류 문제에 맞는 scoring parameter metric을 사용하세요.\n",
        "- OrdinalEncoder 혹은 TargetEncoder 사용을 권합니다.\n",
        "- Grid 또는 Randomized Search CV를 사용해서 하이퍼파라미터 튜닝을 진행하고, 최고 성능을 보이는 모델로 예측을 진행한 후 캐글에 제출합니다."
      ]
    },
    {
      "cell_type": "code",
      "source": [
        "# 학습에 사용할 파이프라인 구성\n",
        "\n",
        "from category_encoders import OrdinalEncoder\n",
        "from sklearn.impute import SimpleImputer\n",
        "from xgboost import XGBClassifier\n",
        "from sklearn.pipeline import make_pipeline\n",
        "\n",
        "pipe = make_pipeline(\n",
        "    OrdinalEncoder(),\n",
        "    SimpleImputer(strategy=\"median\"),\n",
        "    XGBClassifier(\n",
        "        objective=\"binary:logistic\",\n",
        "        eval_metric=\"error\",\n",
        "        n_estimators=200,\n",
        "        random_state=42,\n",
        "        n_jobs=-1\n",
        "    ),\n",
        ")\n",
        "print(pipe)"
      ],
      "metadata": {
        "colab": {
          "base_uri": "https://localhost:8080/"
        },
        "id": "-dBzV7xu8rjB",
        "outputId": "dd07c743-914a-4988-8de9-4f65c40ec795"
      },
      "execution_count": 26,
      "outputs": [
        {
          "output_type": "stream",
          "name": "stdout",
          "text": [
            "Pipeline(steps=[('ordinalencoder', OrdinalEncoder()),\n",
            "                ('simpleimputer', SimpleImputer(strategy='median')),\n",
            "                ('xgbclassifier',\n",
            "                 XGBClassifier(base_score=None, booster=None, callbacks=None,\n",
            "                               colsample_bylevel=None, colsample_bynode=None,\n",
            "                               colsample_bytree=None,\n",
            "                               early_stopping_rounds=None,\n",
            "                               enable_categorical=False, eval_metric='error',\n",
            "                               feature_types=None, gamma=None, gpu_id=None,\n",
            "                               grow_policy=None, importance_type=None,\n",
            "                               interaction_constraints=None, learning_rate=None,\n",
            "                               max_bin=None, max_cat_threshold=None,\n",
            "                               max_cat_to_onehot=None, max_delta_step=None,\n",
            "                               max_depth=None, max_leaves=None,\n",
            "                               min_child_weight=None, missing=nan,\n",
            "                               monotone_constraints=None, n_estimators=200,\n",
            "                               n_jobs=-1, num_parallel_tree=None,\n",
            "                               predictor=None, random_state=42, ...))])\n"
          ]
        }
      ]
    },
    {
      "cell_type": "markdown",
      "source": [
        "#### Exhaustive Grid Search"
      ],
      "metadata": {
        "id": "Wj07yJYR8Rus"
      }
    },
    {
      "cell_type": "markdown",
      "source": [
        "##### 파라미터 서치"
      ],
      "metadata": {
        "id": "jmXOXF1INlKR"
      }
    },
    {
      "cell_type": "code",
      "source": [
        "params = {\n",
        "    \"xgbclassifier__max_depth\": [2, 4, 6],\n",
        "    \"xgbclassifier__learning_rate\" : [0.05, 0.1, 0.2],\n",
        "    \"xgbclassifier__min_child_weight\": [2, 4, 8],\n",
        "    \"xgbclassifier__colsample_bytree\": [0.6, 0.8, 1.0],\n",
        "}\n"
      ],
      "metadata": {
        "id": "Lyr7O4xG8cEz"
      },
      "execution_count": 27,
      "outputs": []
    },
    {
      "cell_type": "code",
      "source": [
        "from sklearn.model_selection import GridSearchCV\n",
        "\n",
        "grid_search = GridSearchCV(pipe, param_grid=params, scoring=\"f1\", cv=3, verbose=3)\n",
        "grid_search.fit(X_train, y_train)"
      ],
      "metadata": {
        "colab": {
          "base_uri": "https://localhost:8080/",
          "height": 1000
        },
        "id": "qKx9emJ99g2U",
        "outputId": "d2f38d02-b546-4847-8e07-51ef57c68308"
      },
      "execution_count": 28,
      "outputs": [
        {
          "output_type": "stream",
          "name": "stdout",
          "text": [
            "Fitting 3 folds for each of 81 candidates, totalling 243 fits\n",
            "[CV 1/3] END xgbclassifier__colsample_bytree=0.6, xgbclassifier__learning_rate=0.05, xgbclassifier__max_depth=2, xgbclassifier__min_child_weight=2;, score=0.543 total time=   2.5s\n",
            "[CV 2/3] END xgbclassifier__colsample_bytree=0.6, xgbclassifier__learning_rate=0.05, xgbclassifier__max_depth=2, xgbclassifier__min_child_weight=2;, score=0.561 total time=   3.9s\n",
            "[CV 3/3] END xgbclassifier__colsample_bytree=0.6, xgbclassifier__learning_rate=0.05, xgbclassifier__max_depth=2, xgbclassifier__min_child_weight=2;, score=0.543 total time=   2.2s\n",
            "[CV 1/3] END xgbclassifier__colsample_bytree=0.6, xgbclassifier__learning_rate=0.05, xgbclassifier__max_depth=2, xgbclassifier__min_child_weight=4;, score=0.543 total time=   3.9s\n",
            "[CV 2/3] END xgbclassifier__colsample_bytree=0.6, xgbclassifier__learning_rate=0.05, xgbclassifier__max_depth=2, xgbclassifier__min_child_weight=4;, score=0.561 total time=   2.2s\n",
            "[CV 3/3] END xgbclassifier__colsample_bytree=0.6, xgbclassifier__learning_rate=0.05, xgbclassifier__max_depth=2, xgbclassifier__min_child_weight=4;, score=0.542 total time=   2.2s\n",
            "[CV 1/3] END xgbclassifier__colsample_bytree=0.6, xgbclassifier__learning_rate=0.05, xgbclassifier__max_depth=2, xgbclassifier__min_child_weight=8;, score=0.543 total time=   2.2s\n",
            "[CV 2/3] END xgbclassifier__colsample_bytree=0.6, xgbclassifier__learning_rate=0.05, xgbclassifier__max_depth=2, xgbclassifier__min_child_weight=8;, score=0.563 total time=   2.3s\n",
            "[CV 3/3] END xgbclassifier__colsample_bytree=0.6, xgbclassifier__learning_rate=0.05, xgbclassifier__max_depth=2, xgbclassifier__min_child_weight=8;, score=0.541 total time=   3.6s\n",
            "[CV 1/3] END xgbclassifier__colsample_bytree=0.6, xgbclassifier__learning_rate=0.05, xgbclassifier__max_depth=4, xgbclassifier__min_child_weight=2;, score=0.544 total time=   3.8s\n",
            "[CV 2/3] END xgbclassifier__colsample_bytree=0.6, xgbclassifier__learning_rate=0.05, xgbclassifier__max_depth=4, xgbclassifier__min_child_weight=2;, score=0.565 total time=   3.7s\n",
            "[CV 3/3] END xgbclassifier__colsample_bytree=0.6, xgbclassifier__learning_rate=0.05, xgbclassifier__max_depth=4, xgbclassifier__min_child_weight=2;, score=0.559 total time=   5.4s\n",
            "[CV 1/3] END xgbclassifier__colsample_bytree=0.6, xgbclassifier__learning_rate=0.05, xgbclassifier__max_depth=4, xgbclassifier__min_child_weight=4;, score=0.544 total time=   3.7s\n",
            "[CV 2/3] END xgbclassifier__colsample_bytree=0.6, xgbclassifier__learning_rate=0.05, xgbclassifier__max_depth=4, xgbclassifier__min_child_weight=4;, score=0.566 total time=   3.7s\n",
            "[CV 3/3] END xgbclassifier__colsample_bytree=0.6, xgbclassifier__learning_rate=0.05, xgbclassifier__max_depth=4, xgbclassifier__min_child_weight=4;, score=0.555 total time=   5.3s\n",
            "[CV 1/3] END xgbclassifier__colsample_bytree=0.6, xgbclassifier__learning_rate=0.05, xgbclassifier__max_depth=4, xgbclassifier__min_child_weight=8;, score=0.546 total time=   5.0s\n",
            "[CV 2/3] END xgbclassifier__colsample_bytree=0.6, xgbclassifier__learning_rate=0.05, xgbclassifier__max_depth=4, xgbclassifier__min_child_weight=8;, score=0.567 total time=   7.0s\n",
            "[CV 3/3] END xgbclassifier__colsample_bytree=0.6, xgbclassifier__learning_rate=0.05, xgbclassifier__max_depth=4, xgbclassifier__min_child_weight=8;, score=0.556 total time=   3.7s\n",
            "[CV 1/3] END xgbclassifier__colsample_bytree=0.6, xgbclassifier__learning_rate=0.05, xgbclassifier__max_depth=6, xgbclassifier__min_child_weight=2;, score=0.550 total time=   6.0s\n",
            "[CV 2/3] END xgbclassifier__colsample_bytree=0.6, xgbclassifier__learning_rate=0.05, xgbclassifier__max_depth=6, xgbclassifier__min_child_weight=2;, score=0.565 total time=   6.9s\n",
            "[CV 3/3] END xgbclassifier__colsample_bytree=0.6, xgbclassifier__learning_rate=0.05, xgbclassifier__max_depth=6, xgbclassifier__min_child_weight=2;, score=0.559 total time=   7.4s\n",
            "[CV 1/3] END xgbclassifier__colsample_bytree=0.6, xgbclassifier__learning_rate=0.05, xgbclassifier__max_depth=6, xgbclassifier__min_child_weight=4;, score=0.549 total time=   5.7s\n",
            "[CV 2/3] END xgbclassifier__colsample_bytree=0.6, xgbclassifier__learning_rate=0.05, xgbclassifier__max_depth=6, xgbclassifier__min_child_weight=4;, score=0.566 total time=   7.3s\n",
            "[CV 3/3] END xgbclassifier__colsample_bytree=0.6, xgbclassifier__learning_rate=0.05, xgbclassifier__max_depth=6, xgbclassifier__min_child_weight=4;, score=0.558 total time=   5.7s\n",
            "[CV 1/3] END xgbclassifier__colsample_bytree=0.6, xgbclassifier__learning_rate=0.05, xgbclassifier__max_depth=6, xgbclassifier__min_child_weight=8;, score=0.550 total time=   7.5s\n",
            "[CV 2/3] END xgbclassifier__colsample_bytree=0.6, xgbclassifier__learning_rate=0.05, xgbclassifier__max_depth=6, xgbclassifier__min_child_weight=8;, score=0.567 total time=   7.0s\n",
            "[CV 3/3] END xgbclassifier__colsample_bytree=0.6, xgbclassifier__learning_rate=0.05, xgbclassifier__max_depth=6, xgbclassifier__min_child_weight=8;, score=0.556 total time=   7.3s\n",
            "[CV 1/3] END xgbclassifier__colsample_bytree=0.6, xgbclassifier__learning_rate=0.1, xgbclassifier__max_depth=2, xgbclassifier__min_child_weight=2;, score=0.546 total time=   2.2s\n",
            "[CV 2/3] END xgbclassifier__colsample_bytree=0.6, xgbclassifier__learning_rate=0.1, xgbclassifier__max_depth=2, xgbclassifier__min_child_weight=2;, score=0.564 total time=   2.2s\n",
            "[CV 3/3] END xgbclassifier__colsample_bytree=0.6, xgbclassifier__learning_rate=0.1, xgbclassifier__max_depth=2, xgbclassifier__min_child_weight=2;, score=0.549 total time=   3.9s\n",
            "[CV 1/3] END xgbclassifier__colsample_bytree=0.6, xgbclassifier__learning_rate=0.1, xgbclassifier__max_depth=2, xgbclassifier__min_child_weight=4;, score=0.548 total time=   2.2s\n",
            "[CV 2/3] END xgbclassifier__colsample_bytree=0.6, xgbclassifier__learning_rate=0.1, xgbclassifier__max_depth=2, xgbclassifier__min_child_weight=4;, score=0.563 total time=   2.2s\n",
            "[CV 3/3] END xgbclassifier__colsample_bytree=0.6, xgbclassifier__learning_rate=0.1, xgbclassifier__max_depth=2, xgbclassifier__min_child_weight=4;, score=0.549 total time=   2.2s\n",
            "[CV 1/3] END xgbclassifier__colsample_bytree=0.6, xgbclassifier__learning_rate=0.1, xgbclassifier__max_depth=2, xgbclassifier__min_child_weight=8;, score=0.547 total time=   2.2s\n",
            "[CV 2/3] END xgbclassifier__colsample_bytree=0.6, xgbclassifier__learning_rate=0.1, xgbclassifier__max_depth=2, xgbclassifier__min_child_weight=8;, score=0.564 total time=   3.8s\n",
            "[CV 3/3] END xgbclassifier__colsample_bytree=0.6, xgbclassifier__learning_rate=0.1, xgbclassifier__max_depth=2, xgbclassifier__min_child_weight=8;, score=0.550 total time=   2.2s\n",
            "[CV 1/3] END xgbclassifier__colsample_bytree=0.6, xgbclassifier__learning_rate=0.1, xgbclassifier__max_depth=4, xgbclassifier__min_child_weight=2;, score=0.554 total time=   3.8s\n",
            "[CV 2/3] END xgbclassifier__colsample_bytree=0.6, xgbclassifier__learning_rate=0.1, xgbclassifier__max_depth=4, xgbclassifier__min_child_weight=2;, score=0.568 total time=   5.5s\n",
            "[CV 3/3] END xgbclassifier__colsample_bytree=0.6, xgbclassifier__learning_rate=0.1, xgbclassifier__max_depth=4, xgbclassifier__min_child_weight=2;, score=0.563 total time=   3.8s\n",
            "[CV 1/3] END xgbclassifier__colsample_bytree=0.6, xgbclassifier__learning_rate=0.1, xgbclassifier__max_depth=4, xgbclassifier__min_child_weight=4;, score=0.553 total time=   5.4s\n",
            "[CV 2/3] END xgbclassifier__colsample_bytree=0.6, xgbclassifier__learning_rate=0.1, xgbclassifier__max_depth=4, xgbclassifier__min_child_weight=4;, score=0.566 total time=   5.3s\n",
            "[CV 3/3] END xgbclassifier__colsample_bytree=0.6, xgbclassifier__learning_rate=0.1, xgbclassifier__max_depth=4, xgbclassifier__min_child_weight=4;, score=0.560 total time=   3.7s\n",
            "[CV 1/3] END xgbclassifier__colsample_bytree=0.6, xgbclassifier__learning_rate=0.1, xgbclassifier__max_depth=4, xgbclassifier__min_child_weight=8;, score=0.551 total time=   5.4s\n",
            "[CV 2/3] END xgbclassifier__colsample_bytree=0.6, xgbclassifier__learning_rate=0.1, xgbclassifier__max_depth=4, xgbclassifier__min_child_weight=8;, score=0.567 total time=   3.8s\n",
            "[CV 3/3] END xgbclassifier__colsample_bytree=0.6, xgbclassifier__learning_rate=0.1, xgbclassifier__max_depth=4, xgbclassifier__min_child_weight=8;, score=0.560 total time=   3.7s\n",
            "[CV 1/3] END xgbclassifier__colsample_bytree=0.6, xgbclassifier__learning_rate=0.1, xgbclassifier__max_depth=6, xgbclassifier__min_child_weight=2;, score=0.547 total time=   7.4s\n",
            "[CV 2/3] END xgbclassifier__colsample_bytree=0.6, xgbclassifier__learning_rate=0.1, xgbclassifier__max_depth=6, xgbclassifier__min_child_weight=2;, score=0.558 total time=   5.6s\n",
            "[CV 3/3] END xgbclassifier__colsample_bytree=0.6, xgbclassifier__learning_rate=0.1, xgbclassifier__max_depth=6, xgbclassifier__min_child_weight=2;, score=0.549 total time=   7.3s\n",
            "[CV 1/3] END xgbclassifier__colsample_bytree=0.6, xgbclassifier__learning_rate=0.1, xgbclassifier__max_depth=6, xgbclassifier__min_child_weight=4;, score=0.553 total time=   5.7s\n",
            "[CV 2/3] END xgbclassifier__colsample_bytree=0.6, xgbclassifier__learning_rate=0.1, xgbclassifier__max_depth=6, xgbclassifier__min_child_weight=4;, score=0.565 total time=  10.7s\n",
            "[CV 3/3] END xgbclassifier__colsample_bytree=0.6, xgbclassifier__learning_rate=0.1, xgbclassifier__max_depth=6, xgbclassifier__min_child_weight=4;, score=0.554 total time=   7.3s\n",
            "[CV 1/3] END xgbclassifier__colsample_bytree=0.6, xgbclassifier__learning_rate=0.1, xgbclassifier__max_depth=6, xgbclassifier__min_child_weight=8;, score=0.550 total time=   5.7s\n",
            "[CV 2/3] END xgbclassifier__colsample_bytree=0.6, xgbclassifier__learning_rate=0.1, xgbclassifier__max_depth=6, xgbclassifier__min_child_weight=8;, score=0.561 total time=   7.3s\n",
            "[CV 3/3] END xgbclassifier__colsample_bytree=0.6, xgbclassifier__learning_rate=0.1, xgbclassifier__max_depth=6, xgbclassifier__min_child_weight=8;, score=0.550 total time=   5.6s\n",
            "[CV 1/3] END xgbclassifier__colsample_bytree=0.6, xgbclassifier__learning_rate=0.2, xgbclassifier__max_depth=2, xgbclassifier__min_child_weight=2;, score=0.555 total time=   3.8s\n",
            "[CV 2/3] END xgbclassifier__colsample_bytree=0.6, xgbclassifier__learning_rate=0.2, xgbclassifier__max_depth=2, xgbclassifier__min_child_weight=2;, score=0.566 total time=   2.2s\n",
            "[CV 3/3] END xgbclassifier__colsample_bytree=0.6, xgbclassifier__learning_rate=0.2, xgbclassifier__max_depth=2, xgbclassifier__min_child_weight=2;, score=0.554 total time=   2.2s\n",
            "[CV 1/3] END xgbclassifier__colsample_bytree=0.6, xgbclassifier__learning_rate=0.2, xgbclassifier__max_depth=2, xgbclassifier__min_child_weight=4;, score=0.553 total time=   2.2s\n",
            "[CV 2/3] END xgbclassifier__colsample_bytree=0.6, xgbclassifier__learning_rate=0.2, xgbclassifier__max_depth=2, xgbclassifier__min_child_weight=4;, score=0.564 total time=   2.4s\n",
            "[CV 3/3] END xgbclassifier__colsample_bytree=0.6, xgbclassifier__learning_rate=0.2, xgbclassifier__max_depth=2, xgbclassifier__min_child_weight=4;, score=0.553 total time=   3.6s\n",
            "[CV 1/3] END xgbclassifier__colsample_bytree=0.6, xgbclassifier__learning_rate=0.2, xgbclassifier__max_depth=2, xgbclassifier__min_child_weight=8;, score=0.554 total time=   2.2s\n",
            "[CV 2/3] END xgbclassifier__colsample_bytree=0.6, xgbclassifier__learning_rate=0.2, xgbclassifier__max_depth=2, xgbclassifier__min_child_weight=8;, score=0.563 total time=   2.2s\n",
            "[CV 3/3] END xgbclassifier__colsample_bytree=0.6, xgbclassifier__learning_rate=0.2, xgbclassifier__max_depth=2, xgbclassifier__min_child_weight=8;, score=0.556 total time=   3.9s\n",
            "[CV 1/3] END xgbclassifier__colsample_bytree=0.6, xgbclassifier__learning_rate=0.2, xgbclassifier__max_depth=4, xgbclassifier__min_child_weight=2;, score=0.553 total time=   5.4s\n",
            "[CV 2/3] END xgbclassifier__colsample_bytree=0.6, xgbclassifier__learning_rate=0.2, xgbclassifier__max_depth=4, xgbclassifier__min_child_weight=2;, score=0.562 total time=   3.7s\n",
            "[CV 3/3] END xgbclassifier__colsample_bytree=0.6, xgbclassifier__learning_rate=0.2, xgbclassifier__max_depth=4, xgbclassifier__min_child_weight=2;, score=0.553 total time=   5.4s\n",
            "[CV 1/3] END xgbclassifier__colsample_bytree=0.6, xgbclassifier__learning_rate=0.2, xgbclassifier__max_depth=4, xgbclassifier__min_child_weight=4;, score=0.552 total time=   3.7s\n",
            "[CV 2/3] END xgbclassifier__colsample_bytree=0.6, xgbclassifier__learning_rate=0.2, xgbclassifier__max_depth=4, xgbclassifier__min_child_weight=4;, score=0.566 total time=   3.8s\n",
            "[CV 3/3] END xgbclassifier__colsample_bytree=0.6, xgbclassifier__learning_rate=0.2, xgbclassifier__max_depth=4, xgbclassifier__min_child_weight=4;, score=0.555 total time=   5.4s\n",
            "[CV 1/3] END xgbclassifier__colsample_bytree=0.6, xgbclassifier__learning_rate=0.2, xgbclassifier__max_depth=4, xgbclassifier__min_child_weight=8;, score=0.550 total time=   3.7s\n",
            "[CV 2/3] END xgbclassifier__colsample_bytree=0.6, xgbclassifier__learning_rate=0.2, xgbclassifier__max_depth=4, xgbclassifier__min_child_weight=8;, score=0.572 total time=   3.8s\n",
            "[CV 3/3] END xgbclassifier__colsample_bytree=0.6, xgbclassifier__learning_rate=0.2, xgbclassifier__max_depth=4, xgbclassifier__min_child_weight=8;, score=0.552 total time=   5.4s\n",
            "[CV 1/3] END xgbclassifier__colsample_bytree=0.6, xgbclassifier__learning_rate=0.2, xgbclassifier__max_depth=6, xgbclassifier__min_child_weight=2;, score=0.547 total time=   5.7s\n",
            "[CV 2/3] END xgbclassifier__colsample_bytree=0.6, xgbclassifier__learning_rate=0.2, xgbclassifier__max_depth=6, xgbclassifier__min_child_weight=2;, score=0.549 total time=   9.0s\n",
            "[CV 3/3] END xgbclassifier__colsample_bytree=0.6, xgbclassifier__learning_rate=0.2, xgbclassifier__max_depth=6, xgbclassifier__min_child_weight=2;, score=0.541 total time=   5.8s\n",
            "[CV 1/3] END xgbclassifier__colsample_bytree=0.6, xgbclassifier__learning_rate=0.2, xgbclassifier__max_depth=6, xgbclassifier__min_child_weight=4;, score=0.552 total time=   7.1s\n",
            "[CV 2/3] END xgbclassifier__colsample_bytree=0.6, xgbclassifier__learning_rate=0.2, xgbclassifier__max_depth=6, xgbclassifier__min_child_weight=4;, score=0.555 total time=   7.3s\n",
            "[CV 3/3] END xgbclassifier__colsample_bytree=0.6, xgbclassifier__learning_rate=0.2, xgbclassifier__max_depth=6, xgbclassifier__min_child_weight=4;, score=0.542 total time=   5.6s\n",
            "[CV 1/3] END xgbclassifier__colsample_bytree=0.6, xgbclassifier__learning_rate=0.2, xgbclassifier__max_depth=6, xgbclassifier__min_child_weight=8;, score=0.548 total time=   7.4s\n",
            "[CV 2/3] END xgbclassifier__colsample_bytree=0.6, xgbclassifier__learning_rate=0.2, xgbclassifier__max_depth=6, xgbclassifier__min_child_weight=8;, score=0.541 total time=   5.6s\n",
            "[CV 3/3] END xgbclassifier__colsample_bytree=0.6, xgbclassifier__learning_rate=0.2, xgbclassifier__max_depth=6, xgbclassifier__min_child_weight=8;, score=0.542 total time=   7.3s\n",
            "[CV 1/3] END xgbclassifier__colsample_bytree=0.8, xgbclassifier__learning_rate=0.05, xgbclassifier__max_depth=2, xgbclassifier__min_child_weight=2;, score=0.542 total time=   2.5s\n",
            "[CV 2/3] END xgbclassifier__colsample_bytree=0.8, xgbclassifier__learning_rate=0.05, xgbclassifier__max_depth=2, xgbclassifier__min_child_weight=2;, score=0.561 total time=   2.6s\n",
            "[CV 3/3] END xgbclassifier__colsample_bytree=0.8, xgbclassifier__learning_rate=0.05, xgbclassifier__max_depth=2, xgbclassifier__min_child_weight=2;, score=0.542 total time=   5.7s\n",
            "[CV 1/3] END xgbclassifier__colsample_bytree=0.8, xgbclassifier__learning_rate=0.05, xgbclassifier__max_depth=2, xgbclassifier__min_child_weight=4;, score=0.541 total time=   2.6s\n",
            "[CV 2/3] END xgbclassifier__colsample_bytree=0.8, xgbclassifier__learning_rate=0.05, xgbclassifier__max_depth=2, xgbclassifier__min_child_weight=4;, score=0.560 total time=   2.5s\n",
            "[CV 3/3] END xgbclassifier__colsample_bytree=0.8, xgbclassifier__learning_rate=0.05, xgbclassifier__max_depth=2, xgbclassifier__min_child_weight=4;, score=0.540 total time=   2.6s\n",
            "[CV 1/3] END xgbclassifier__colsample_bytree=0.8, xgbclassifier__learning_rate=0.05, xgbclassifier__max_depth=2, xgbclassifier__min_child_weight=8;, score=0.542 total time=   4.2s\n",
            "[CV 2/3] END xgbclassifier__colsample_bytree=0.8, xgbclassifier__learning_rate=0.05, xgbclassifier__max_depth=2, xgbclassifier__min_child_weight=8;, score=0.561 total time=   2.5s\n",
            "[CV 3/3] END xgbclassifier__colsample_bytree=0.8, xgbclassifier__learning_rate=0.05, xgbclassifier__max_depth=2, xgbclassifier__min_child_weight=8;, score=0.541 total time=   2.6s\n",
            "[CV 1/3] END xgbclassifier__colsample_bytree=0.8, xgbclassifier__learning_rate=0.05, xgbclassifier__max_depth=4, xgbclassifier__min_child_weight=2;, score=0.547 total time=   4.4s\n",
            "[CV 2/3] END xgbclassifier__colsample_bytree=0.8, xgbclassifier__learning_rate=0.05, xgbclassifier__max_depth=4, xgbclassifier__min_child_weight=2;, score=0.568 total time=   6.1s\n",
            "[CV 3/3] END xgbclassifier__colsample_bytree=0.8, xgbclassifier__learning_rate=0.05, xgbclassifier__max_depth=4, xgbclassifier__min_child_weight=2;, score=0.554 total time=   4.4s\n",
            "[CV 1/3] END xgbclassifier__colsample_bytree=0.8, xgbclassifier__learning_rate=0.05, xgbclassifier__max_depth=4, xgbclassifier__min_child_weight=4;, score=0.552 total time=   6.1s\n",
            "[CV 2/3] END xgbclassifier__colsample_bytree=0.8, xgbclassifier__learning_rate=0.05, xgbclassifier__max_depth=4, xgbclassifier__min_child_weight=4;, score=0.567 total time=   4.5s\n",
            "[CV 3/3] END xgbclassifier__colsample_bytree=0.8, xgbclassifier__learning_rate=0.05, xgbclassifier__max_depth=4, xgbclassifier__min_child_weight=4;, score=0.554 total time=   6.4s\n",
            "[CV 1/3] END xgbclassifier__colsample_bytree=0.8, xgbclassifier__learning_rate=0.05, xgbclassifier__max_depth=4, xgbclassifier__min_child_weight=8;, score=0.552 total time=   5.7s\n",
            "[CV 2/3] END xgbclassifier__colsample_bytree=0.8, xgbclassifier__learning_rate=0.05, xgbclassifier__max_depth=4, xgbclassifier__min_child_weight=8;, score=0.567 total time=   5.6s\n",
            "[CV 3/3] END xgbclassifier__colsample_bytree=0.8, xgbclassifier__learning_rate=0.05, xgbclassifier__max_depth=4, xgbclassifier__min_child_weight=8;, score=0.553 total time=   6.4s\n",
            "[CV 1/3] END xgbclassifier__colsample_bytree=0.8, xgbclassifier__learning_rate=0.05, xgbclassifier__max_depth=6, xgbclassifier__min_child_weight=2;, score=0.551 total time=   8.5s\n",
            "[CV 2/3] END xgbclassifier__colsample_bytree=0.8, xgbclassifier__learning_rate=0.05, xgbclassifier__max_depth=6, xgbclassifier__min_child_weight=2;, score=0.564 total time=   6.8s\n",
            "[CV 3/3] END xgbclassifier__colsample_bytree=0.8, xgbclassifier__learning_rate=0.05, xgbclassifier__max_depth=6, xgbclassifier__min_child_weight=2;, score=0.563 total time=   8.5s\n",
            "[CV 1/3] END xgbclassifier__colsample_bytree=0.8, xgbclassifier__learning_rate=0.05, xgbclassifier__max_depth=6, xgbclassifier__min_child_weight=4;, score=0.549 total time=   7.0s\n",
            "[CV 2/3] END xgbclassifier__colsample_bytree=0.8, xgbclassifier__learning_rate=0.05, xgbclassifier__max_depth=6, xgbclassifier__min_child_weight=4;, score=0.567 total time=   9.8s\n",
            "[CV 3/3] END xgbclassifier__colsample_bytree=0.8, xgbclassifier__learning_rate=0.05, xgbclassifier__max_depth=6, xgbclassifier__min_child_weight=4;, score=0.561 total time=   8.4s\n",
            "[CV 1/3] END xgbclassifier__colsample_bytree=0.8, xgbclassifier__learning_rate=0.05, xgbclassifier__max_depth=6, xgbclassifier__min_child_weight=8;, score=0.552 total time=   8.4s\n",
            "[CV 2/3] END xgbclassifier__colsample_bytree=0.8, xgbclassifier__learning_rate=0.05, xgbclassifier__max_depth=6, xgbclassifier__min_child_weight=8;, score=0.564 total time=   6.8s\n",
            "[CV 3/3] END xgbclassifier__colsample_bytree=0.8, xgbclassifier__learning_rate=0.05, xgbclassifier__max_depth=6, xgbclassifier__min_child_weight=8;, score=0.558 total time=   8.4s\n",
            "[CV 1/3] END xgbclassifier__colsample_bytree=0.8, xgbclassifier__learning_rate=0.1, xgbclassifier__max_depth=2, xgbclassifier__min_child_weight=2;, score=0.547 total time=   2.5s\n",
            "[CV 2/3] END xgbclassifier__colsample_bytree=0.8, xgbclassifier__learning_rate=0.1, xgbclassifier__max_depth=2, xgbclassifier__min_child_weight=2;, score=0.561 total time=   2.6s\n",
            "[CV 3/3] END xgbclassifier__colsample_bytree=0.8, xgbclassifier__learning_rate=0.1, xgbclassifier__max_depth=2, xgbclassifier__min_child_weight=2;, score=0.547 total time=   4.2s\n",
            "[CV 1/3] END xgbclassifier__colsample_bytree=0.8, xgbclassifier__learning_rate=0.1, xgbclassifier__max_depth=2, xgbclassifier__min_child_weight=4;, score=0.547 total time=   2.5s\n",
            "[CV 2/3] END xgbclassifier__colsample_bytree=0.8, xgbclassifier__learning_rate=0.1, xgbclassifier__max_depth=2, xgbclassifier__min_child_weight=4;, score=0.564 total time=   2.6s\n",
            "[CV 3/3] END xgbclassifier__colsample_bytree=0.8, xgbclassifier__learning_rate=0.1, xgbclassifier__max_depth=2, xgbclassifier__min_child_weight=4;, score=0.548 total time=   2.6s\n",
            "[CV 1/3] END xgbclassifier__colsample_bytree=0.8, xgbclassifier__learning_rate=0.1, xgbclassifier__max_depth=2, xgbclassifier__min_child_weight=8;, score=0.546 total time=   5.8s\n",
            "[CV 2/3] END xgbclassifier__colsample_bytree=0.8, xgbclassifier__learning_rate=0.1, xgbclassifier__max_depth=2, xgbclassifier__min_child_weight=8;, score=0.564 total time=   2.5s\n",
            "[CV 3/3] END xgbclassifier__colsample_bytree=0.8, xgbclassifier__learning_rate=0.1, xgbclassifier__max_depth=2, xgbclassifier__min_child_weight=8;, score=0.548 total time=   2.6s\n",
            "[CV 1/3] END xgbclassifier__colsample_bytree=0.8, xgbclassifier__learning_rate=0.1, xgbclassifier__max_depth=4, xgbclassifier__min_child_weight=2;, score=0.553 total time=   6.1s\n",
            "[CV 2/3] END xgbclassifier__colsample_bytree=0.8, xgbclassifier__learning_rate=0.1, xgbclassifier__max_depth=4, xgbclassifier__min_child_weight=2;, score=0.567 total time=   4.5s\n",
            "[CV 3/3] END xgbclassifier__colsample_bytree=0.8, xgbclassifier__learning_rate=0.1, xgbclassifier__max_depth=4, xgbclassifier__min_child_weight=2;, score=0.559 total time=   4.4s\n",
            "[CV 1/3] END xgbclassifier__colsample_bytree=0.8, xgbclassifier__learning_rate=0.1, xgbclassifier__max_depth=4, xgbclassifier__min_child_weight=4;, score=0.551 total time=   6.2s\n",
            "[CV 2/3] END xgbclassifier__colsample_bytree=0.8, xgbclassifier__learning_rate=0.1, xgbclassifier__max_depth=4, xgbclassifier__min_child_weight=4;, score=0.568 total time=   4.4s\n",
            "[CV 3/3] END xgbclassifier__colsample_bytree=0.8, xgbclassifier__learning_rate=0.1, xgbclassifier__max_depth=4, xgbclassifier__min_child_weight=4;, score=0.557 total time=   6.1s\n",
            "[CV 1/3] END xgbclassifier__colsample_bytree=0.8, xgbclassifier__learning_rate=0.1, xgbclassifier__max_depth=4, xgbclassifier__min_child_weight=8;, score=0.551 total time=   4.5s\n",
            "[CV 2/3] END xgbclassifier__colsample_bytree=0.8, xgbclassifier__learning_rate=0.1, xgbclassifier__max_depth=4, xgbclassifier__min_child_weight=8;, score=0.565 total time=   6.1s\n",
            "[CV 3/3] END xgbclassifier__colsample_bytree=0.8, xgbclassifier__learning_rate=0.1, xgbclassifier__max_depth=4, xgbclassifier__min_child_weight=8;, score=0.560 total time=   6.1s\n",
            "[CV 1/3] END xgbclassifier__colsample_bytree=0.8, xgbclassifier__learning_rate=0.1, xgbclassifier__max_depth=6, xgbclassifier__min_child_weight=2;, score=0.546 total time=   8.5s\n",
            "[CV 2/3] END xgbclassifier__colsample_bytree=0.8, xgbclassifier__learning_rate=0.1, xgbclassifier__max_depth=6, xgbclassifier__min_child_weight=2;, score=0.564 total time=   6.7s\n",
            "[CV 3/3] END xgbclassifier__colsample_bytree=0.8, xgbclassifier__learning_rate=0.1, xgbclassifier__max_depth=6, xgbclassifier__min_child_weight=2;, score=0.556 total time=   8.5s\n",
            "[CV 1/3] END xgbclassifier__colsample_bytree=0.8, xgbclassifier__learning_rate=0.1, xgbclassifier__max_depth=6, xgbclassifier__min_child_weight=4;, score=0.556 total time=   8.5s\n",
            "[CV 2/3] END xgbclassifier__colsample_bytree=0.8, xgbclassifier__learning_rate=0.1, xgbclassifier__max_depth=6, xgbclassifier__min_child_weight=4;, score=0.560 total time=   6.7s\n",
            "[CV 3/3] END xgbclassifier__colsample_bytree=0.8, xgbclassifier__learning_rate=0.1, xgbclassifier__max_depth=6, xgbclassifier__min_child_weight=4;, score=0.555 total time=   8.4s\n",
            "[CV 1/3] END xgbclassifier__colsample_bytree=0.8, xgbclassifier__learning_rate=0.1, xgbclassifier__max_depth=6, xgbclassifier__min_child_weight=8;, score=0.549 total time=  10.1s\n",
            "[CV 2/3] END xgbclassifier__colsample_bytree=0.8, xgbclassifier__learning_rate=0.1, xgbclassifier__max_depth=6, xgbclassifier__min_child_weight=8;, score=0.563 total time=   6.7s\n",
            "[CV 3/3] END xgbclassifier__colsample_bytree=0.8, xgbclassifier__learning_rate=0.1, xgbclassifier__max_depth=6, xgbclassifier__min_child_weight=8;, score=0.549 total time=  10.0s\n",
            "[CV 1/3] END xgbclassifier__colsample_bytree=0.8, xgbclassifier__learning_rate=0.2, xgbclassifier__max_depth=2, xgbclassifier__min_child_weight=2;, score=0.555 total time=   2.6s\n",
            "[CV 2/3] END xgbclassifier__colsample_bytree=0.8, xgbclassifier__learning_rate=0.2, xgbclassifier__max_depth=2, xgbclassifier__min_child_weight=2;, score=0.564 total time=   4.2s\n",
            "[CV 3/3] END xgbclassifier__colsample_bytree=0.8, xgbclassifier__learning_rate=0.2, xgbclassifier__max_depth=2, xgbclassifier__min_child_weight=2;, score=0.551 total time=   2.5s\n",
            "[CV 1/3] END xgbclassifier__colsample_bytree=0.8, xgbclassifier__learning_rate=0.2, xgbclassifier__max_depth=2, xgbclassifier__min_child_weight=4;, score=0.555 total time=   2.5s\n",
            "[CV 2/3] END xgbclassifier__colsample_bytree=0.8, xgbclassifier__learning_rate=0.2, xgbclassifier__max_depth=2, xgbclassifier__min_child_weight=4;, score=0.565 total time=   2.6s\n",
            "[CV 3/3] END xgbclassifier__colsample_bytree=0.8, xgbclassifier__learning_rate=0.2, xgbclassifier__max_depth=2, xgbclassifier__min_child_weight=4;, score=0.554 total time=   4.2s\n",
            "[CV 1/3] END xgbclassifier__colsample_bytree=0.8, xgbclassifier__learning_rate=0.2, xgbclassifier__max_depth=2, xgbclassifier__min_child_weight=8;, score=0.554 total time=   2.6s\n",
            "[CV 2/3] END xgbclassifier__colsample_bytree=0.8, xgbclassifier__learning_rate=0.2, xgbclassifier__max_depth=2, xgbclassifier__min_child_weight=8;, score=0.563 total time=   2.6s\n",
            "[CV 3/3] END xgbclassifier__colsample_bytree=0.8, xgbclassifier__learning_rate=0.2, xgbclassifier__max_depth=2, xgbclassifier__min_child_weight=8;, score=0.552 total time=   2.5s\n",
            "[CV 1/3] END xgbclassifier__colsample_bytree=0.8, xgbclassifier__learning_rate=0.2, xgbclassifier__max_depth=4, xgbclassifier__min_child_weight=2;, score=0.554 total time=   6.2s\n",
            "[CV 2/3] END xgbclassifier__colsample_bytree=0.8, xgbclassifier__learning_rate=0.2, xgbclassifier__max_depth=4, xgbclassifier__min_child_weight=2;, score=0.565 total time=   5.9s\n",
            "[CV 3/3] END xgbclassifier__colsample_bytree=0.8, xgbclassifier__learning_rate=0.2, xgbclassifier__max_depth=4, xgbclassifier__min_child_weight=2;, score=0.554 total time=   6.2s\n",
            "[CV 1/3] END xgbclassifier__colsample_bytree=0.8, xgbclassifier__learning_rate=0.2, xgbclassifier__max_depth=4, xgbclassifier__min_child_weight=4;, score=0.549 total time=   4.5s\n",
            "[CV 2/3] END xgbclassifier__colsample_bytree=0.8, xgbclassifier__learning_rate=0.2, xgbclassifier__max_depth=4, xgbclassifier__min_child_weight=4;, score=0.563 total time=   6.1s\n",
            "[CV 3/3] END xgbclassifier__colsample_bytree=0.8, xgbclassifier__learning_rate=0.2, xgbclassifier__max_depth=4, xgbclassifier__min_child_weight=4;, score=0.554 total time=   4.5s\n",
            "[CV 1/3] END xgbclassifier__colsample_bytree=0.8, xgbclassifier__learning_rate=0.2, xgbclassifier__max_depth=4, xgbclassifier__min_child_weight=8;, score=0.553 total time=   4.4s\n",
            "[CV 2/3] END xgbclassifier__colsample_bytree=0.8, xgbclassifier__learning_rate=0.2, xgbclassifier__max_depth=4, xgbclassifier__min_child_weight=8;, score=0.560 total time=   6.0s\n",
            "[CV 3/3] END xgbclassifier__colsample_bytree=0.8, xgbclassifier__learning_rate=0.2, xgbclassifier__max_depth=4, xgbclassifier__min_child_weight=8;, score=0.559 total time=   4.4s\n",
            "[CV 1/3] END xgbclassifier__colsample_bytree=0.8, xgbclassifier__learning_rate=0.2, xgbclassifier__max_depth=6, xgbclassifier__min_child_weight=2;, score=0.549 total time=   8.5s\n",
            "[CV 2/3] END xgbclassifier__colsample_bytree=0.8, xgbclassifier__learning_rate=0.2, xgbclassifier__max_depth=6, xgbclassifier__min_child_weight=2;, score=0.550 total time=  10.1s\n",
            "[CV 3/3] END xgbclassifier__colsample_bytree=0.8, xgbclassifier__learning_rate=0.2, xgbclassifier__max_depth=6, xgbclassifier__min_child_weight=2;, score=0.540 total time=   6.8s\n",
            "[CV 1/3] END xgbclassifier__colsample_bytree=0.8, xgbclassifier__learning_rate=0.2, xgbclassifier__max_depth=6, xgbclassifier__min_child_weight=4;, score=0.545 total time=   8.4s\n",
            "[CV 2/3] END xgbclassifier__colsample_bytree=0.8, xgbclassifier__learning_rate=0.2, xgbclassifier__max_depth=6, xgbclassifier__min_child_weight=4;, score=0.544 total time=   8.4s\n",
            "[CV 3/3] END xgbclassifier__colsample_bytree=0.8, xgbclassifier__learning_rate=0.2, xgbclassifier__max_depth=6, xgbclassifier__min_child_weight=4;, score=0.544 total time=   6.8s\n",
            "[CV 1/3] END xgbclassifier__colsample_bytree=0.8, xgbclassifier__learning_rate=0.2, xgbclassifier__max_depth=6, xgbclassifier__min_child_weight=8;, score=0.544 total time=   8.4s\n",
            "[CV 2/3] END xgbclassifier__colsample_bytree=0.8, xgbclassifier__learning_rate=0.2, xgbclassifier__max_depth=6, xgbclassifier__min_child_weight=8;, score=0.547 total time=   8.4s\n",
            "[CV 3/3] END xgbclassifier__colsample_bytree=0.8, xgbclassifier__learning_rate=0.2, xgbclassifier__max_depth=6, xgbclassifier__min_child_weight=8;, score=0.549 total time=   8.4s\n",
            "[CV 1/3] END xgbclassifier__colsample_bytree=1.0, xgbclassifier__learning_rate=0.05, xgbclassifier__max_depth=2, xgbclassifier__min_child_weight=2;, score=0.543 total time=   4.6s\n",
            "[CV 2/3] END xgbclassifier__colsample_bytree=1.0, xgbclassifier__learning_rate=0.05, xgbclassifier__max_depth=2, xgbclassifier__min_child_weight=2;, score=0.559 total time=   2.9s\n",
            "[CV 3/3] END xgbclassifier__colsample_bytree=1.0, xgbclassifier__learning_rate=0.05, xgbclassifier__max_depth=2, xgbclassifier__min_child_weight=2;, score=0.543 total time=   2.9s\n",
            "[CV 1/3] END xgbclassifier__colsample_bytree=1.0, xgbclassifier__learning_rate=0.05, xgbclassifier__max_depth=2, xgbclassifier__min_child_weight=4;, score=0.543 total time=   4.6s\n",
            "[CV 2/3] END xgbclassifier__colsample_bytree=1.0, xgbclassifier__learning_rate=0.05, xgbclassifier__max_depth=2, xgbclassifier__min_child_weight=4;, score=0.560 total time=   3.0s\n",
            "[CV 3/3] END xgbclassifier__colsample_bytree=1.0, xgbclassifier__learning_rate=0.05, xgbclassifier__max_depth=2, xgbclassifier__min_child_weight=4;, score=0.542 total time=   2.9s\n",
            "[CV 1/3] END xgbclassifier__colsample_bytree=1.0, xgbclassifier__learning_rate=0.05, xgbclassifier__max_depth=2, xgbclassifier__min_child_weight=8;, score=0.543 total time=   3.0s\n",
            "[CV 2/3] END xgbclassifier__colsample_bytree=1.0, xgbclassifier__learning_rate=0.05, xgbclassifier__max_depth=2, xgbclassifier__min_child_weight=8;, score=0.558 total time=   4.5s\n",
            "[CV 3/3] END xgbclassifier__colsample_bytree=1.0, xgbclassifier__learning_rate=0.05, xgbclassifier__max_depth=2, xgbclassifier__min_child_weight=8;, score=0.541 total time=   2.9s\n",
            "[CV 1/3] END xgbclassifier__colsample_bytree=1.0, xgbclassifier__learning_rate=0.05, xgbclassifier__max_depth=4, xgbclassifier__min_child_weight=2;, score=0.550 total time=   5.2s\n",
            "[CV 2/3] END xgbclassifier__colsample_bytree=1.0, xgbclassifier__learning_rate=0.05, xgbclassifier__max_depth=4, xgbclassifier__min_child_weight=2;, score=0.560 total time=   6.8s\n",
            "[CV 3/3] END xgbclassifier__colsample_bytree=1.0, xgbclassifier__learning_rate=0.05, xgbclassifier__max_depth=4, xgbclassifier__min_child_weight=2;, score=0.555 total time=   7.1s\n",
            "[CV 1/3] END xgbclassifier__colsample_bytree=1.0, xgbclassifier__learning_rate=0.05, xgbclassifier__max_depth=4, xgbclassifier__min_child_weight=4;, score=0.549 total time=   6.5s\n",
            "[CV 2/3] END xgbclassifier__colsample_bytree=1.0, xgbclassifier__learning_rate=0.05, xgbclassifier__max_depth=4, xgbclassifier__min_child_weight=4;, score=0.563 total time=   5.2s\n",
            "[CV 3/3] END xgbclassifier__colsample_bytree=1.0, xgbclassifier__learning_rate=0.05, xgbclassifier__max_depth=4, xgbclassifier__min_child_weight=4;, score=0.557 total time=   6.8s\n",
            "[CV 1/3] END xgbclassifier__colsample_bytree=1.0, xgbclassifier__learning_rate=0.05, xgbclassifier__max_depth=4, xgbclassifier__min_child_weight=8;, score=0.550 total time=   8.6s\n",
            "[CV 2/3] END xgbclassifier__colsample_bytree=1.0, xgbclassifier__learning_rate=0.05, xgbclassifier__max_depth=4, xgbclassifier__min_child_weight=8;, score=0.564 total time=   5.2s\n",
            "[CV 3/3] END xgbclassifier__colsample_bytree=1.0, xgbclassifier__learning_rate=0.05, xgbclassifier__max_depth=4, xgbclassifier__min_child_weight=8;, score=0.556 total time=   6.8s\n",
            "[CV 1/3] END xgbclassifier__colsample_bytree=1.0, xgbclassifier__learning_rate=0.05, xgbclassifier__max_depth=6, xgbclassifier__min_child_weight=2;, score=0.553 total time=   8.1s\n",
            "[CV 2/3] END xgbclassifier__colsample_bytree=1.0, xgbclassifier__learning_rate=0.05, xgbclassifier__max_depth=6, xgbclassifier__min_child_weight=2;, score=0.565 total time=  11.4s\n",
            "[CV 3/3] END xgbclassifier__colsample_bytree=1.0, xgbclassifier__learning_rate=0.05, xgbclassifier__max_depth=6, xgbclassifier__min_child_weight=2;, score=0.562 total time=   9.7s\n",
            "[CV 1/3] END xgbclassifier__colsample_bytree=1.0, xgbclassifier__learning_rate=0.05, xgbclassifier__max_depth=6, xgbclassifier__min_child_weight=4;, score=0.550 total time=   9.6s\n",
            "[CV 2/3] END xgbclassifier__colsample_bytree=1.0, xgbclassifier__learning_rate=0.05, xgbclassifier__max_depth=6, xgbclassifier__min_child_weight=4;, score=0.566 total time=   9.6s\n",
            "[CV 3/3] END xgbclassifier__colsample_bytree=1.0, xgbclassifier__learning_rate=0.05, xgbclassifier__max_depth=6, xgbclassifier__min_child_weight=4;, score=0.557 total time=   8.0s\n",
            "[CV 1/3] END xgbclassifier__colsample_bytree=1.0, xgbclassifier__learning_rate=0.05, xgbclassifier__max_depth=6, xgbclassifier__min_child_weight=8;, score=0.552 total time=   9.6s\n",
            "[CV 2/3] END xgbclassifier__colsample_bytree=1.0, xgbclassifier__learning_rate=0.05, xgbclassifier__max_depth=6, xgbclassifier__min_child_weight=8;, score=0.565 total time=  11.1s\n",
            "[CV 3/3] END xgbclassifier__colsample_bytree=1.0, xgbclassifier__learning_rate=0.05, xgbclassifier__max_depth=6, xgbclassifier__min_child_weight=8;, score=0.557 total time=   9.6s\n",
            "[CV 1/3] END xgbclassifier__colsample_bytree=1.0, xgbclassifier__learning_rate=0.1, xgbclassifier__max_depth=2, xgbclassifier__min_child_weight=2;, score=0.549 total time=   2.9s\n",
            "[CV 2/3] END xgbclassifier__colsample_bytree=1.0, xgbclassifier__learning_rate=0.1, xgbclassifier__max_depth=2, xgbclassifier__min_child_weight=2;, score=0.565 total time=   2.9s\n",
            "[CV 3/3] END xgbclassifier__colsample_bytree=1.0, xgbclassifier__learning_rate=0.1, xgbclassifier__max_depth=2, xgbclassifier__min_child_weight=2;, score=0.548 total time=   2.9s\n",
            "[CV 1/3] END xgbclassifier__colsample_bytree=1.0, xgbclassifier__learning_rate=0.1, xgbclassifier__max_depth=2, xgbclassifier__min_child_weight=4;, score=0.550 total time=   4.5s\n",
            "[CV 2/3] END xgbclassifier__colsample_bytree=1.0, xgbclassifier__learning_rate=0.1, xgbclassifier__max_depth=2, xgbclassifier__min_child_weight=4;, score=0.564 total time=   2.9s\n",
            "[CV 3/3] END xgbclassifier__colsample_bytree=1.0, xgbclassifier__learning_rate=0.1, xgbclassifier__max_depth=2, xgbclassifier__min_child_weight=4;, score=0.546 total time=   2.9s\n",
            "[CV 1/3] END xgbclassifier__colsample_bytree=1.0, xgbclassifier__learning_rate=0.1, xgbclassifier__max_depth=2, xgbclassifier__min_child_weight=8;, score=0.549 total time=   4.5s\n",
            "[CV 2/3] END xgbclassifier__colsample_bytree=1.0, xgbclassifier__learning_rate=0.1, xgbclassifier__max_depth=2, xgbclassifier__min_child_weight=8;, score=0.561 total time=   2.9s\n",
            "[CV 3/3] END xgbclassifier__colsample_bytree=1.0, xgbclassifier__learning_rate=0.1, xgbclassifier__max_depth=2, xgbclassifier__min_child_weight=8;, score=0.547 total time=   3.0s\n",
            "[CV 1/3] END xgbclassifier__colsample_bytree=1.0, xgbclassifier__learning_rate=0.1, xgbclassifier__max_depth=4, xgbclassifier__min_child_weight=2;, score=0.548 total time=   6.9s\n",
            "[CV 2/3] END xgbclassifier__colsample_bytree=1.0, xgbclassifier__learning_rate=0.1, xgbclassifier__max_depth=4, xgbclassifier__min_child_weight=2;, score=0.567 total time=   6.9s\n",
            "[CV 3/3] END xgbclassifier__colsample_bytree=1.0, xgbclassifier__learning_rate=0.1, xgbclassifier__max_depth=4, xgbclassifier__min_child_weight=2;, score=0.560 total time=   6.9s\n",
            "[CV 1/3] END xgbclassifier__colsample_bytree=1.0, xgbclassifier__learning_rate=0.1, xgbclassifier__max_depth=4, xgbclassifier__min_child_weight=4;, score=0.553 total time=   5.3s\n",
            "[CV 2/3] END xgbclassifier__colsample_bytree=1.0, xgbclassifier__learning_rate=0.1, xgbclassifier__max_depth=4, xgbclassifier__min_child_weight=4;, score=0.564 total time=   6.9s\n",
            "[CV 3/3] END xgbclassifier__colsample_bytree=1.0, xgbclassifier__learning_rate=0.1, xgbclassifier__max_depth=4, xgbclassifier__min_child_weight=4;, score=0.562 total time=   5.2s\n",
            "[CV 1/3] END xgbclassifier__colsample_bytree=1.0, xgbclassifier__learning_rate=0.1, xgbclassifier__max_depth=4, xgbclassifier__min_child_weight=8;, score=0.548 total time=   6.9s\n",
            "[CV 2/3] END xgbclassifier__colsample_bytree=1.0, xgbclassifier__learning_rate=0.1, xgbclassifier__max_depth=4, xgbclassifier__min_child_weight=8;, score=0.568 total time=   5.2s\n",
            "[CV 3/3] END xgbclassifier__colsample_bytree=1.0, xgbclassifier__learning_rate=0.1, xgbclassifier__max_depth=4, xgbclassifier__min_child_weight=8;, score=0.556 total time=   6.9s\n",
            "[CV 1/3] END xgbclassifier__colsample_bytree=1.0, xgbclassifier__learning_rate=0.1, xgbclassifier__max_depth=6, xgbclassifier__min_child_weight=2;, score=0.551 total time=  10.0s\n",
            "[CV 2/3] END xgbclassifier__colsample_bytree=1.0, xgbclassifier__learning_rate=0.1, xgbclassifier__max_depth=6, xgbclassifier__min_child_weight=2;, score=0.560 total time=   9.1s\n",
            "[CV 3/3] END xgbclassifier__colsample_bytree=1.0, xgbclassifier__learning_rate=0.1, xgbclassifier__max_depth=6, xgbclassifier__min_child_weight=2;, score=0.556 total time=   9.7s\n",
            "[CV 1/3] END xgbclassifier__colsample_bytree=1.0, xgbclassifier__learning_rate=0.1, xgbclassifier__max_depth=6, xgbclassifier__min_child_weight=4;, score=0.549 total time=  11.3s\n",
            "[CV 2/3] END xgbclassifier__colsample_bytree=1.0, xgbclassifier__learning_rate=0.1, xgbclassifier__max_depth=6, xgbclassifier__min_child_weight=4;, score=0.560 total time=   9.5s\n",
            "[CV 3/3] END xgbclassifier__colsample_bytree=1.0, xgbclassifier__learning_rate=0.1, xgbclassifier__max_depth=6, xgbclassifier__min_child_weight=4;, score=0.555 total time=   9.6s\n",
            "[CV 1/3] END xgbclassifier__colsample_bytree=1.0, xgbclassifier__learning_rate=0.1, xgbclassifier__max_depth=6, xgbclassifier__min_child_weight=8;, score=0.551 total time=   9.6s\n",
            "[CV 2/3] END xgbclassifier__colsample_bytree=1.0, xgbclassifier__learning_rate=0.1, xgbclassifier__max_depth=6, xgbclassifier__min_child_weight=8;, score=0.561 total time=   9.4s\n",
            "[CV 3/3] END xgbclassifier__colsample_bytree=1.0, xgbclassifier__learning_rate=0.1, xgbclassifier__max_depth=6, xgbclassifier__min_child_weight=8;, score=0.548 total time=   9.5s\n",
            "[CV 1/3] END xgbclassifier__colsample_bytree=1.0, xgbclassifier__learning_rate=0.2, xgbclassifier__max_depth=2, xgbclassifier__min_child_weight=2;, score=0.557 total time=   3.0s\n",
            "[CV 2/3] END xgbclassifier__colsample_bytree=1.0, xgbclassifier__learning_rate=0.2, xgbclassifier__max_depth=2, xgbclassifier__min_child_weight=2;, score=0.565 total time=   4.4s\n",
            "[CV 3/3] END xgbclassifier__colsample_bytree=1.0, xgbclassifier__learning_rate=0.2, xgbclassifier__max_depth=2, xgbclassifier__min_child_weight=2;, score=0.551 total time=   3.0s\n",
            "[CV 1/3] END xgbclassifier__colsample_bytree=1.0, xgbclassifier__learning_rate=0.2, xgbclassifier__max_depth=2, xgbclassifier__min_child_weight=4;, score=0.555 total time=   2.9s\n",
            "[CV 2/3] END xgbclassifier__colsample_bytree=1.0, xgbclassifier__learning_rate=0.2, xgbclassifier__max_depth=2, xgbclassifier__min_child_weight=4;, score=0.565 total time=   3.0s\n",
            "[CV 3/3] END xgbclassifier__colsample_bytree=1.0, xgbclassifier__learning_rate=0.2, xgbclassifier__max_depth=2, xgbclassifier__min_child_weight=4;, score=0.550 total time=   4.6s\n",
            "[CV 1/3] END xgbclassifier__colsample_bytree=1.0, xgbclassifier__learning_rate=0.2, xgbclassifier__max_depth=2, xgbclassifier__min_child_weight=8;, score=0.554 total time=   2.9s\n",
            "[CV 2/3] END xgbclassifier__colsample_bytree=1.0, xgbclassifier__learning_rate=0.2, xgbclassifier__max_depth=2, xgbclassifier__min_child_weight=8;, score=0.570 total time=   2.9s\n",
            "[CV 3/3] END xgbclassifier__colsample_bytree=1.0, xgbclassifier__learning_rate=0.2, xgbclassifier__max_depth=2, xgbclassifier__min_child_weight=8;, score=0.550 total time=   2.9s\n",
            "[CV 1/3] END xgbclassifier__colsample_bytree=1.0, xgbclassifier__learning_rate=0.2, xgbclassifier__max_depth=4, xgbclassifier__min_child_weight=2;, score=0.550 total time=   8.4s\n",
            "[CV 2/3] END xgbclassifier__colsample_bytree=1.0, xgbclassifier__learning_rate=0.2, xgbclassifier__max_depth=4, xgbclassifier__min_child_weight=2;, score=0.565 total time=   5.2s\n",
            "[CV 3/3] END xgbclassifier__colsample_bytree=1.0, xgbclassifier__learning_rate=0.2, xgbclassifier__max_depth=4, xgbclassifier__min_child_weight=2;, score=0.558 total time=   6.7s\n",
            "[CV 1/3] END xgbclassifier__colsample_bytree=1.0, xgbclassifier__learning_rate=0.2, xgbclassifier__max_depth=4, xgbclassifier__min_child_weight=4;, score=0.554 total time=   5.2s\n",
            "[CV 2/3] END xgbclassifier__colsample_bytree=1.0, xgbclassifier__learning_rate=0.2, xgbclassifier__max_depth=4, xgbclassifier__min_child_weight=4;, score=0.567 total time=   6.9s\n",
            "[CV 3/3] END xgbclassifier__colsample_bytree=1.0, xgbclassifier__learning_rate=0.2, xgbclassifier__max_depth=4, xgbclassifier__min_child_weight=4;, score=0.552 total time=   5.2s\n",
            "[CV 1/3] END xgbclassifier__colsample_bytree=1.0, xgbclassifier__learning_rate=0.2, xgbclassifier__max_depth=4, xgbclassifier__min_child_weight=8;, score=0.551 total time=   6.9s\n",
            "[CV 2/3] END xgbclassifier__colsample_bytree=1.0, xgbclassifier__learning_rate=0.2, xgbclassifier__max_depth=4, xgbclassifier__min_child_weight=8;, score=0.564 total time=   5.2s\n",
            "[CV 3/3] END xgbclassifier__colsample_bytree=1.0, xgbclassifier__learning_rate=0.2, xgbclassifier__max_depth=4, xgbclassifier__min_child_weight=8;, score=0.555 total time=   6.9s\n",
            "[CV 1/3] END xgbclassifier__colsample_bytree=1.0, xgbclassifier__learning_rate=0.2, xgbclassifier__max_depth=6, xgbclassifier__min_child_weight=2;, score=0.548 total time=  11.3s\n",
            "[CV 2/3] END xgbclassifier__colsample_bytree=1.0, xgbclassifier__learning_rate=0.2, xgbclassifier__max_depth=6, xgbclassifier__min_child_weight=2;, score=0.542 total time=   9.6s\n",
            "[CV 3/3] END xgbclassifier__colsample_bytree=1.0, xgbclassifier__learning_rate=0.2, xgbclassifier__max_depth=6, xgbclassifier__min_child_weight=2;, score=0.540 total time=   8.0s\n",
            "[CV 1/3] END xgbclassifier__colsample_bytree=1.0, xgbclassifier__learning_rate=0.2, xgbclassifier__max_depth=6, xgbclassifier__min_child_weight=4;, score=0.547 total time=   9.7s\n",
            "[CV 2/3] END xgbclassifier__colsample_bytree=1.0, xgbclassifier__learning_rate=0.2, xgbclassifier__max_depth=6, xgbclassifier__min_child_weight=4;, score=0.550 total time=   9.5s\n",
            "[CV 3/3] END xgbclassifier__colsample_bytree=1.0, xgbclassifier__learning_rate=0.2, xgbclassifier__max_depth=6, xgbclassifier__min_child_weight=4;, score=0.544 total time=  11.2s\n",
            "[CV 1/3] END xgbclassifier__colsample_bytree=1.0, xgbclassifier__learning_rate=0.2, xgbclassifier__max_depth=6, xgbclassifier__min_child_weight=8;, score=0.548 total time=   9.5s\n",
            "[CV 2/3] END xgbclassifier__colsample_bytree=1.0, xgbclassifier__learning_rate=0.2, xgbclassifier__max_depth=6, xgbclassifier__min_child_weight=8;, score=0.548 total time=   7.8s\n",
            "[CV 3/3] END xgbclassifier__colsample_bytree=1.0, xgbclassifier__learning_rate=0.2, xgbclassifier__max_depth=6, xgbclassifier__min_child_weight=8;, score=0.545 total time=   9.5s\n"
          ]
        },
        {
          "output_type": "execute_result",
          "data": {
            "text/plain": [
              "GridSearchCV(cv=3,\n",
              "             estimator=Pipeline(steps=[('ordinalencoder', OrdinalEncoder()),\n",
              "                                       ('simpleimputer',\n",
              "                                        SimpleImputer(strategy='median')),\n",
              "                                       ('xgbclassifier',\n",
              "                                        XGBClassifier(base_score=None,\n",
              "                                                      booster=None,\n",
              "                                                      callbacks=None,\n",
              "                                                      colsample_bylevel=None,\n",
              "                                                      colsample_bynode=None,\n",
              "                                                      colsample_bytree=None,\n",
              "                                                      early_stopping_rounds=None,\n",
              "                                                      enable_categorical=False,\n",
              "                                                      eval_metric='error',\n",
              "                                                      featu...\n",
              "                                                      min_child_weight=None,\n",
              "                                                      missing=nan,\n",
              "                                                      monotone_constraints=None,\n",
              "                                                      n_estimators=200,\n",
              "                                                      n_jobs=-1,\n",
              "                                                      num_parallel_tree=None,\n",
              "                                                      predictor=None,\n",
              "                                                      random_state=42, ...))]),\n",
              "             param_grid={'xgbclassifier__colsample_bytree': [0.6, 0.8, 1.0],\n",
              "                         'xgbclassifier__learning_rate': [0.05, 0.1, 0.2],\n",
              "                         'xgbclassifier__max_depth': [2, 4, 6],\n",
              "                         'xgbclassifier__min_child_weight': [2, 4, 8]},\n",
              "             scoring='f1', verbose=3)"
            ],
            "text/html": [
              "<style>#sk-container-id-3 {color: black;background-color: white;}#sk-container-id-3 pre{padding: 0;}#sk-container-id-3 div.sk-toggleable {background-color: white;}#sk-container-id-3 label.sk-toggleable__label {cursor: pointer;display: block;width: 100%;margin-bottom: 0;padding: 0.3em;box-sizing: border-box;text-align: center;}#sk-container-id-3 label.sk-toggleable__label-arrow:before {content: \"▸\";float: left;margin-right: 0.25em;color: #696969;}#sk-container-id-3 label.sk-toggleable__label-arrow:hover:before {color: black;}#sk-container-id-3 div.sk-estimator:hover label.sk-toggleable__label-arrow:before {color: black;}#sk-container-id-3 div.sk-toggleable__content {max-height: 0;max-width: 0;overflow: hidden;text-align: left;background-color: #f0f8ff;}#sk-container-id-3 div.sk-toggleable__content pre {margin: 0.2em;color: black;border-radius: 0.25em;background-color: #f0f8ff;}#sk-container-id-3 input.sk-toggleable__control:checked~div.sk-toggleable__content {max-height: 200px;max-width: 100%;overflow: auto;}#sk-container-id-3 input.sk-toggleable__control:checked~label.sk-toggleable__label-arrow:before {content: \"▾\";}#sk-container-id-3 div.sk-estimator input.sk-toggleable__control:checked~label.sk-toggleable__label {background-color: #d4ebff;}#sk-container-id-3 div.sk-label input.sk-toggleable__control:checked~label.sk-toggleable__label {background-color: #d4ebff;}#sk-container-id-3 input.sk-hidden--visually {border: 0;clip: rect(1px 1px 1px 1px);clip: rect(1px, 1px, 1px, 1px);height: 1px;margin: -1px;overflow: hidden;padding: 0;position: absolute;width: 1px;}#sk-container-id-3 div.sk-estimator {font-family: monospace;background-color: #f0f8ff;border: 1px dotted black;border-radius: 0.25em;box-sizing: border-box;margin-bottom: 0.5em;}#sk-container-id-3 div.sk-estimator:hover {background-color: #d4ebff;}#sk-container-id-3 div.sk-parallel-item::after {content: \"\";width: 100%;border-bottom: 1px solid gray;flex-grow: 1;}#sk-container-id-3 div.sk-label:hover label.sk-toggleable__label {background-color: #d4ebff;}#sk-container-id-3 div.sk-serial::before {content: \"\";position: absolute;border-left: 1px solid gray;box-sizing: border-box;top: 0;bottom: 0;left: 50%;z-index: 0;}#sk-container-id-3 div.sk-serial {display: flex;flex-direction: column;align-items: center;background-color: white;padding-right: 0.2em;padding-left: 0.2em;position: relative;}#sk-container-id-3 div.sk-item {position: relative;z-index: 1;}#sk-container-id-3 div.sk-parallel {display: flex;align-items: stretch;justify-content: center;background-color: white;position: relative;}#sk-container-id-3 div.sk-item::before, #sk-container-id-3 div.sk-parallel-item::before {content: \"\";position: absolute;border-left: 1px solid gray;box-sizing: border-box;top: 0;bottom: 0;left: 50%;z-index: -1;}#sk-container-id-3 div.sk-parallel-item {display: flex;flex-direction: column;z-index: 1;position: relative;background-color: white;}#sk-container-id-3 div.sk-parallel-item:first-child::after {align-self: flex-end;width: 50%;}#sk-container-id-3 div.sk-parallel-item:last-child::after {align-self: flex-start;width: 50%;}#sk-container-id-3 div.sk-parallel-item:only-child::after {width: 0;}#sk-container-id-3 div.sk-dashed-wrapped {border: 1px dashed gray;margin: 0 0.4em 0.5em 0.4em;box-sizing: border-box;padding-bottom: 0.4em;background-color: white;}#sk-container-id-3 div.sk-label label {font-family: monospace;font-weight: bold;display: inline-block;line-height: 1.2em;}#sk-container-id-3 div.sk-label-container {text-align: center;}#sk-container-id-3 div.sk-container {/* jupyter's `normalize.less` sets `[hidden] { display: none; }` but bootstrap.min.css set `[hidden] { display: none !important; }` so we also need the `!important` here to be able to override the default hidden behavior on the sphinx rendered scikit-learn.org. See: https://github.com/scikit-learn/scikit-learn/issues/21755 */display: inline-block !important;position: relative;}#sk-container-id-3 div.sk-text-repr-fallback {display: none;}</style><div id=\"sk-container-id-3\" class=\"sk-top-container\"><div class=\"sk-text-repr-fallback\"><pre>GridSearchCV(cv=3,\n",
              "             estimator=Pipeline(steps=[(&#x27;ordinalencoder&#x27;, OrdinalEncoder()),\n",
              "                                       (&#x27;simpleimputer&#x27;,\n",
              "                                        SimpleImputer(strategy=&#x27;median&#x27;)),\n",
              "                                       (&#x27;xgbclassifier&#x27;,\n",
              "                                        XGBClassifier(base_score=None,\n",
              "                                                      booster=None,\n",
              "                                                      callbacks=None,\n",
              "                                                      colsample_bylevel=None,\n",
              "                                                      colsample_bynode=None,\n",
              "                                                      colsample_bytree=None,\n",
              "                                                      early_stopping_rounds=None,\n",
              "                                                      enable_categorical=False,\n",
              "                                                      eval_metric=&#x27;error&#x27;,\n",
              "                                                      featu...\n",
              "                                                      min_child_weight=None,\n",
              "                                                      missing=nan,\n",
              "                                                      monotone_constraints=None,\n",
              "                                                      n_estimators=200,\n",
              "                                                      n_jobs=-1,\n",
              "                                                      num_parallel_tree=None,\n",
              "                                                      predictor=None,\n",
              "                                                      random_state=42, ...))]),\n",
              "             param_grid={&#x27;xgbclassifier__colsample_bytree&#x27;: [0.6, 0.8, 1.0],\n",
              "                         &#x27;xgbclassifier__learning_rate&#x27;: [0.05, 0.1, 0.2],\n",
              "                         &#x27;xgbclassifier__max_depth&#x27;: [2, 4, 6],\n",
              "                         &#x27;xgbclassifier__min_child_weight&#x27;: [2, 4, 8]},\n",
              "             scoring=&#x27;f1&#x27;, verbose=3)</pre><b>In a Jupyter environment, please rerun this cell to show the HTML representation or trust the notebook. <br />On GitHub, the HTML representation is unable to render, please try loading this page with nbviewer.org.</b></div><div class=\"sk-container\" hidden><div class=\"sk-item sk-dashed-wrapped\"><div class=\"sk-label-container\"><div class=\"sk-label sk-toggleable\"><input class=\"sk-toggleable__control sk-hidden--visually\" id=\"sk-estimator-id-10\" type=\"checkbox\" ><label for=\"sk-estimator-id-10\" class=\"sk-toggleable__label sk-toggleable__label-arrow\">GridSearchCV</label><div class=\"sk-toggleable__content\"><pre>GridSearchCV(cv=3,\n",
              "             estimator=Pipeline(steps=[(&#x27;ordinalencoder&#x27;, OrdinalEncoder()),\n",
              "                                       (&#x27;simpleimputer&#x27;,\n",
              "                                        SimpleImputer(strategy=&#x27;median&#x27;)),\n",
              "                                       (&#x27;xgbclassifier&#x27;,\n",
              "                                        XGBClassifier(base_score=None,\n",
              "                                                      booster=None,\n",
              "                                                      callbacks=None,\n",
              "                                                      colsample_bylevel=None,\n",
              "                                                      colsample_bynode=None,\n",
              "                                                      colsample_bytree=None,\n",
              "                                                      early_stopping_rounds=None,\n",
              "                                                      enable_categorical=False,\n",
              "                                                      eval_metric=&#x27;error&#x27;,\n",
              "                                                      featu...\n",
              "                                                      min_child_weight=None,\n",
              "                                                      missing=nan,\n",
              "                                                      monotone_constraints=None,\n",
              "                                                      n_estimators=200,\n",
              "                                                      n_jobs=-1,\n",
              "                                                      num_parallel_tree=None,\n",
              "                                                      predictor=None,\n",
              "                                                      random_state=42, ...))]),\n",
              "             param_grid={&#x27;xgbclassifier__colsample_bytree&#x27;: [0.6, 0.8, 1.0],\n",
              "                         &#x27;xgbclassifier__learning_rate&#x27;: [0.05, 0.1, 0.2],\n",
              "                         &#x27;xgbclassifier__max_depth&#x27;: [2, 4, 6],\n",
              "                         &#x27;xgbclassifier__min_child_weight&#x27;: [2, 4, 8]},\n",
              "             scoring=&#x27;f1&#x27;, verbose=3)</pre></div></div></div><div class=\"sk-parallel\"><div class=\"sk-parallel-item\"><div class=\"sk-item\"><div class=\"sk-label-container\"><div class=\"sk-label sk-toggleable\"><input class=\"sk-toggleable__control sk-hidden--visually\" id=\"sk-estimator-id-11\" type=\"checkbox\" ><label for=\"sk-estimator-id-11\" class=\"sk-toggleable__label sk-toggleable__label-arrow\">estimator: Pipeline</label><div class=\"sk-toggleable__content\"><pre>Pipeline(steps=[(&#x27;ordinalencoder&#x27;, OrdinalEncoder()),\n",
              "                (&#x27;simpleimputer&#x27;, SimpleImputer(strategy=&#x27;median&#x27;)),\n",
              "                (&#x27;xgbclassifier&#x27;,\n",
              "                 XGBClassifier(base_score=None, booster=None, callbacks=None,\n",
              "                               colsample_bylevel=None, colsample_bynode=None,\n",
              "                               colsample_bytree=None,\n",
              "                               early_stopping_rounds=None,\n",
              "                               enable_categorical=False, eval_metric=&#x27;error&#x27;,\n",
              "                               feature_types=None, gamma=None, gpu_id=None,\n",
              "                               grow_policy=None, importance_type=None,\n",
              "                               interaction_constraints=None, learning_rate=None,\n",
              "                               max_bin=None, max_cat_threshold=None,\n",
              "                               max_cat_to_onehot=None, max_delta_step=None,\n",
              "                               max_depth=None, max_leaves=None,\n",
              "                               min_child_weight=None, missing=nan,\n",
              "                               monotone_constraints=None, n_estimators=200,\n",
              "                               n_jobs=-1, num_parallel_tree=None,\n",
              "                               predictor=None, random_state=42, ...))])</pre></div></div></div><div class=\"sk-serial\"><div class=\"sk-item\"><div class=\"sk-serial\"><div class=\"sk-item\"><div class=\"sk-estimator sk-toggleable\"><input class=\"sk-toggleable__control sk-hidden--visually\" id=\"sk-estimator-id-12\" type=\"checkbox\" ><label for=\"sk-estimator-id-12\" class=\"sk-toggleable__label sk-toggleable__label-arrow\">OrdinalEncoder</label><div class=\"sk-toggleable__content\"><pre>OrdinalEncoder()</pre></div></div></div><div class=\"sk-item\"><div class=\"sk-estimator sk-toggleable\"><input class=\"sk-toggleable__control sk-hidden--visually\" id=\"sk-estimator-id-13\" type=\"checkbox\" ><label for=\"sk-estimator-id-13\" class=\"sk-toggleable__label sk-toggleable__label-arrow\">SimpleImputer</label><div class=\"sk-toggleable__content\"><pre>SimpleImputer(strategy=&#x27;median&#x27;)</pre></div></div></div><div class=\"sk-item\"><div class=\"sk-estimator sk-toggleable\"><input class=\"sk-toggleable__control sk-hidden--visually\" id=\"sk-estimator-id-14\" type=\"checkbox\" ><label for=\"sk-estimator-id-14\" class=\"sk-toggleable__label sk-toggleable__label-arrow\">XGBClassifier</label><div class=\"sk-toggleable__content\"><pre>XGBClassifier(base_score=None, booster=None, callbacks=None,\n",
              "              colsample_bylevel=None, colsample_bynode=None,\n",
              "              colsample_bytree=None, early_stopping_rounds=None,\n",
              "              enable_categorical=False, eval_metric=&#x27;error&#x27;, feature_types=None,\n",
              "              gamma=None, gpu_id=None, grow_policy=None, importance_type=None,\n",
              "              interaction_constraints=None, learning_rate=None, max_bin=None,\n",
              "              max_cat_threshold=None, max_cat_to_onehot=None,\n",
              "              max_delta_step=None, max_depth=None, max_leaves=None,\n",
              "              min_child_weight=None, missing=nan, monotone_constraints=None,\n",
              "              n_estimators=200, n_jobs=-1, num_parallel_tree=None,\n",
              "              predictor=None, random_state=42, ...)</pre></div></div></div></div></div></div></div></div></div></div></div></div>"
            ]
          },
          "metadata": {},
          "execution_count": 28
        }
      ]
    },
    {
      "cell_type": "code",
      "source": [
        "print(\"최적 하이퍼파라미터: \", grid_search.best_params_)\n",
        "print(\"최적 F1-Score: \", grid_search.best_score_)"
      ],
      "metadata": {
        "colab": {
          "base_uri": "https://localhost:8080/"
        },
        "id": "yaHLcyBX9gzF",
        "outputId": "b504f1b8-aaf0-4984-a1af-c84f4420af87"
      },
      "execution_count": 29,
      "outputs": [
        {
          "output_type": "stream",
          "name": "stdout",
          "text": [
            "최적 하이퍼파라미터:  {'xgbclassifier__colsample_bytree': 0.6, 'xgbclassifier__learning_rate': 0.1, 'xgbclassifier__max_depth': 4, 'xgbclassifier__min_child_weight': 2}\n",
            "최적 F1-Score:  0.5619067398243257\n"
          ]
        }
      ]
    },
    {
      "cell_type": "code",
      "source": [
        "pd.DataFrame(grid_search.cv_results_).sort_values(by=\"rank_test_score\").T"
      ],
      "metadata": {
        "colab": {
          "base_uri": "https://localhost:8080/",
          "height": 630
        },
        "id": "ieB7kpSc9kX-",
        "outputId": "801a0a43-de6d-47d2-f8c3-73d754463ddd"
      },
      "execution_count": 30,
      "outputs": [
        {
          "output_type": "execute_result",
          "data": {
            "text/plain": [
              "                                                                                      12  \\\n",
              "mean_fit_time                                                                   4.283586   \n",
              "std_fit_time                                                                     0.78499   \n",
              "mean_score_time                                                                 0.088813   \n",
              "std_score_time                                                                  0.007961   \n",
              "param_xgbclassifier__colsample_bytree                                                0.6   \n",
              "param_xgbclassifier__learning_rate                                                   0.1   \n",
              "param_xgbclassifier__max_depth                                                         4   \n",
              "param_xgbclassifier__min_child_weight                                                  2   \n",
              "params                                 {'xgbclassifier__colsample_bytree': 0.6, 'xgbc...   \n",
              "split0_test_score                                                               0.554248   \n",
              "split1_test_score                                                               0.568353   \n",
              "split2_test_score                                                               0.563119   \n",
              "mean_test_score                                                                 0.561907   \n",
              "std_test_score                                                                  0.005822   \n",
              "rank_test_score                                                                        1   \n",
              "\n",
              "                                                                                      60  \\\n",
              "mean_fit_time                                                                   9.614877   \n",
              "std_fit_time                                                                    1.343717   \n",
              "mean_score_time                                                                 0.103452   \n",
              "std_score_time                                                                   0.00124   \n",
              "param_xgbclassifier__colsample_bytree                                                1.0   \n",
              "param_xgbclassifier__learning_rate                                                  0.05   \n",
              "param_xgbclassifier__max_depth                                                         6   \n",
              "param_xgbclassifier__min_child_weight                                                  2   \n",
              "params                                 {'xgbclassifier__colsample_bytree': 1.0, 'xgbc...   \n",
              "split0_test_score                                                               0.552508   \n",
              "split1_test_score                                                                0.56547   \n",
              "split2_test_score                                                               0.562016   \n",
              "mean_test_score                                                                 0.559998   \n",
              "std_test_score                                                                  0.005481   \n",
              "rank_test_score                                                                        2   \n",
              "\n",
              "                                                                                      33  \\\n",
              "mean_fit_time                                                                   7.820732   \n",
              "std_fit_time                                                                    0.816186   \n",
              "mean_score_time                                                                 0.100674   \n",
              "std_score_time                                                                  0.000393   \n",
              "param_xgbclassifier__colsample_bytree                                                0.8   \n",
              "param_xgbclassifier__learning_rate                                                  0.05   \n",
              "param_xgbclassifier__max_depth                                                         6   \n",
              "param_xgbclassifier__min_child_weight                                                  2   \n",
              "params                                 {'xgbclassifier__colsample_bytree': 0.8, 'xgbc...   \n",
              "split0_test_score                                                               0.551178   \n",
              "split1_test_score                                                               0.564346   \n",
              "split2_test_score                                                               0.563307   \n",
              "mean_test_score                                                                  0.55961   \n",
              "std_test_score                                                                  0.005978   \n",
              "rank_test_score                                                                        3   \n",
              "\n",
              "                                                                                      13  \\\n",
              "mean_fit_time                                                                   4.722461   \n",
              "std_fit_time                                                                    0.780293   \n",
              "mean_score_time                                                                 0.085544   \n",
              "std_score_time                                                                  0.003002   \n",
              "param_xgbclassifier__colsample_bytree                                                0.6   \n",
              "param_xgbclassifier__learning_rate                                                   0.1   \n",
              "param_xgbclassifier__max_depth                                                         4   \n",
              "param_xgbclassifier__min_child_weight                                                  4   \n",
              "params                                 {'xgbclassifier__colsample_bytree': 0.6, 'xgbc...   \n",
              "split0_test_score                                                               0.552615   \n",
              "split1_test_score                                                               0.565818   \n",
              "split2_test_score                                                               0.560259   \n",
              "mean_test_score                                                                 0.559564   \n",
              "std_test_score                                                                  0.005413   \n",
              "rank_test_score                                                                        4   \n",
              "\n",
              "                                                                                      39  \\\n",
              "mean_fit_time                                                                   4.914317   \n",
              "std_fit_time                                                                    0.798862   \n",
              "mean_score_time                                                                 0.084683   \n",
              "std_score_time                                                                  0.000653   \n",
              "param_xgbclassifier__colsample_bytree                                                0.8   \n",
              "param_xgbclassifier__learning_rate                                                   0.1   \n",
              "param_xgbclassifier__max_depth                                                         4   \n",
              "param_xgbclassifier__min_child_weight                                                  2   \n",
              "params                                 {'xgbclassifier__colsample_bytree': 0.8, 'xgbc...   \n",
              "split0_test_score                                                               0.552863   \n",
              "split1_test_score                                                               0.566824   \n",
              "split2_test_score                                                               0.558963   \n",
              "mean_test_score                                                                  0.55955   \n",
              "std_test_score                                                                  0.005715   \n",
              "rank_test_score                                                                        5   \n",
              "\n",
              "                                                                                      67  \\\n",
              "mean_fit_time                                                                   5.684507   \n",
              "std_fit_time                                                                    0.776141   \n",
              "mean_score_time                                                                 0.088093   \n",
              "std_score_time                                                                  0.003192   \n",
              "param_xgbclassifier__colsample_bytree                                                1.0   \n",
              "param_xgbclassifier__learning_rate                                                   0.1   \n",
              "param_xgbclassifier__max_depth                                                         4   \n",
              "param_xgbclassifier__min_child_weight                                                  4   \n",
              "params                                 {'xgbclassifier__colsample_bytree': 1.0, 'xgbc...   \n",
              "split0_test_score                                                               0.552682   \n",
              "split1_test_score                                                               0.564235   \n",
              "split2_test_score                                                               0.561608   \n",
              "mean_test_score                                                                 0.559508   \n",
              "std_test_score                                                                  0.004945   \n",
              "rank_test_score                                                                        6   \n",
              "\n",
              "                                                                                      14  \\\n",
              "mean_fit_time                                                                   4.213431   \n",
              "std_fit_time                                                                    0.778246   \n",
              "mean_score_time                                                                 0.084619   \n",
              "std_score_time                                                                  0.000937   \n",
              "param_xgbclassifier__colsample_bytree                                                0.6   \n",
              "param_xgbclassifier__learning_rate                                                   0.1   \n",
              "param_xgbclassifier__max_depth                                                         4   \n",
              "param_xgbclassifier__min_child_weight                                                  8   \n",
              "params                                 {'xgbclassifier__colsample_bytree': 0.6, 'xgbc...   \n",
              "split0_test_score                                                               0.550644   \n",
              "split1_test_score                                                               0.566746   \n",
              "split2_test_score                                                               0.559516   \n",
              "mean_test_score                                                                 0.558969   \n",
              "std_test_score                                                                  0.006585   \n",
              "rank_test_score                                                                        7   \n",
              "\n",
              "                                                                                      41  \\\n",
              "mean_fit_time                                                                    5.47272   \n",
              "std_fit_time                                                                    0.778887   \n",
              "mean_score_time                                                                  0.08709   \n",
              "std_score_time                                                                  0.004553   \n",
              "param_xgbclassifier__colsample_bytree                                                0.8   \n",
              "param_xgbclassifier__learning_rate                                                   0.1   \n",
              "param_xgbclassifier__max_depth                                                         4   \n",
              "param_xgbclassifier__min_child_weight                                                  8   \n",
              "params                                 {'xgbclassifier__colsample_bytree': 0.8, 'xgbc...   \n",
              "split0_test_score                                                               0.551458   \n",
              "split1_test_score                                                               0.565377   \n",
              "split2_test_score                                                               0.559585   \n",
              "mean_test_score                                                                 0.558807   \n",
              "std_test_score                                                                  0.005709   \n",
              "rank_test_score                                                                        8   \n",
              "\n",
              "                                                                                      34  \\\n",
              "mean_fit_time                                                                   8.287638   \n",
              "std_fit_time                                                                    1.185831   \n",
              "mean_score_time                                                                 0.133642   \n",
              "std_score_time                                                                  0.041705   \n",
              "param_xgbclassifier__colsample_bytree                                                0.8   \n",
              "param_xgbclassifier__learning_rate                                                  0.05   \n",
              "param_xgbclassifier__max_depth                                                         6   \n",
              "param_xgbclassifier__min_child_weight                                                  4   \n",
              "params                                 {'xgbclassifier__colsample_bytree': 0.8, 'xgbc...   \n",
              "split0_test_score                                                               0.548733   \n",
              "split1_test_score                                                               0.567061   \n",
              "split2_test_score                                                               0.560603   \n",
              "mean_test_score                                                                 0.558799   \n",
              "std_test_score                                                                   0.00759   \n",
              "rank_test_score                                                                        9   \n",
              "\n",
              "                                                                                      40  \\\n",
              "mean_fit_time                                                                   5.492172   \n",
              "std_fit_time                                                                    0.820574   \n",
              "mean_score_time                                                                 0.082458   \n",
              "std_score_time                                                                  0.000414   \n",
              "param_xgbclassifier__colsample_bytree                                                0.8   \n",
              "param_xgbclassifier__learning_rate                                                   0.1   \n",
              "param_xgbclassifier__max_depth                                                         4   \n",
              "param_xgbclassifier__min_child_weight                                                  4   \n",
              "params                                 {'xgbclassifier__colsample_bytree': 0.8, 'xgbc...   \n",
              "split0_test_score                                                               0.551428   \n",
              "split1_test_score                                                               0.567742   \n",
              "split2_test_score                                                               0.557115   \n",
              "mean_test_score                                                                 0.558762   \n",
              "std_test_score                                                                  0.006761   \n",
              "rank_test_score                                                                       10   \n",
              "\n",
              "                                       ...  \\\n",
              "mean_fit_time                          ...   \n",
              "std_fit_time                           ...   \n",
              "mean_score_time                        ...   \n",
              "std_score_time                         ...   \n",
              "param_xgbclassifier__colsample_bytree  ...   \n",
              "param_xgbclassifier__learning_rate     ...   \n",
              "param_xgbclassifier__max_depth         ...   \n",
              "param_xgbclassifier__min_child_weight  ...   \n",
              "params                                 ...   \n",
              "split0_test_score                      ...   \n",
              "split1_test_score                      ...   \n",
              "split2_test_score                      ...   \n",
              "mean_test_score                        ...   \n",
              "std_test_score                         ...   \n",
              "rank_test_score                        ...   \n",
              "\n",
              "                                                                                      56  \\\n",
              "mean_fit_time                                                                   3.387734   \n",
              "std_fit_time                                                                     0.76414   \n",
              "mean_score_time                                                                 0.070673   \n",
              "std_score_time                                                                  0.000772   \n",
              "param_xgbclassifier__colsample_bytree                                                1.0   \n",
              "param_xgbclassifier__learning_rate                                                  0.05   \n",
              "param_xgbclassifier__max_depth                                                         2   \n",
              "param_xgbclassifier__min_child_weight                                                  8   \n",
              "params                                 {'xgbclassifier__colsample_bytree': 1.0, 'xgbc...   \n",
              "split0_test_score                                                               0.542703   \n",
              "split1_test_score                                                               0.558422   \n",
              "split2_test_score                                                               0.541367   \n",
              "mean_test_score                                                                 0.547497   \n",
              "std_test_score                                                                  0.007744   \n",
              "rank_test_score                                                                       72   \n",
              "\n",
              "                                                                                      80  \\\n",
              "mean_fit_time                                                                   8.848023   \n",
              "std_fit_time                                                                    0.809764   \n",
              "mean_score_time                                                                 0.104326   \n",
              "std_score_time                                                                  0.003096   \n",
              "param_xgbclassifier__colsample_bytree                                                1.0   \n",
              "param_xgbclassifier__learning_rate                                                   0.2   \n",
              "param_xgbclassifier__max_depth                                                         6   \n",
              "param_xgbclassifier__min_child_weight                                                  8   \n",
              "params                                 {'xgbclassifier__colsample_bytree': 1.0, 'xgbc...   \n",
              "split0_test_score                                                               0.548441   \n",
              "split1_test_score                                                                0.54811   \n",
              "split2_test_score                                                               0.545179   \n",
              "mean_test_score                                                                 0.547244   \n",
              "std_test_score                                                                  0.001466   \n",
              "rank_test_score                                                                       73   \n",
              "\n",
              "                                                                                      28  \\\n",
              "mean_fit_time                                                                   2.492378   \n",
              "std_fit_time                                                                    0.039129   \n",
              "mean_score_time                                                                 0.073425   \n",
              "std_score_time                                                                   0.00152   \n",
              "param_xgbclassifier__colsample_bytree                                                0.8   \n",
              "param_xgbclassifier__learning_rate                                                  0.05   \n",
              "param_xgbclassifier__max_depth                                                         2   \n",
              "param_xgbclassifier__min_child_weight                                                  4   \n",
              "params                                 {'xgbclassifier__colsample_bytree': 0.8, 'xgbc...   \n",
              "split0_test_score                                                               0.541243   \n",
              "split1_test_score                                                               0.560278   \n",
              "split2_test_score                                                               0.540092   \n",
              "mean_test_score                                                                 0.547204   \n",
              "std_test_score                                                                  0.009256   \n",
              "rank_test_score                                                                       74   \n",
              "\n",
              "                                                                                      79  \\\n",
              "mean_fit_time                                                                  10.029012   \n",
              "std_fit_time                                                                     0.75144   \n",
              "mean_score_time                                                                  0.10316   \n",
              "std_score_time                                                                  0.000709   \n",
              "param_xgbclassifier__colsample_bytree                                                1.0   \n",
              "param_xgbclassifier__learning_rate                                                   0.2   \n",
              "param_xgbclassifier__max_depth                                                         6   \n",
              "param_xgbclassifier__min_child_weight                                                  4   \n",
              "params                                 {'xgbclassifier__colsample_bytree': 1.0, 'xgbc...   \n",
              "split0_test_score                                                               0.546799   \n",
              "split1_test_score                                                               0.549648   \n",
              "split2_test_score                                                               0.544312   \n",
              "mean_test_score                                                                  0.54692   \n",
              "std_test_score                                                                   0.00218   \n",
              "rank_test_score                                                                       75   \n",
              "\n",
              "                                                                                      53  \\\n",
              "mean_fit_time                                                                   8.243003   \n",
              "std_fit_time                                                                    0.006764   \n",
              "mean_score_time                                                                 0.109447   \n",
              "std_score_time                                                                  0.006325   \n",
              "param_xgbclassifier__colsample_bytree                                                0.8   \n",
              "param_xgbclassifier__learning_rate                                                   0.2   \n",
              "param_xgbclassifier__max_depth                                                         6   \n",
              "param_xgbclassifier__min_child_weight                                                  8   \n",
              "params                                 {'xgbclassifier__colsample_bytree': 0.8, 'xgbc...   \n",
              "split0_test_score                                                               0.544419   \n",
              "split1_test_score                                                               0.546512   \n",
              "split2_test_score                                                               0.549265   \n",
              "mean_test_score                                                                 0.546732   \n",
              "std_test_score                                                                  0.001985   \n",
              "rank_test_score                                                                       76   \n",
              "\n",
              "                                                                                      51  \\\n",
              "mean_fit_time                                                                   8.365716   \n",
              "std_fit_time                                                                    1.355202   \n",
              "mean_score_time                                                                 0.101434   \n",
              "std_score_time                                                                  0.000464   \n",
              "param_xgbclassifier__colsample_bytree                                                0.8   \n",
              "param_xgbclassifier__learning_rate                                                   0.2   \n",
              "param_xgbclassifier__max_depth                                                         6   \n",
              "param_xgbclassifier__min_child_weight                                                  2   \n",
              "params                                 {'xgbclassifier__colsample_bytree': 0.8, 'xgbc...   \n",
              "split0_test_score                                                                0.54853   \n",
              "split1_test_score                                                               0.549592   \n",
              "split2_test_score                                                               0.540026   \n",
              "mean_test_score                                                                 0.546049   \n",
              "std_test_score                                                                  0.004281   \n",
              "rank_test_score                                                                       77   \n",
              "\n",
              "                                                                                      24  \\\n",
              "mean_fit_time                                                                    6.70657   \n",
              "std_fit_time                                                                     1.55251   \n",
              "mean_score_time                                                                  0.13795   \n",
              "std_score_time                                                                  0.045277   \n",
              "param_xgbclassifier__colsample_bytree                                                0.6   \n",
              "param_xgbclassifier__learning_rate                                                   0.2   \n",
              "param_xgbclassifier__max_depth                                                         6   \n",
              "param_xgbclassifier__min_child_weight                                                  2   \n",
              "params                                 {'xgbclassifier__colsample_bytree': 0.6, 'xgbc...   \n",
              "split0_test_score                                                               0.546958   \n",
              "split1_test_score                                                               0.548767   \n",
              "split2_test_score                                                               0.540787   \n",
              "mean_test_score                                                                 0.545504   \n",
              "std_test_score                                                                  0.003416   \n",
              "rank_test_score                                                                       78   \n",
              "\n",
              "                                                                                      52  \\\n",
              "mean_fit_time                                                                   7.761304   \n",
              "std_fit_time                                                                    0.771605   \n",
              "mean_score_time                                                                 0.108735   \n",
              "std_score_time                                                                  0.005231   \n",
              "param_xgbclassifier__colsample_bytree                                                0.8   \n",
              "param_xgbclassifier__learning_rate                                                   0.2   \n",
              "param_xgbclassifier__max_depth                                                         6   \n",
              "param_xgbclassifier__min_child_weight                                                  4   \n",
              "params                                 {'xgbclassifier__colsample_bytree': 0.8, 'xgbc...   \n",
              "split0_test_score                                                               0.544881   \n",
              "split1_test_score                                                               0.544282   \n",
              "split2_test_score                                                               0.543803   \n",
              "mean_test_score                                                                 0.544322   \n",
              "std_test_score                                                                  0.000441   \n",
              "rank_test_score                                                                       79   \n",
              "\n",
              "                                                                                      26  \\\n",
              "mean_fit_time                                                                   6.643452   \n",
              "std_fit_time                                                                    0.828072   \n",
              "mean_score_time                                                                 0.102362   \n",
              "std_score_time                                                                  0.001071   \n",
              "param_xgbclassifier__colsample_bytree                                                0.6   \n",
              "param_xgbclassifier__learning_rate                                                   0.2   \n",
              "param_xgbclassifier__max_depth                                                         6   \n",
              "param_xgbclassifier__min_child_weight                                                  8   \n",
              "params                                 {'xgbclassifier__colsample_bytree': 0.6, 'xgbc...   \n",
              "split0_test_score                                                               0.547969   \n",
              "split1_test_score                                                               0.541496   \n",
              "split2_test_score                                                               0.542439   \n",
              "mean_test_score                                                                 0.543968   \n",
              "std_test_score                                                                  0.002855   \n",
              "rank_test_score                                                                       80   \n",
              "\n",
              "                                                                                      78  \n",
              "mean_fit_time                                                                   9.509517  \n",
              "std_fit_time                                                                    1.342012  \n",
              "mean_score_time                                                                 0.100905  \n",
              "std_score_time                                                                  0.000409  \n",
              "param_xgbclassifier__colsample_bytree                                                1.0  \n",
              "param_xgbclassifier__learning_rate                                                   0.2  \n",
              "param_xgbclassifier__max_depth                                                         6  \n",
              "param_xgbclassifier__min_child_weight                                                  2  \n",
              "params                                 {'xgbclassifier__colsample_bytree': 1.0, 'xgbc...  \n",
              "split0_test_score                                                               0.547835  \n",
              "split1_test_score                                                               0.541541  \n",
              "split2_test_score                                                               0.539854  \n",
              "mean_test_score                                                                 0.543077  \n",
              "std_test_score                                                                  0.003435  \n",
              "rank_test_score                                                                       81  \n",
              "\n",
              "[15 rows x 81 columns]"
            ],
            "text/html": [
              "\n",
              "  <div id=\"df-69d078e5-eb28-48f9-8fd1-62753c835c5d\">\n",
              "    <div class=\"colab-df-container\">\n",
              "      <div>\n",
              "<style scoped>\n",
              "    .dataframe tbody tr th:only-of-type {\n",
              "        vertical-align: middle;\n",
              "    }\n",
              "\n",
              "    .dataframe tbody tr th {\n",
              "        vertical-align: top;\n",
              "    }\n",
              "\n",
              "    .dataframe thead th {\n",
              "        text-align: right;\n",
              "    }\n",
              "</style>\n",
              "<table border=\"1\" class=\"dataframe\">\n",
              "  <thead>\n",
              "    <tr style=\"text-align: right;\">\n",
              "      <th></th>\n",
              "      <th>12</th>\n",
              "      <th>60</th>\n",
              "      <th>33</th>\n",
              "      <th>13</th>\n",
              "      <th>39</th>\n",
              "      <th>67</th>\n",
              "      <th>14</th>\n",
              "      <th>41</th>\n",
              "      <th>34</th>\n",
              "      <th>40</th>\n",
              "      <th>...</th>\n",
              "      <th>56</th>\n",
              "      <th>80</th>\n",
              "      <th>28</th>\n",
              "      <th>79</th>\n",
              "      <th>53</th>\n",
              "      <th>51</th>\n",
              "      <th>24</th>\n",
              "      <th>52</th>\n",
              "      <th>26</th>\n",
              "      <th>78</th>\n",
              "    </tr>\n",
              "  </thead>\n",
              "  <tbody>\n",
              "    <tr>\n",
              "      <th>mean_fit_time</th>\n",
              "      <td>4.283586</td>\n",
              "      <td>9.614877</td>\n",
              "      <td>7.820732</td>\n",
              "      <td>4.722461</td>\n",
              "      <td>4.914317</td>\n",
              "      <td>5.684507</td>\n",
              "      <td>4.213431</td>\n",
              "      <td>5.47272</td>\n",
              "      <td>8.287638</td>\n",
              "      <td>5.492172</td>\n",
              "      <td>...</td>\n",
              "      <td>3.387734</td>\n",
              "      <td>8.848023</td>\n",
              "      <td>2.492378</td>\n",
              "      <td>10.029012</td>\n",
              "      <td>8.243003</td>\n",
              "      <td>8.365716</td>\n",
              "      <td>6.70657</td>\n",
              "      <td>7.761304</td>\n",
              "      <td>6.643452</td>\n",
              "      <td>9.509517</td>\n",
              "    </tr>\n",
              "    <tr>\n",
              "      <th>std_fit_time</th>\n",
              "      <td>0.78499</td>\n",
              "      <td>1.343717</td>\n",
              "      <td>0.816186</td>\n",
              "      <td>0.780293</td>\n",
              "      <td>0.798862</td>\n",
              "      <td>0.776141</td>\n",
              "      <td>0.778246</td>\n",
              "      <td>0.778887</td>\n",
              "      <td>1.185831</td>\n",
              "      <td>0.820574</td>\n",
              "      <td>...</td>\n",
              "      <td>0.76414</td>\n",
              "      <td>0.809764</td>\n",
              "      <td>0.039129</td>\n",
              "      <td>0.75144</td>\n",
              "      <td>0.006764</td>\n",
              "      <td>1.355202</td>\n",
              "      <td>1.55251</td>\n",
              "      <td>0.771605</td>\n",
              "      <td>0.828072</td>\n",
              "      <td>1.342012</td>\n",
              "    </tr>\n",
              "    <tr>\n",
              "      <th>mean_score_time</th>\n",
              "      <td>0.088813</td>\n",
              "      <td>0.103452</td>\n",
              "      <td>0.100674</td>\n",
              "      <td>0.085544</td>\n",
              "      <td>0.084683</td>\n",
              "      <td>0.088093</td>\n",
              "      <td>0.084619</td>\n",
              "      <td>0.08709</td>\n",
              "      <td>0.133642</td>\n",
              "      <td>0.082458</td>\n",
              "      <td>...</td>\n",
              "      <td>0.070673</td>\n",
              "      <td>0.104326</td>\n",
              "      <td>0.073425</td>\n",
              "      <td>0.10316</td>\n",
              "      <td>0.109447</td>\n",
              "      <td>0.101434</td>\n",
              "      <td>0.13795</td>\n",
              "      <td>0.108735</td>\n",
              "      <td>0.102362</td>\n",
              "      <td>0.100905</td>\n",
              "    </tr>\n",
              "    <tr>\n",
              "      <th>std_score_time</th>\n",
              "      <td>0.007961</td>\n",
              "      <td>0.00124</td>\n",
              "      <td>0.000393</td>\n",
              "      <td>0.003002</td>\n",
              "      <td>0.000653</td>\n",
              "      <td>0.003192</td>\n",
              "      <td>0.000937</td>\n",
              "      <td>0.004553</td>\n",
              "      <td>0.041705</td>\n",
              "      <td>0.000414</td>\n",
              "      <td>...</td>\n",
              "      <td>0.000772</td>\n",
              "      <td>0.003096</td>\n",
              "      <td>0.00152</td>\n",
              "      <td>0.000709</td>\n",
              "      <td>0.006325</td>\n",
              "      <td>0.000464</td>\n",
              "      <td>0.045277</td>\n",
              "      <td>0.005231</td>\n",
              "      <td>0.001071</td>\n",
              "      <td>0.000409</td>\n",
              "    </tr>\n",
              "    <tr>\n",
              "      <th>param_xgbclassifier__colsample_bytree</th>\n",
              "      <td>0.6</td>\n",
              "      <td>1.0</td>\n",
              "      <td>0.8</td>\n",
              "      <td>0.6</td>\n",
              "      <td>0.8</td>\n",
              "      <td>1.0</td>\n",
              "      <td>0.6</td>\n",
              "      <td>0.8</td>\n",
              "      <td>0.8</td>\n",
              "      <td>0.8</td>\n",
              "      <td>...</td>\n",
              "      <td>1.0</td>\n",
              "      <td>1.0</td>\n",
              "      <td>0.8</td>\n",
              "      <td>1.0</td>\n",
              "      <td>0.8</td>\n",
              "      <td>0.8</td>\n",
              "      <td>0.6</td>\n",
              "      <td>0.8</td>\n",
              "      <td>0.6</td>\n",
              "      <td>1.0</td>\n",
              "    </tr>\n",
              "    <tr>\n",
              "      <th>param_xgbclassifier__learning_rate</th>\n",
              "      <td>0.1</td>\n",
              "      <td>0.05</td>\n",
              "      <td>0.05</td>\n",
              "      <td>0.1</td>\n",
              "      <td>0.1</td>\n",
              "      <td>0.1</td>\n",
              "      <td>0.1</td>\n",
              "      <td>0.1</td>\n",
              "      <td>0.05</td>\n",
              "      <td>0.1</td>\n",
              "      <td>...</td>\n",
              "      <td>0.05</td>\n",
              "      <td>0.2</td>\n",
              "      <td>0.05</td>\n",
              "      <td>0.2</td>\n",
              "      <td>0.2</td>\n",
              "      <td>0.2</td>\n",
              "      <td>0.2</td>\n",
              "      <td>0.2</td>\n",
              "      <td>0.2</td>\n",
              "      <td>0.2</td>\n",
              "    </tr>\n",
              "    <tr>\n",
              "      <th>param_xgbclassifier__max_depth</th>\n",
              "      <td>4</td>\n",
              "      <td>6</td>\n",
              "      <td>6</td>\n",
              "      <td>4</td>\n",
              "      <td>4</td>\n",
              "      <td>4</td>\n",
              "      <td>4</td>\n",
              "      <td>4</td>\n",
              "      <td>6</td>\n",
              "      <td>4</td>\n",
              "      <td>...</td>\n",
              "      <td>2</td>\n",
              "      <td>6</td>\n",
              "      <td>2</td>\n",
              "      <td>6</td>\n",
              "      <td>6</td>\n",
              "      <td>6</td>\n",
              "      <td>6</td>\n",
              "      <td>6</td>\n",
              "      <td>6</td>\n",
              "      <td>6</td>\n",
              "    </tr>\n",
              "    <tr>\n",
              "      <th>param_xgbclassifier__min_child_weight</th>\n",
              "      <td>2</td>\n",
              "      <td>2</td>\n",
              "      <td>2</td>\n",
              "      <td>4</td>\n",
              "      <td>2</td>\n",
              "      <td>4</td>\n",
              "      <td>8</td>\n",
              "      <td>8</td>\n",
              "      <td>4</td>\n",
              "      <td>4</td>\n",
              "      <td>...</td>\n",
              "      <td>8</td>\n",
              "      <td>8</td>\n",
              "      <td>4</td>\n",
              "      <td>4</td>\n",
              "      <td>8</td>\n",
              "      <td>2</td>\n",
              "      <td>2</td>\n",
              "      <td>4</td>\n",
              "      <td>8</td>\n",
              "      <td>2</td>\n",
              "    </tr>\n",
              "    <tr>\n",
              "      <th>params</th>\n",
              "      <td>{'xgbclassifier__colsample_bytree': 0.6, 'xgbc...</td>\n",
              "      <td>{'xgbclassifier__colsample_bytree': 1.0, 'xgbc...</td>\n",
              "      <td>{'xgbclassifier__colsample_bytree': 0.8, 'xgbc...</td>\n",
              "      <td>{'xgbclassifier__colsample_bytree': 0.6, 'xgbc...</td>\n",
              "      <td>{'xgbclassifier__colsample_bytree': 0.8, 'xgbc...</td>\n",
              "      <td>{'xgbclassifier__colsample_bytree': 1.0, 'xgbc...</td>\n",
              "      <td>{'xgbclassifier__colsample_bytree': 0.6, 'xgbc...</td>\n",
              "      <td>{'xgbclassifier__colsample_bytree': 0.8, 'xgbc...</td>\n",
              "      <td>{'xgbclassifier__colsample_bytree': 0.8, 'xgbc...</td>\n",
              "      <td>{'xgbclassifier__colsample_bytree': 0.8, 'xgbc...</td>\n",
              "      <td>...</td>\n",
              "      <td>{'xgbclassifier__colsample_bytree': 1.0, 'xgbc...</td>\n",
              "      <td>{'xgbclassifier__colsample_bytree': 1.0, 'xgbc...</td>\n",
              "      <td>{'xgbclassifier__colsample_bytree': 0.8, 'xgbc...</td>\n",
              "      <td>{'xgbclassifier__colsample_bytree': 1.0, 'xgbc...</td>\n",
              "      <td>{'xgbclassifier__colsample_bytree': 0.8, 'xgbc...</td>\n",
              "      <td>{'xgbclassifier__colsample_bytree': 0.8, 'xgbc...</td>\n",
              "      <td>{'xgbclassifier__colsample_bytree': 0.6, 'xgbc...</td>\n",
              "      <td>{'xgbclassifier__colsample_bytree': 0.8, 'xgbc...</td>\n",
              "      <td>{'xgbclassifier__colsample_bytree': 0.6, 'xgbc...</td>\n",
              "      <td>{'xgbclassifier__colsample_bytree': 1.0, 'xgbc...</td>\n",
              "    </tr>\n",
              "    <tr>\n",
              "      <th>split0_test_score</th>\n",
              "      <td>0.554248</td>\n",
              "      <td>0.552508</td>\n",
              "      <td>0.551178</td>\n",
              "      <td>0.552615</td>\n",
              "      <td>0.552863</td>\n",
              "      <td>0.552682</td>\n",
              "      <td>0.550644</td>\n",
              "      <td>0.551458</td>\n",
              "      <td>0.548733</td>\n",
              "      <td>0.551428</td>\n",
              "      <td>...</td>\n",
              "      <td>0.542703</td>\n",
              "      <td>0.548441</td>\n",
              "      <td>0.541243</td>\n",
              "      <td>0.546799</td>\n",
              "      <td>0.544419</td>\n",
              "      <td>0.54853</td>\n",
              "      <td>0.546958</td>\n",
              "      <td>0.544881</td>\n",
              "      <td>0.547969</td>\n",
              "      <td>0.547835</td>\n",
              "    </tr>\n",
              "    <tr>\n",
              "      <th>split1_test_score</th>\n",
              "      <td>0.568353</td>\n",
              "      <td>0.56547</td>\n",
              "      <td>0.564346</td>\n",
              "      <td>0.565818</td>\n",
              "      <td>0.566824</td>\n",
              "      <td>0.564235</td>\n",
              "      <td>0.566746</td>\n",
              "      <td>0.565377</td>\n",
              "      <td>0.567061</td>\n",
              "      <td>0.567742</td>\n",
              "      <td>...</td>\n",
              "      <td>0.558422</td>\n",
              "      <td>0.54811</td>\n",
              "      <td>0.560278</td>\n",
              "      <td>0.549648</td>\n",
              "      <td>0.546512</td>\n",
              "      <td>0.549592</td>\n",
              "      <td>0.548767</td>\n",
              "      <td>0.544282</td>\n",
              "      <td>0.541496</td>\n",
              "      <td>0.541541</td>\n",
              "    </tr>\n",
              "    <tr>\n",
              "      <th>split2_test_score</th>\n",
              "      <td>0.563119</td>\n",
              "      <td>0.562016</td>\n",
              "      <td>0.563307</td>\n",
              "      <td>0.560259</td>\n",
              "      <td>0.558963</td>\n",
              "      <td>0.561608</td>\n",
              "      <td>0.559516</td>\n",
              "      <td>0.559585</td>\n",
              "      <td>0.560603</td>\n",
              "      <td>0.557115</td>\n",
              "      <td>...</td>\n",
              "      <td>0.541367</td>\n",
              "      <td>0.545179</td>\n",
              "      <td>0.540092</td>\n",
              "      <td>0.544312</td>\n",
              "      <td>0.549265</td>\n",
              "      <td>0.540026</td>\n",
              "      <td>0.540787</td>\n",
              "      <td>0.543803</td>\n",
              "      <td>0.542439</td>\n",
              "      <td>0.539854</td>\n",
              "    </tr>\n",
              "    <tr>\n",
              "      <th>mean_test_score</th>\n",
              "      <td>0.561907</td>\n",
              "      <td>0.559998</td>\n",
              "      <td>0.55961</td>\n",
              "      <td>0.559564</td>\n",
              "      <td>0.55955</td>\n",
              "      <td>0.559508</td>\n",
              "      <td>0.558969</td>\n",
              "      <td>0.558807</td>\n",
              "      <td>0.558799</td>\n",
              "      <td>0.558762</td>\n",
              "      <td>...</td>\n",
              "      <td>0.547497</td>\n",
              "      <td>0.547244</td>\n",
              "      <td>0.547204</td>\n",
              "      <td>0.54692</td>\n",
              "      <td>0.546732</td>\n",
              "      <td>0.546049</td>\n",
              "      <td>0.545504</td>\n",
              "      <td>0.544322</td>\n",
              "      <td>0.543968</td>\n",
              "      <td>0.543077</td>\n",
              "    </tr>\n",
              "    <tr>\n",
              "      <th>std_test_score</th>\n",
              "      <td>0.005822</td>\n",
              "      <td>0.005481</td>\n",
              "      <td>0.005978</td>\n",
              "      <td>0.005413</td>\n",
              "      <td>0.005715</td>\n",
              "      <td>0.004945</td>\n",
              "      <td>0.006585</td>\n",
              "      <td>0.005709</td>\n",
              "      <td>0.00759</td>\n",
              "      <td>0.006761</td>\n",
              "      <td>...</td>\n",
              "      <td>0.007744</td>\n",
              "      <td>0.001466</td>\n",
              "      <td>0.009256</td>\n",
              "      <td>0.00218</td>\n",
              "      <td>0.001985</td>\n",
              "      <td>0.004281</td>\n",
              "      <td>0.003416</td>\n",
              "      <td>0.000441</td>\n",
              "      <td>0.002855</td>\n",
              "      <td>0.003435</td>\n",
              "    </tr>\n",
              "    <tr>\n",
              "      <th>rank_test_score</th>\n",
              "      <td>1</td>\n",
              "      <td>2</td>\n",
              "      <td>3</td>\n",
              "      <td>4</td>\n",
              "      <td>5</td>\n",
              "      <td>6</td>\n",
              "      <td>7</td>\n",
              "      <td>8</td>\n",
              "      <td>9</td>\n",
              "      <td>10</td>\n",
              "      <td>...</td>\n",
              "      <td>72</td>\n",
              "      <td>73</td>\n",
              "      <td>74</td>\n",
              "      <td>75</td>\n",
              "      <td>76</td>\n",
              "      <td>77</td>\n",
              "      <td>78</td>\n",
              "      <td>79</td>\n",
              "      <td>80</td>\n",
              "      <td>81</td>\n",
              "    </tr>\n",
              "  </tbody>\n",
              "</table>\n",
              "<p>15 rows × 81 columns</p>\n",
              "</div>\n",
              "      <button class=\"colab-df-convert\" onclick=\"convertToInteractive('df-69d078e5-eb28-48f9-8fd1-62753c835c5d')\"\n",
              "              title=\"Convert this dataframe to an interactive table.\"\n",
              "              style=\"display:none;\">\n",
              "        \n",
              "  <svg xmlns=\"http://www.w3.org/2000/svg\" height=\"24px\"viewBox=\"0 0 24 24\"\n",
              "       width=\"24px\">\n",
              "    <path d=\"M0 0h24v24H0V0z\" fill=\"none\"/>\n",
              "    <path d=\"M18.56 5.44l.94 2.06.94-2.06 2.06-.94-2.06-.94-.94-2.06-.94 2.06-2.06.94zm-11 1L8.5 8.5l.94-2.06 2.06-.94-2.06-.94L8.5 2.5l-.94 2.06-2.06.94zm10 10l.94 2.06.94-2.06 2.06-.94-2.06-.94-.94-2.06-.94 2.06-2.06.94z\"/><path d=\"M17.41 7.96l-1.37-1.37c-.4-.4-.92-.59-1.43-.59-.52 0-1.04.2-1.43.59L10.3 9.45l-7.72 7.72c-.78.78-.78 2.05 0 2.83L4 21.41c.39.39.9.59 1.41.59.51 0 1.02-.2 1.41-.59l7.78-7.78 2.81-2.81c.8-.78.8-2.07 0-2.86zM5.41 20L4 18.59l7.72-7.72 1.47 1.35L5.41 20z\"/>\n",
              "  </svg>\n",
              "      </button>\n",
              "      \n",
              "  <style>\n",
              "    .colab-df-container {\n",
              "      display:flex;\n",
              "      flex-wrap:wrap;\n",
              "      gap: 12px;\n",
              "    }\n",
              "\n",
              "    .colab-df-convert {\n",
              "      background-color: #E8F0FE;\n",
              "      border: none;\n",
              "      border-radius: 50%;\n",
              "      cursor: pointer;\n",
              "      display: none;\n",
              "      fill: #1967D2;\n",
              "      height: 32px;\n",
              "      padding: 0 0 0 0;\n",
              "      width: 32px;\n",
              "    }\n",
              "\n",
              "    .colab-df-convert:hover {\n",
              "      background-color: #E2EBFA;\n",
              "      box-shadow: 0px 1px 2px rgba(60, 64, 67, 0.3), 0px 1px 3px 1px rgba(60, 64, 67, 0.15);\n",
              "      fill: #174EA6;\n",
              "    }\n",
              "\n",
              "    [theme=dark] .colab-df-convert {\n",
              "      background-color: #3B4455;\n",
              "      fill: #D2E3FC;\n",
              "    }\n",
              "\n",
              "    [theme=dark] .colab-df-convert:hover {\n",
              "      background-color: #434B5C;\n",
              "      box-shadow: 0px 1px 3px 1px rgba(0, 0, 0, 0.15);\n",
              "      filter: drop-shadow(0px 1px 2px rgba(0, 0, 0, 0.3));\n",
              "      fill: #FFFFFF;\n",
              "    }\n",
              "  </style>\n",
              "\n",
              "      <script>\n",
              "        const buttonEl =\n",
              "          document.querySelector('#df-69d078e5-eb28-48f9-8fd1-62753c835c5d button.colab-df-convert');\n",
              "        buttonEl.style.display =\n",
              "          google.colab.kernel.accessAllowed ? 'block' : 'none';\n",
              "\n",
              "        async function convertToInteractive(key) {\n",
              "          const element = document.querySelector('#df-69d078e5-eb28-48f9-8fd1-62753c835c5d');\n",
              "          const dataTable =\n",
              "            await google.colab.kernel.invokeFunction('convertToInteractive',\n",
              "                                                     [key], {});\n",
              "          if (!dataTable) return;\n",
              "\n",
              "          const docLinkHtml = 'Like what you see? Visit the ' +\n",
              "            '<a target=\"_blank\" href=https://colab.research.google.com/notebooks/data_table.ipynb>data table notebook</a>'\n",
              "            + ' to learn more about interactive tables.';\n",
              "          element.innerHTML = '';\n",
              "          dataTable['output_type'] = 'display_data';\n",
              "          await google.colab.output.renderOutput(dataTable, element);\n",
              "          const docLink = document.createElement('div');\n",
              "          docLink.innerHTML = docLinkHtml;\n",
              "          element.appendChild(docLink);\n",
              "        }\n",
              "      </script>\n",
              "    </div>\n",
              "  </div>\n",
              "  "
            ]
          },
          "metadata": {},
          "execution_count": 30
        }
      ]
    },
    {
      "cell_type": "markdown",
      "source": [
        "##### 모델 생성"
      ],
      "metadata": {
        "id": "cnANQsb1Nody"
      }
    },
    {
      "cell_type": "code",
      "source": [
        "xgb_grid = make_pipeline(\n",
        "    OrdinalEncoder(),\n",
        "    SimpleImputer(strategy=\"median\"),\n",
        "    XGBClassifier(\n",
        "        objective=\"binary:logistic\",\n",
        "        eval_metric=\"error\",\n",
        "        n_estimators=200,\n",
        "        max_depth = 4,\n",
        "        learning_rate = 0.1,\n",
        "        min_child_weight = 2,\n",
        "        colsample_bytree = 0.6,\n",
        "        random_state=42,\n",
        "        n_jobs=-1\n",
        "    ),\n",
        ")\n",
        "\n",
        "xgb_grid.fit(X_train, y_train)"
      ],
      "metadata": {
        "colab": {
          "base_uri": "https://localhost:8080/",
          "height": 158
        },
        "id": "tvNt-GoSNqB6",
        "outputId": "04983944-914c-40ff-9db3-fd38671309c2"
      },
      "execution_count": 58,
      "outputs": [
        {
          "output_type": "execute_result",
          "data": {
            "text/plain": [
              "Pipeline(steps=[('ordinalencoder',\n",
              "                 OrdinalEncoder(cols=['opinion_h1n1_vacc_effective',\n",
              "                                      'opinion_h1n1_risk',\n",
              "                                      'opinion_h1n1_sick_from_vacc',\n",
              "                                      'opinion_seas_vacc_effective',\n",
              "                                      'opinion_seas_risk',\n",
              "                                      'opinion_seas_sick_from_vacc', 'agegrp',\n",
              "                                      'employment_status', 'census_msa'],\n",
              "                                mapping=[{'col': 'opinion_h1n1_vacc_effective',\n",
              "                                          'data_type': dtype('O'),\n",
              "                                          'mapping': Not At All Effec...\n",
              "                               feature_types=None, gamma=None, gpu_id=None,\n",
              "                               grow_policy=None, importance_type=None,\n",
              "                               interaction_constraints=None, learning_rate=0.1,\n",
              "                               max_bin=None, max_cat_threshold=None,\n",
              "                               max_cat_to_onehot=None, max_delta_step=None,\n",
              "                               max_depth=4, max_leaves=None, min_child_weight=2,\n",
              "                               missing=nan, monotone_constraints=None,\n",
              "                               n_estimators=200, n_jobs=-1,\n",
              "                               num_parallel_tree=None, predictor=None,\n",
              "                               random_state=42, ...))])"
            ],
            "text/html": [
              "<style>#sk-container-id-6 {color: black;background-color: white;}#sk-container-id-6 pre{padding: 0;}#sk-container-id-6 div.sk-toggleable {background-color: white;}#sk-container-id-6 label.sk-toggleable__label {cursor: pointer;display: block;width: 100%;margin-bottom: 0;padding: 0.3em;box-sizing: border-box;text-align: center;}#sk-container-id-6 label.sk-toggleable__label-arrow:before {content: \"▸\";float: left;margin-right: 0.25em;color: #696969;}#sk-container-id-6 label.sk-toggleable__label-arrow:hover:before {color: black;}#sk-container-id-6 div.sk-estimator:hover label.sk-toggleable__label-arrow:before {color: black;}#sk-container-id-6 div.sk-toggleable__content {max-height: 0;max-width: 0;overflow: hidden;text-align: left;background-color: #f0f8ff;}#sk-container-id-6 div.sk-toggleable__content pre {margin: 0.2em;color: black;border-radius: 0.25em;background-color: #f0f8ff;}#sk-container-id-6 input.sk-toggleable__control:checked~div.sk-toggleable__content {max-height: 200px;max-width: 100%;overflow: auto;}#sk-container-id-6 input.sk-toggleable__control:checked~label.sk-toggleable__label-arrow:before {content: \"▾\";}#sk-container-id-6 div.sk-estimator input.sk-toggleable__control:checked~label.sk-toggleable__label {background-color: #d4ebff;}#sk-container-id-6 div.sk-label input.sk-toggleable__control:checked~label.sk-toggleable__label {background-color: #d4ebff;}#sk-container-id-6 input.sk-hidden--visually {border: 0;clip: rect(1px 1px 1px 1px);clip: rect(1px, 1px, 1px, 1px);height: 1px;margin: -1px;overflow: hidden;padding: 0;position: absolute;width: 1px;}#sk-container-id-6 div.sk-estimator {font-family: monospace;background-color: #f0f8ff;border: 1px dotted black;border-radius: 0.25em;box-sizing: border-box;margin-bottom: 0.5em;}#sk-container-id-6 div.sk-estimator:hover {background-color: #d4ebff;}#sk-container-id-6 div.sk-parallel-item::after {content: \"\";width: 100%;border-bottom: 1px solid gray;flex-grow: 1;}#sk-container-id-6 div.sk-label:hover label.sk-toggleable__label {background-color: #d4ebff;}#sk-container-id-6 div.sk-serial::before {content: \"\";position: absolute;border-left: 1px solid gray;box-sizing: border-box;top: 0;bottom: 0;left: 50%;z-index: 0;}#sk-container-id-6 div.sk-serial {display: flex;flex-direction: column;align-items: center;background-color: white;padding-right: 0.2em;padding-left: 0.2em;position: relative;}#sk-container-id-6 div.sk-item {position: relative;z-index: 1;}#sk-container-id-6 div.sk-parallel {display: flex;align-items: stretch;justify-content: center;background-color: white;position: relative;}#sk-container-id-6 div.sk-item::before, #sk-container-id-6 div.sk-parallel-item::before {content: \"\";position: absolute;border-left: 1px solid gray;box-sizing: border-box;top: 0;bottom: 0;left: 50%;z-index: -1;}#sk-container-id-6 div.sk-parallel-item {display: flex;flex-direction: column;z-index: 1;position: relative;background-color: white;}#sk-container-id-6 div.sk-parallel-item:first-child::after {align-self: flex-end;width: 50%;}#sk-container-id-6 div.sk-parallel-item:last-child::after {align-self: flex-start;width: 50%;}#sk-container-id-6 div.sk-parallel-item:only-child::after {width: 0;}#sk-container-id-6 div.sk-dashed-wrapped {border: 1px dashed gray;margin: 0 0.4em 0.5em 0.4em;box-sizing: border-box;padding-bottom: 0.4em;background-color: white;}#sk-container-id-6 div.sk-label label {font-family: monospace;font-weight: bold;display: inline-block;line-height: 1.2em;}#sk-container-id-6 div.sk-label-container {text-align: center;}#sk-container-id-6 div.sk-container {/* jupyter's `normalize.less` sets `[hidden] { display: none; }` but bootstrap.min.css set `[hidden] { display: none !important; }` so we also need the `!important` here to be able to override the default hidden behavior on the sphinx rendered scikit-learn.org. See: https://github.com/scikit-learn/scikit-learn/issues/21755 */display: inline-block !important;position: relative;}#sk-container-id-6 div.sk-text-repr-fallback {display: none;}</style><div id=\"sk-container-id-6\" class=\"sk-top-container\"><div class=\"sk-text-repr-fallback\"><pre>Pipeline(steps=[(&#x27;ordinalencoder&#x27;,\n",
              "                 OrdinalEncoder(cols=[&#x27;opinion_h1n1_vacc_effective&#x27;,\n",
              "                                      &#x27;opinion_h1n1_risk&#x27;,\n",
              "                                      &#x27;opinion_h1n1_sick_from_vacc&#x27;,\n",
              "                                      &#x27;opinion_seas_vacc_effective&#x27;,\n",
              "                                      &#x27;opinion_seas_risk&#x27;,\n",
              "                                      &#x27;opinion_seas_sick_from_vacc&#x27;, &#x27;agegrp&#x27;,\n",
              "                                      &#x27;employment_status&#x27;, &#x27;census_msa&#x27;],\n",
              "                                mapping=[{&#x27;col&#x27;: &#x27;opinion_h1n1_vacc_effective&#x27;,\n",
              "                                          &#x27;data_type&#x27;: dtype(&#x27;O&#x27;),\n",
              "                                          &#x27;mapping&#x27;: Not At All Effec...\n",
              "                               feature_types=None, gamma=None, gpu_id=None,\n",
              "                               grow_policy=None, importance_type=None,\n",
              "                               interaction_constraints=None, learning_rate=0.1,\n",
              "                               max_bin=None, max_cat_threshold=None,\n",
              "                               max_cat_to_onehot=None, max_delta_step=None,\n",
              "                               max_depth=4, max_leaves=None, min_child_weight=2,\n",
              "                               missing=nan, monotone_constraints=None,\n",
              "                               n_estimators=200, n_jobs=-1,\n",
              "                               num_parallel_tree=None, predictor=None,\n",
              "                               random_state=42, ...))])</pre><b>In a Jupyter environment, please rerun this cell to show the HTML representation or trust the notebook. <br />On GitHub, the HTML representation is unable to render, please try loading this page with nbviewer.org.</b></div><div class=\"sk-container\" hidden><div class=\"sk-item sk-dashed-wrapped\"><div class=\"sk-label-container\"><div class=\"sk-label sk-toggleable\"><input class=\"sk-toggleable__control sk-hidden--visually\" id=\"sk-estimator-id-24\" type=\"checkbox\" ><label for=\"sk-estimator-id-24\" class=\"sk-toggleable__label sk-toggleable__label-arrow\">Pipeline</label><div class=\"sk-toggleable__content\"><pre>Pipeline(steps=[(&#x27;ordinalencoder&#x27;,\n",
              "                 OrdinalEncoder(cols=[&#x27;opinion_h1n1_vacc_effective&#x27;,\n",
              "                                      &#x27;opinion_h1n1_risk&#x27;,\n",
              "                                      &#x27;opinion_h1n1_sick_from_vacc&#x27;,\n",
              "                                      &#x27;opinion_seas_vacc_effective&#x27;,\n",
              "                                      &#x27;opinion_seas_risk&#x27;,\n",
              "                                      &#x27;opinion_seas_sick_from_vacc&#x27;, &#x27;agegrp&#x27;,\n",
              "                                      &#x27;employment_status&#x27;, &#x27;census_msa&#x27;],\n",
              "                                mapping=[{&#x27;col&#x27;: &#x27;opinion_h1n1_vacc_effective&#x27;,\n",
              "                                          &#x27;data_type&#x27;: dtype(&#x27;O&#x27;),\n",
              "                                          &#x27;mapping&#x27;: Not At All Effec...\n",
              "                               feature_types=None, gamma=None, gpu_id=None,\n",
              "                               grow_policy=None, importance_type=None,\n",
              "                               interaction_constraints=None, learning_rate=0.1,\n",
              "                               max_bin=None, max_cat_threshold=None,\n",
              "                               max_cat_to_onehot=None, max_delta_step=None,\n",
              "                               max_depth=4, max_leaves=None, min_child_weight=2,\n",
              "                               missing=nan, monotone_constraints=None,\n",
              "                               n_estimators=200, n_jobs=-1,\n",
              "                               num_parallel_tree=None, predictor=None,\n",
              "                               random_state=42, ...))])</pre></div></div></div><div class=\"sk-serial\"><div class=\"sk-item\"><div class=\"sk-estimator sk-toggleable\"><input class=\"sk-toggleable__control sk-hidden--visually\" id=\"sk-estimator-id-25\" type=\"checkbox\" ><label for=\"sk-estimator-id-25\" class=\"sk-toggleable__label sk-toggleable__label-arrow\">OrdinalEncoder</label><div class=\"sk-toggleable__content\"><pre>OrdinalEncoder(cols=[&#x27;opinion_h1n1_vacc_effective&#x27;, &#x27;opinion_h1n1_risk&#x27;,\n",
              "                     &#x27;opinion_h1n1_sick_from_vacc&#x27;,\n",
              "                     &#x27;opinion_seas_vacc_effective&#x27;, &#x27;opinion_seas_risk&#x27;,\n",
              "                     &#x27;opinion_seas_sick_from_vacc&#x27;, &#x27;agegrp&#x27;,\n",
              "                     &#x27;employment_status&#x27;, &#x27;census_msa&#x27;],\n",
              "               mapping=[{&#x27;col&#x27;: &#x27;opinion_h1n1_vacc_effective&#x27;,\n",
              "                         &#x27;data_type&#x27;: dtype(&#x27;O&#x27;),\n",
              "                         &#x27;mapping&#x27;: Not At All Effective    1\n",
              "Dont Know               2\n",
              "NaN                     3\n",
              "Somewhat Effectiv...\n",
              "                        {&#x27;col&#x27;: &#x27;agegrp&#x27;, &#x27;data_type&#x27;: dtype(&#x27;O&#x27;),\n",
              "                         &#x27;mapping&#x27;: 65+ Years             1\n",
              "35 - 44 Years         2\n",
              "45 - 54 Years         3\n",
              "18 - 34 Years         4\n",
              "6 Months - 9 Years    5\n",
              "10 - 17 Years         6\n",
              "55 - 64 Years         7\n",
              "NaN                  -2\n",
              "dtype: int64},\n",
              "                        {&#x27;col&#x27;: &#x27;employment_status&#x27;, &#x27;data_type&#x27;: dtype(&#x27;O&#x27;),\n",
              "                         &#x27;mapping&#x27;: Employed              1\n",
              "NaN                   2\n",
              "Not in Labor Force    3\n",
              "Unemployed            4\n",
              "dtype: int64},\n",
              "                        {&#x27;col&#x27;: &#x27;census_msa&#x27;, &#x27;data_type&#x27;: dtype(&#x27;O&#x27;),\n",
              "                         &#x27;mapping&#x27;: MSA, Principle City        1\n",
              "MSA, Not Principle City    2\n",
              "Non-MSA                    3\n",
              "NaN                       -2\n",
              "dtype: int64}])</pre></div></div></div><div class=\"sk-item\"><div class=\"sk-estimator sk-toggleable\"><input class=\"sk-toggleable__control sk-hidden--visually\" id=\"sk-estimator-id-26\" type=\"checkbox\" ><label for=\"sk-estimator-id-26\" class=\"sk-toggleable__label sk-toggleable__label-arrow\">SimpleImputer</label><div class=\"sk-toggleable__content\"><pre>SimpleImputer(strategy=&#x27;median&#x27;)</pre></div></div></div><div class=\"sk-item\"><div class=\"sk-estimator sk-toggleable\"><input class=\"sk-toggleable__control sk-hidden--visually\" id=\"sk-estimator-id-27\" type=\"checkbox\" ><label for=\"sk-estimator-id-27\" class=\"sk-toggleable__label sk-toggleable__label-arrow\">XGBClassifier</label><div class=\"sk-toggleable__content\"><pre>XGBClassifier(base_score=None, booster=None, callbacks=None,\n",
              "              colsample_bylevel=None, colsample_bynode=None,\n",
              "              colsample_bytree=0.6, early_stopping_rounds=None,\n",
              "              enable_categorical=False, eval_metric=&#x27;error&#x27;, feature_types=None,\n",
              "              gamma=None, gpu_id=None, grow_policy=None, importance_type=None,\n",
              "              interaction_constraints=None, learning_rate=0.1, max_bin=None,\n",
              "              max_cat_threshold=None, max_cat_to_onehot=None,\n",
              "              max_delta_step=None, max_depth=4, max_leaves=None,\n",
              "              min_child_weight=2, missing=nan, monotone_constraints=None,\n",
              "              n_estimators=200, n_jobs=-1, num_parallel_tree=None,\n",
              "              predictor=None, random_state=42, ...)</pre></div></div></div></div></div></div></div>"
            ]
          },
          "metadata": {},
          "execution_count": 58
        }
      ]
    },
    {
      "cell_type": "code",
      "source": [
        "from sklearn.metrics import classification_report\n",
        "from sklearn.metrics import f1_score\n",
        "\n",
        "y_train_pred = xgb_grid.predict(X_train) # grid_search.predict(X_train)과 동일\n",
        "y_val_pred = xgb_grid.predict(X_val)\n",
        "\n",
        "print(\"훈련 F1-Score: \", f1_score(y_train, y_train_pred).round(2))\n",
        "print(\"검증 F1-Score: \", f1_score(y_val, y_val_pred).round(2))\n",
        "\n",
        "print(\n",
        "    classification_report(\n",
        "        y_val, y_val_pred\n",
        "    )\n",
        ")"
      ],
      "metadata": {
        "colab": {
          "base_uri": "https://localhost:8080/"
        },
        "id": "1L5_V_RCLY2l",
        "outputId": "7768f916-895d-443a-bdf0-81be6d824cfb"
      },
      "execution_count": 59,
      "outputs": [
        {
          "output_type": "stream",
          "name": "stdout",
          "text": [
            "훈련 F1-Score:  0.59\n",
            "검증 F1-Score:  0.56\n",
            "              precision    recall  f1-score   support\n",
            "\n",
            "           0       0.85      0.92      0.88      6416\n",
            "           1       0.66      0.49      0.56      2015\n",
            "\n",
            "    accuracy                           0.82      8431\n",
            "   macro avg       0.75      0.70      0.72      8431\n",
            "weighted avg       0.80      0.82      0.81      8431\n",
            "\n"
          ]
        }
      ]
    },
    {
      "cell_type": "markdown",
      "source": [
        "##### Feature Selection"
      ],
      "metadata": {
        "id": "iQOQdiN8OOsz"
      }
    },
    {
      "cell_type": "markdown",
      "source": [
        "###### 특성중요도 기반 선택"
      ],
      "metadata": {
        "id": "2BEForAzOxy3"
      }
    },
    {
      "cell_type": "code",
      "source": [
        "import matplotlib.pyplot as plt\n",
        "\n",
        "feature_importances = list(\n",
        "    zip(X_train.columns, xgb_grid.named_steps[\"xgbclassifier\"].feature_importances_)\n",
        ")\n",
        "feature_importances = sorted(feature_importances, key=lambda x: x[1], reverse=True)\n",
        "\n",
        "plt.figure(figsize=(10, 10), dpi=120)\n",
        "plt.barh(*list(zip(*feature_importances[::-1])))\n",
        "plt.axvline(0.015, color=\"red\", linewidth=0.5)\n",
        "plt.show()"
      ],
      "metadata": {
        "colab": {
          "base_uri": "https://localhost:8080/",
          "height": 976
        },
        "id": "s13x7LEjNZtR",
        "outputId": "3b22fe03-1412-4620-d5d0-0b206aad42a3"
      },
      "execution_count": 61,
      "outputs": [
        {
          "output_type": "display_data",
          "data": {
            "text/plain": [
              "<Figure size 1200x1200 with 1 Axes>"
            ],
            "image/png": "[encoded data removed]"
          },
          "metadata": {
            "needs_background": "light"
          }
        }
      ]
    },
    {
      "cell_type": "code",
      "source": [
        "# 특성 중요도 0.015 미만인 특성들을 Drop 후 재학습\n",
        "features_selected = list(filter(lambda x: x[1] >= 0.015, feature_importances))\n",
        "print(features_selected)\n",
        "selected_feature_names = list(map(lambda x: x[0], features_selected))"
      ],
      "metadata": {
        "colab": {
          "base_uri": "https://localhost:8080/"
        },
        "id": "guwLbhcgNZsD",
        "outputId": "53b5ec4a-c179-4657-c77b-04d7a3de67ee"
      },
      "execution_count": 118,
      "outputs": [
        {
          "output_type": "stream",
          "name": "stdout",
          "text": [
            "[('doctor_recc_h1n1', 0.51547754), ('opinion_h1n1_risk', 0.07136312), ('opinion_seas_risk', 0.054234322), ('health_worker', 0.04935347), ('opinion_h1n1_vacc_effective', 0.04099972), ('doctor_recc_seasonal', 0.04013017), ('h1n1_knowledge', 0.015370144)]\n"
          ]
        }
      ]
    },
    {
      "cell_type": "code",
      "source": [
        "X_train_selected = X_train[selected_feature_names]\n",
        "X_val_selected = X_val[selected_feature_names]\n",
        "test_selected = test[selected_feature_names]"
      ],
      "metadata": {
        "id": "a-ABFTwDPCIm"
      },
      "execution_count": 119,
      "outputs": []
    },
    {
      "cell_type": "code",
      "source": [
        "xgb_grid_fs1 = make_pipeline(\n",
        "    OrdinalEncoder(),\n",
        "    SimpleImputer(strategy=\"median\"),\n",
        "    XGBClassifier(\n",
        "        objective=\"binary:logistic\",\n",
        "        eval_metric=\"error\",\n",
        "        n_estimators=200,\n",
        "        max_depth = 4,\n",
        "        learning_rate = 0.1,\n",
        "        min_child_weight = 2,\n",
        "        colsample_bytree = 0.6,\n",
        "        random_state=42,\n",
        "        n_jobs=-1\n",
        "    ),\n",
        ")\n",
        "\n",
        "xgb_grid_fs1.fit(X_train_selected, y_train)\n",
        "\n",
        "y_train_pred = xgb_grid_fs1.predict(X_train_selected)\n",
        "y_val_pred = xgb_grid_fs1.predict(X_val_selected)\n",
        "\n",
        "print(\"훈련 F1-Score: \", f1_score(y_train, y_train_pred).round(2))\n",
        "print(\"검증 F1-Score: \", f1_score(y_val, y_val_pred).round(2))\n",
        "print(\"특성 수:\")\n",
        "print(\"\\tBefore: \", X_train.shape[1])\n",
        "print(\"\\tAfter: \", X_train_selected.shape[1])"
      ],
      "metadata": {
        "colab": {
          "base_uri": "https://localhost:8080/"
        },
        "id": "p5OmnxJOOgRH",
        "outputId": "d33364fe-3262-41d1-f2f1-7514d0d1a01f"
      },
      "execution_count": 66,
      "outputs": [
        {
          "output_type": "stream",
          "name": "stdout",
          "text": [
            "훈련 F1-Score:  0.56\n",
            "검증 F1-Score:  0.54\n",
            "특성 수:\n",
            "\tBefore:  35\n",
            "\tAfter:  7\n"
          ]
        }
      ]
    },
    {
      "cell_type": "markdown",
      "source": [
        "###### 통계량 기반 선택"
      ],
      "metadata": {
        "id": "qGDmnUGhQAAk"
      }
    },
    {
      "cell_type": "code",
      "execution_count": 125,
      "metadata": {
        "id": "Va2ejxWak9hm"
      },
      "outputs": [],
      "source": [
        "from category_encoders import OneHotEncoder\n",
        "\n",
        "enc = OrdinalEncoder()\n",
        "imp = SimpleImputer()\n",
        "\n",
        "X_train_encoded = enc.fit_transform(X_train)\n",
        "X_train_imputed = imp.fit_transform(X_train_encoded)"
      ]
    },
    {
      "cell_type": "code",
      "execution_count": 126,
      "metadata": {
        "id": "Drg2FK70k9hm"
      },
      "outputs": [],
      "source": [
        "from sklearn.feature_selection import SelectKBest, mutual_info_classif\n",
        "\n",
        "selector = SelectKBest(score_func=mutual_info_classif, k=7) # 특성 중요도에서 선택된 결과 특성 수와 동일하게 맞춤\n",
        "X_train_selected = pd.DataFrame(selector.fit_transform(X_train_imputed, y_train))"
      ]
    },
    {
      "cell_type": "code",
      "execution_count": 127,
      "metadata": {
        "id": "CwiRVux9k9hn",
        "outputId": "db0f505c-a129-40df-f82b-3d6c0890b0f3",
        "colab": {
          "base_uri": "https://localhost:8080/"
        }
      },
      "outputs": [
        {
          "output_type": "stream",
          "name": "stdout",
          "text": [
            "선택된 특성:  ['doctor_recc_h1n1', 'doctor_recc_seasonal', 'health_insurance', 'opinion_h1n1_vacc_effective', 'opinion_h1n1_risk', 'opinion_seas_vacc_effective', 'opinion_seas_risk']\n"
          ]
        }
      ],
      "source": [
        "print(\"선택된 특성: \", X_train.columns[selector.get_support()].tolist())"
      ]
    },
    {
      "cell_type": "code",
      "source": [
        "selected_feature_names = X_train.columns[selector.get_support()].tolist()"
      ],
      "metadata": {
        "id": "-8I9sICATu2B"
      },
      "execution_count": 128,
      "outputs": []
    },
    {
      "cell_type": "code",
      "source": [
        "X_train_selected = X_train[selected_feature_names]\n",
        "X_val_selected = X_val[selected_feature_names]\n",
        "test_selected = test[selected_feature_names]"
      ],
      "metadata": {
        "id": "VFzTgAZpTuKg"
      },
      "execution_count": 129,
      "outputs": []
    },
    {
      "cell_type": "code",
      "source": [
        "xgb_grid_fs2 = make_pipeline(\n",
        "    OrdinalEncoder(),\n",
        "    SimpleImputer(strategy=\"median\"),\n",
        "    XGBClassifier(\n",
        "        objective=\"binary:logistic\",\n",
        "        eval_metric=\"error\",\n",
        "        n_estimators=200,\n",
        "        max_depth = 4,\n",
        "        learning_rate = 0.1,\n",
        "        min_child_weight = 2,\n",
        "        colsample_bytree = 0.6,\n",
        "        random_state=42,\n",
        "        n_jobs=-1\n",
        "    ),\n",
        ")\n",
        "\n",
        "xgb_grid_fs2.fit(X_train_selected, y_train)\n",
        "\n",
        "y_train_pred = xgb_grid_fs2.predict(X_train_selected)\n",
        "y_val_pred = xgb_grid_fs2.predict(X_val_selected)\n",
        "\n",
        "print(\"훈련 F1-Score: \", f1_score(y_train, y_train_pred).round(2))\n",
        "print(\"검증 F1-Score: \", f1_score(y_val, y_val_pred).round(2))\n",
        "print(\"특성 수:\")\n",
        "print(\"\\tBefore: \", X_train.shape[1])\n",
        "print(\"\\tAfter: \", X_train_selected.shape[1])"
      ],
      "metadata": {
        "colab": {
          "base_uri": "https://localhost:8080/"
        },
        "id": "eJE-Pp1kQ1Y7",
        "outputId": "bb0fc46d-2fc0-42e9-a847-666764983f0b"
      },
      "execution_count": 131,
      "outputs": [
        {
          "output_type": "stream",
          "name": "stdout",
          "text": [
            "훈련 F1-Score:  0.53\n",
            "검증 F1-Score:  0.52\n",
            "특성 수:\n",
            "\tBefore:  35\n",
            "\tAfter:  7\n"
          ]
        }
      ]
    },
    {
      "cell_type": "markdown",
      "source": [
        "Exhaustive Grid Search 결과\n",
        "- 변수를 줄여도 큰 차이는 나지 않지만, 점수가 중요한 시합이다 보니 일단 줄이지 않는 경우를 가장 최적의 결과로 봐야한다.\n",
        "- 따라서 변수를 줄이지 않은 모델 선택 : F1-Score 0.56"
      ],
      "metadata": {
        "id": "-R16NOYwUiQ3"
      }
    },
    {
      "cell_type": "markdown",
      "source": [
        "#### Randmized Search"
      ],
      "metadata": {
        "id": "dy4fgoiv8Xir"
      }
    },
    {
      "cell_type": "markdown",
      "source": [
        "##### 파라미터 서치"
      ],
      "metadata": {
        "id": "ZtPLJTpUU-qp"
      }
    },
    {
      "cell_type": "code",
      "execution_count": 31,
      "metadata": {
        "id": "l2csSBGzKtWl"
      },
      "outputs": [],
      "source": [
        "from scipy.stats.distributions import uniform\n",
        "\n",
        "params = {\n",
        "    \"xgbclassifier__max_depth\": [2, 4, 6],\n",
        "    \"xgbclassifier__learning_rate\" : [0.05, 0.1, 0.2],\n",
        "    \"xgbclassifier__min_child_weight\": [2, 4, 8],\n",
        "    \"xgbclassifier__colsample_bytree\": uniform(\n",
        "        loc=0.5, scale=0.5\n",
        "    ),  # 0.5 ~ 1 사이의 uniform 분포로 범위를 지정해 줍니다.\n",
        "}"
      ]
    },
    {
      "cell_type": "code",
      "source": [
        "from sklearn.model_selection import RandomizedSearchCV\n",
        "\n",
        "randomized_search = RandomizedSearchCV(\n",
        "    pipe,\n",
        "    param_distributions=params,\n",
        "    scoring=\"f1\",\n",
        "    n_iter=10, # 10번만 수행 수행한다.\n",
        "    cv=3,\n",
        "    verbose=3,\n",
        "    random_state=42,\n",
        ")\n",
        "randomized_search.fit(X_train, y_train)"
      ],
      "metadata": {
        "colab": {
          "base_uri": "https://localhost:8080/",
          "height": 742
        },
        "id": "6GFbJdiS-DgN",
        "outputId": "956e8c6f-8ee8-4b4a-cda5-fd32182cad66"
      },
      "execution_count": 32,
      "outputs": [
        {
          "output_type": "stream",
          "name": "stdout",
          "text": [
            "Fitting 3 folds for each of 10 candidates, totalling 30 fits\n",
            "[CV 1/3] END xgbclassifier__colsample_bytree=0.6872700594236812, xgbclassifier__learning_rate=0.05, xgbclassifier__max_depth=6, xgbclassifier__min_child_weight=8;, score=0.547 total time=   6.3s\n",
            "[CV 2/3] END xgbclassifier__colsample_bytree=0.6872700594236812, xgbclassifier__learning_rate=0.05, xgbclassifier__max_depth=6, xgbclassifier__min_child_weight=8;, score=0.569 total time=   7.8s\n",
            "[CV 3/3] END xgbclassifier__colsample_bytree=0.6872700594236812, xgbclassifier__learning_rate=0.05, xgbclassifier__max_depth=6, xgbclassifier__min_child_weight=8;, score=0.556 total time=   9.4s\n",
            "[CV 1/3] END xgbclassifier__colsample_bytree=0.8898455001363846, xgbclassifier__learning_rate=0.05, xgbclassifier__max_depth=6, xgbclassifier__min_child_weight=4;, score=0.550 total time=   7.3s\n",
            "[CV 2/3] END xgbclassifier__colsample_bytree=0.8898455001363846, xgbclassifier__learning_rate=0.05, xgbclassifier__max_depth=6, xgbclassifier__min_child_weight=4;, score=0.565 total time=   8.9s\n",
            "[CV 3/3] END xgbclassifier__colsample_bytree=0.8898455001363846, xgbclassifier__learning_rate=0.05, xgbclassifier__max_depth=6, xgbclassifier__min_child_weight=4;, score=0.556 total time=   8.9s\n",
            "[CV 1/3] END xgbclassifier__colsample_bytree=0.5779972601681014, xgbclassifier__learning_rate=0.2, xgbclassifier__max_depth=6, xgbclassifier__min_child_weight=2;, score=0.544 total time=   5.5s\n",
            "[CV 2/3] END xgbclassifier__colsample_bytree=0.5779972601681014, xgbclassifier__learning_rate=0.2, xgbclassifier__max_depth=6, xgbclassifier__min_child_weight=2;, score=0.556 total time=   7.1s\n",
            "[CV 3/3] END xgbclassifier__colsample_bytree=0.5779972601681014, xgbclassifier__learning_rate=0.2, xgbclassifier__max_depth=6, xgbclassifier__min_child_weight=2;, score=0.542 total time=   5.5s\n",
            "[CV 1/3] END xgbclassifier__colsample_bytree=0.8005575058716043, xgbclassifier__learning_rate=0.2, xgbclassifier__max_depth=4, xgbclassifier__min_child_weight=2;, score=0.554 total time=   7.8s\n",
            "[CV 2/3] END xgbclassifier__colsample_bytree=0.8005575058716043, xgbclassifier__learning_rate=0.2, xgbclassifier__max_depth=4, xgbclassifier__min_child_weight=2;, score=0.565 total time=   4.4s\n",
            "[CV 3/3] END xgbclassifier__colsample_bytree=0.8005575058716043, xgbclassifier__learning_rate=0.2, xgbclassifier__max_depth=4, xgbclassifier__min_child_weight=2;, score=0.554 total time=   6.1s\n",
            "[CV 1/3] END xgbclassifier__colsample_bytree=0.9849549260809971, xgbclassifier__learning_rate=0.1, xgbclassifier__max_depth=4, xgbclassifier__min_child_weight=4;, score=0.552 total time=   5.1s\n",
            "[CV 2/3] END xgbclassifier__colsample_bytree=0.9849549260809971, xgbclassifier__learning_rate=0.1, xgbclassifier__max_depth=4, xgbclassifier__min_child_weight=4;, score=0.565 total time=   6.7s\n",
            "[CV 3/3] END xgbclassifier__colsample_bytree=0.9849549260809971, xgbclassifier__learning_rate=0.1, xgbclassifier__max_depth=4, xgbclassifier__min_child_weight=4;, score=0.560 total time=   5.0s\n",
            "[CV 1/3] END xgbclassifier__colsample_bytree=0.5909124836035503, xgbclassifier__learning_rate=0.05, xgbclassifier__max_depth=2, xgbclassifier__min_child_weight=4;, score=0.543 total time=   2.1s\n",
            "[CV 2/3] END xgbclassifier__colsample_bytree=0.5909124836035503, xgbclassifier__learning_rate=0.05, xgbclassifier__max_depth=2, xgbclassifier__min_child_weight=4;, score=0.561 total time=   3.8s\n",
            "[CV 3/3] END xgbclassifier__colsample_bytree=0.5909124836035503, xgbclassifier__learning_rate=0.05, xgbclassifier__max_depth=2, xgbclassifier__min_child_weight=4;, score=0.543 total time=   2.1s\n",
            "[CV 1/3] END xgbclassifier__colsample_bytree=0.762378215816119, xgbclassifier__learning_rate=0.05, xgbclassifier__max_depth=2, xgbclassifier__min_child_weight=8;, score=0.543 total time=   2.4s\n",
            "[CV 2/3] END xgbclassifier__colsample_bytree=0.762378215816119, xgbclassifier__learning_rate=0.05, xgbclassifier__max_depth=2, xgbclassifier__min_child_weight=8;, score=0.561 total time=   2.4s\n",
            "[CV 3/3] END xgbclassifier__colsample_bytree=0.762378215816119, xgbclassifier__learning_rate=0.05, xgbclassifier__max_depth=2, xgbclassifier__min_child_weight=8;, score=0.541 total time=   2.5s\n",
            "[CV 1/3] END xgbclassifier__colsample_bytree=0.8059264473611898, xgbclassifier__learning_rate=0.1, xgbclassifier__max_depth=6, xgbclassifier__min_child_weight=4;, score=0.556 total time=   8.2s\n",
            "[CV 2/3] END xgbclassifier__colsample_bytree=0.8059264473611898, xgbclassifier__learning_rate=0.1, xgbclassifier__max_depth=6, xgbclassifier__min_child_weight=4;, score=0.560 total time=  10.0s\n",
            "[CV 3/3] END xgbclassifier__colsample_bytree=0.8059264473611898, xgbclassifier__learning_rate=0.1, xgbclassifier__max_depth=6, xgbclassifier__min_child_weight=4;, score=0.555 total time=   6.8s\n",
            "[CV 1/3] END xgbclassifier__colsample_bytree=0.5453032172664104, xgbclassifier__learning_rate=0.1, xgbclassifier__max_depth=6, xgbclassifier__min_child_weight=8;, score=0.551 total time=   6.7s\n",
            "[CV 2/3] END xgbclassifier__colsample_bytree=0.5453032172664104, xgbclassifier__learning_rate=0.1, xgbclassifier__max_depth=6, xgbclassifier__min_child_weight=8;, score=0.559 total time=   5.4s\n",
            "[CV 3/3] END xgbclassifier__colsample_bytree=0.5453032172664104, xgbclassifier__learning_rate=0.1, xgbclassifier__max_depth=6, xgbclassifier__min_child_weight=8;, score=0.552 total time=   6.7s\n",
            "[CV 1/3] END xgbclassifier__colsample_bytree=0.9916154429033941, xgbclassifier__learning_rate=0.05, xgbclassifier__max_depth=6, xgbclassifier__min_child_weight=2;, score=0.550 total time=  12.8s\n",
            "[CV 2/3] END xgbclassifier__colsample_bytree=0.9916154429033941, xgbclassifier__learning_rate=0.05, xgbclassifier__max_depth=6, xgbclassifier__min_child_weight=2;, score=0.561 total time=   9.8s\n",
            "[CV 3/3] END xgbclassifier__colsample_bytree=0.9916154429033941, xgbclassifier__learning_rate=0.05, xgbclassifier__max_depth=6, xgbclassifier__min_child_weight=2;, score=0.557 total time=  10.7s\n"
          ]
        },
        {
          "output_type": "execute_result",
          "data": {
            "text/plain": [
              "RandomizedSearchCV(cv=3,\n",
              "                   estimator=Pipeline(steps=[('ordinalencoder',\n",
              "                                              OrdinalEncoder()),\n",
              "                                             ('simpleimputer',\n",
              "                                              SimpleImputer(strategy='median')),\n",
              "                                             ('xgbclassifier',\n",
              "                                              XGBClassifier(base_score=None,\n",
              "                                                            booster=None,\n",
              "                                                            callbacks=None,\n",
              "                                                            colsample_bylevel=None,\n",
              "                                                            colsample_bynode=None,\n",
              "                                                            colsample_bytree=None,\n",
              "                                                            early_stopping_rounds=None,\n",
              "                                                            enable_categorical=False,\n",
              "                                                            eval_metric='error'...\n",
              "                                                            num_parallel_tree=None,\n",
              "                                                            predictor=None,\n",
              "                                                            random_state=42, ...))]),\n",
              "                   param_distributions={'xgbclassifier__colsample_bytree': <scipy.stats._distn_infrastructure.rv_continuous_frozen object at 0x7f1dccc72fa0>,\n",
              "                                        'xgbclassifier__learning_rate': [0.05,\n",
              "                                                                         0.1,\n",
              "                                                                         0.2],\n",
              "                                        'xgbclassifier__max_depth': [2, 4, 6],\n",
              "                                        'xgbclassifier__min_child_weight': [2,\n",
              "                                                                            4,\n",
              "                                                                            8]},\n",
              "                   random_state=42, scoring='f1', verbose=3)"
            ],
            "text/html": [
              "<style>#sk-container-id-4 {color: black;background-color: white;}#sk-container-id-4 pre{padding: 0;}#sk-container-id-4 div.sk-toggleable {background-color: white;}#sk-container-id-4 label.sk-toggleable__label {cursor: pointer;display: block;width: 100%;margin-bottom: 0;padding: 0.3em;box-sizing: border-box;text-align: center;}#sk-container-id-4 label.sk-toggleable__label-arrow:before {content: \"▸\";float: left;margin-right: 0.25em;color: #696969;}#sk-container-id-4 label.sk-toggleable__label-arrow:hover:before {color: black;}#sk-container-id-4 div.sk-estimator:hover label.sk-toggleable__label-arrow:before {color: black;}#sk-container-id-4 div.sk-toggleable__content {max-height: 0;max-width: 0;overflow: hidden;text-align: left;background-color: #f0f8ff;}#sk-container-id-4 div.sk-toggleable__content pre {margin: 0.2em;color: black;border-radius: 0.25em;background-color: #f0f8ff;}#sk-container-id-4 input.sk-toggleable__control:checked~div.sk-toggleable__content {max-height: 200px;max-width: 100%;overflow: auto;}#sk-container-id-4 input.sk-toggleable__control:checked~label.sk-toggleable__label-arrow:before {content: \"▾\";}#sk-container-id-4 div.sk-estimator input.sk-toggleable__control:checked~label.sk-toggleable__label {background-color: #d4ebff;}#sk-container-id-4 div.sk-label input.sk-toggleable__control:checked~label.sk-toggleable__label {background-color: #d4ebff;}#sk-container-id-4 input.sk-hidden--visually {border: 0;clip: rect(1px 1px 1px 1px);clip: rect(1px, 1px, 1px, 1px);height: 1px;margin: -1px;overflow: hidden;padding: 0;position: absolute;width: 1px;}#sk-container-id-4 div.sk-estimator {font-family: monospace;background-color: #f0f8ff;border: 1px dotted black;border-radius: 0.25em;box-sizing: border-box;margin-bottom: 0.5em;}#sk-container-id-4 div.sk-estimator:hover {background-color: #d4ebff;}#sk-container-id-4 div.sk-parallel-item::after {content: \"\";width: 100%;border-bottom: 1px solid gray;flex-grow: 1;}#sk-container-id-4 div.sk-label:hover label.sk-toggleable__label {background-color: #d4ebff;}#sk-container-id-4 div.sk-serial::before {content: \"\";position: absolute;border-left: 1px solid gray;box-sizing: border-box;top: 0;bottom: 0;left: 50%;z-index: 0;}#sk-container-id-4 div.sk-serial {display: flex;flex-direction: column;align-items: center;background-color: white;padding-right: 0.2em;padding-left: 0.2em;position: relative;}#sk-container-id-4 div.sk-item {position: relative;z-index: 1;}#sk-container-id-4 div.sk-parallel {display: flex;align-items: stretch;justify-content: center;background-color: white;position: relative;}#sk-container-id-4 div.sk-item::before, #sk-container-id-4 div.sk-parallel-item::before {content: \"\";position: absolute;border-left: 1px solid gray;box-sizing: border-box;top: 0;bottom: 0;left: 50%;z-index: -1;}#sk-container-id-4 div.sk-parallel-item {display: flex;flex-direction: column;z-index: 1;position: relative;background-color: white;}#sk-container-id-4 div.sk-parallel-item:first-child::after {align-self: flex-end;width: 50%;}#sk-container-id-4 div.sk-parallel-item:last-child::after {align-self: flex-start;width: 50%;}#sk-container-id-4 div.sk-parallel-item:only-child::after {width: 0;}#sk-container-id-4 div.sk-dashed-wrapped {border: 1px dashed gray;margin: 0 0.4em 0.5em 0.4em;box-sizing: border-box;padding-bottom: 0.4em;background-color: white;}#sk-container-id-4 div.sk-label label {font-family: monospace;font-weight: bold;display: inline-block;line-height: 1.2em;}#sk-container-id-4 div.sk-label-container {text-align: center;}#sk-container-id-4 div.sk-container {/* jupyter's `normalize.less` sets `[hidden] { display: none; }` but bootstrap.min.css set `[hidden] { display: none !important; }` so we also need the `!important` here to be able to override the default hidden behavior on the sphinx rendered scikit-learn.org. See: https://github.com/scikit-learn/scikit-learn/issues/21755 */display: inline-block !important;position: relative;}#sk-container-id-4 div.sk-text-repr-fallback {display: none;}</style><div id=\"sk-container-id-4\" class=\"sk-top-container\"><div class=\"sk-text-repr-fallback\"><pre>RandomizedSearchCV(cv=3,\n",
              "                   estimator=Pipeline(steps=[(&#x27;ordinalencoder&#x27;,\n",
              "                                              OrdinalEncoder()),\n",
              "                                             (&#x27;simpleimputer&#x27;,\n",
              "                                              SimpleImputer(strategy=&#x27;median&#x27;)),\n",
              "                                             (&#x27;xgbclassifier&#x27;,\n",
              "                                              XGBClassifier(base_score=None,\n",
              "                                                            booster=None,\n",
              "                                                            callbacks=None,\n",
              "                                                            colsample_bylevel=None,\n",
              "                                                            colsample_bynode=None,\n",
              "                                                            colsample_bytree=None,\n",
              "                                                            early_stopping_rounds=None,\n",
              "                                                            enable_categorical=False,\n",
              "                                                            eval_metric=&#x27;error&#x27;...\n",
              "                                                            num_parallel_tree=None,\n",
              "                                                            predictor=None,\n",
              "                                                            random_state=42, ...))]),\n",
              "                   param_distributions={&#x27;xgbclassifier__colsample_bytree&#x27;: &lt;scipy.stats._distn_infrastructure.rv_continuous_frozen object at 0x7f1dccc72fa0&gt;,\n",
              "                                        &#x27;xgbclassifier__learning_rate&#x27;: [0.05,\n",
              "                                                                         0.1,\n",
              "                                                                         0.2],\n",
              "                                        &#x27;xgbclassifier__max_depth&#x27;: [2, 4, 6],\n",
              "                                        &#x27;xgbclassifier__min_child_weight&#x27;: [2,\n",
              "                                                                            4,\n",
              "                                                                            8]},\n",
              "                   random_state=42, scoring=&#x27;f1&#x27;, verbose=3)</pre><b>In a Jupyter environment, please rerun this cell to show the HTML representation or trust the notebook. <br />On GitHub, the HTML representation is unable to render, please try loading this page with nbviewer.org.</b></div><div class=\"sk-container\" hidden><div class=\"sk-item sk-dashed-wrapped\"><div class=\"sk-label-container\"><div class=\"sk-label sk-toggleable\"><input class=\"sk-toggleable__control sk-hidden--visually\" id=\"sk-estimator-id-15\" type=\"checkbox\" ><label for=\"sk-estimator-id-15\" class=\"sk-toggleable__label sk-toggleable__label-arrow\">RandomizedSearchCV</label><div class=\"sk-toggleable__content\"><pre>RandomizedSearchCV(cv=3,\n",
              "                   estimator=Pipeline(steps=[(&#x27;ordinalencoder&#x27;,\n",
              "                                              OrdinalEncoder()),\n",
              "                                             (&#x27;simpleimputer&#x27;,\n",
              "                                              SimpleImputer(strategy=&#x27;median&#x27;)),\n",
              "                                             (&#x27;xgbclassifier&#x27;,\n",
              "                                              XGBClassifier(base_score=None,\n",
              "                                                            booster=None,\n",
              "                                                            callbacks=None,\n",
              "                                                            colsample_bylevel=None,\n",
              "                                                            colsample_bynode=None,\n",
              "                                                            colsample_bytree=None,\n",
              "                                                            early_stopping_rounds=None,\n",
              "                                                            enable_categorical=False,\n",
              "                                                            eval_metric=&#x27;error&#x27;...\n",
              "                                                            num_parallel_tree=None,\n",
              "                                                            predictor=None,\n",
              "                                                            random_state=42, ...))]),\n",
              "                   param_distributions={&#x27;xgbclassifier__colsample_bytree&#x27;: &lt;scipy.stats._distn_infrastructure.rv_continuous_frozen object at 0x7f1dccc72fa0&gt;,\n",
              "                                        &#x27;xgbclassifier__learning_rate&#x27;: [0.05,\n",
              "                                                                         0.1,\n",
              "                                                                         0.2],\n",
              "                                        &#x27;xgbclassifier__max_depth&#x27;: [2, 4, 6],\n",
              "                                        &#x27;xgbclassifier__min_child_weight&#x27;: [2,\n",
              "                                                                            4,\n",
              "                                                                            8]},\n",
              "                   random_state=42, scoring=&#x27;f1&#x27;, verbose=3)</pre></div></div></div><div class=\"sk-parallel\"><div class=\"sk-parallel-item\"><div class=\"sk-item\"><div class=\"sk-label-container\"><div class=\"sk-label sk-toggleable\"><input class=\"sk-toggleable__control sk-hidden--visually\" id=\"sk-estimator-id-16\" type=\"checkbox\" ><label for=\"sk-estimator-id-16\" class=\"sk-toggleable__label sk-toggleable__label-arrow\">estimator: Pipeline</label><div class=\"sk-toggleable__content\"><pre>Pipeline(steps=[(&#x27;ordinalencoder&#x27;, OrdinalEncoder()),\n",
              "                (&#x27;simpleimputer&#x27;, SimpleImputer(strategy=&#x27;median&#x27;)),\n",
              "                (&#x27;xgbclassifier&#x27;,\n",
              "                 XGBClassifier(base_score=None, booster=None, callbacks=None,\n",
              "                               colsample_bylevel=None, colsample_bynode=None,\n",
              "                               colsample_bytree=None,\n",
              "                               early_stopping_rounds=None,\n",
              "                               enable_categorical=False, eval_metric=&#x27;error&#x27;,\n",
              "                               feature_types=None, gamma=None, gpu_id=None,\n",
              "                               grow_policy=None, importance_type=None,\n",
              "                               interaction_constraints=None, learning_rate=None,\n",
              "                               max_bin=None, max_cat_threshold=None,\n",
              "                               max_cat_to_onehot=None, max_delta_step=None,\n",
              "                               max_depth=None, max_leaves=None,\n",
              "                               min_child_weight=None, missing=nan,\n",
              "                               monotone_constraints=None, n_estimators=200,\n",
              "                               n_jobs=-1, num_parallel_tree=None,\n",
              "                               predictor=None, random_state=42, ...))])</pre></div></div></div><div class=\"sk-serial\"><div class=\"sk-item\"><div class=\"sk-serial\"><div class=\"sk-item\"><div class=\"sk-estimator sk-toggleable\"><input class=\"sk-toggleable__control sk-hidden--visually\" id=\"sk-estimator-id-17\" type=\"checkbox\" ><label for=\"sk-estimator-id-17\" class=\"sk-toggleable__label sk-toggleable__label-arrow\">OrdinalEncoder</label><div class=\"sk-toggleable__content\"><pre>OrdinalEncoder()</pre></div></div></div><div class=\"sk-item\"><div class=\"sk-estimator sk-toggleable\"><input class=\"sk-toggleable__control sk-hidden--visually\" id=\"sk-estimator-id-18\" type=\"checkbox\" ><label for=\"sk-estimator-id-18\" class=\"sk-toggleable__label sk-toggleable__label-arrow\">SimpleImputer</label><div class=\"sk-toggleable__content\"><pre>SimpleImputer(strategy=&#x27;median&#x27;)</pre></div></div></div><div class=\"sk-item\"><div class=\"sk-estimator sk-toggleable\"><input class=\"sk-toggleable__control sk-hidden--visually\" id=\"sk-estimator-id-19\" type=\"checkbox\" ><label for=\"sk-estimator-id-19\" class=\"sk-toggleable__label sk-toggleable__label-arrow\">XGBClassifier</label><div class=\"sk-toggleable__content\"><pre>XGBClassifier(base_score=None, booster=None, callbacks=None,\n",
              "              colsample_bylevel=None, colsample_bynode=None,\n",
              "              colsample_bytree=None, early_stopping_rounds=None,\n",
              "              enable_categorical=False, eval_metric=&#x27;error&#x27;, feature_types=None,\n",
              "              gamma=None, gpu_id=None, grow_policy=None, importance_type=None,\n",
              "              interaction_constraints=None, learning_rate=None, max_bin=None,\n",
              "              max_cat_threshold=None, max_cat_to_onehot=None,\n",
              "              max_delta_step=None, max_depth=None, max_leaves=None,\n",
              "              min_child_weight=None, missing=nan, monotone_constraints=None,\n",
              "              n_estimators=200, n_jobs=-1, num_parallel_tree=None,\n",
              "              predictor=None, random_state=42, ...)</pre></div></div></div></div></div></div></div></div></div></div></div></div>"
            ]
          },
          "metadata": {},
          "execution_count": 32
        }
      ]
    },
    {
      "cell_type": "code",
      "source": [
        "print(\"최적 하이퍼파라미터: \", randomized_search.best_params_)\n",
        "print(\"최적 F1-Score: \", randomized_search.best_score_)"
      ],
      "metadata": {
        "colab": {
          "base_uri": "https://localhost:8080/"
        },
        "id": "LCTN4Alr-JB9",
        "outputId": "f64c598a-3d53-4b07-c691-25ff0c2ed2d6"
      },
      "execution_count": 33,
      "outputs": [
        {
          "output_type": "stream",
          "name": "stdout",
          "text": [
            "최적 하이퍼파라미터:  {'xgbclassifier__colsample_bytree': 0.9849549260809971, 'xgbclassifier__learning_rate': 0.1, 'xgbclassifier__max_depth': 4, 'xgbclassifier__min_child_weight': 4}\n",
            "최적 F1-Score:  0.5591894383488086\n"
          ]
        }
      ]
    },
    {
      "cell_type": "code",
      "source": [
        "pd.DataFrame(randomized_search.cv_results_).sort_values(by=\"rank_test_score\").T"
      ],
      "metadata": {
        "colab": {
          "base_uri": "https://localhost:8080/",
          "height": 601
        },
        "id": "2sbXd-MX-Kuo",
        "outputId": "34c5fa74-bf3c-4af9-92c1-794024fb08b3"
      },
      "execution_count": 34,
      "outputs": [
        {
          "output_type": "execute_result",
          "data": {
            "text/plain": [
              "                                                                                       4  \\\n",
              "mean_fit_time                                                                   5.511648   \n",
              "std_fit_time                                                                    0.776507   \n",
              "mean_score_time                                                                 0.088557   \n",
              "std_score_time                                                                  0.003204   \n",
              "param_xgbclassifier__colsample_bytree                                           0.984955   \n",
              "param_xgbclassifier__learning_rate                                                   0.1   \n",
              "param_xgbclassifier__max_depth                                                         4   \n",
              "param_xgbclassifier__min_child_weight                                                  4   \n",
              "params                                 {'xgbclassifier__colsample_bytree': 0.98495492...   \n",
              "split0_test_score                                                               0.551665   \n",
              "split1_test_score                                                               0.565488   \n",
              "split2_test_score                                                               0.560416   \n",
              "mean_test_score                                                                 0.559189   \n",
              "std_test_score                                                                  0.005709   \n",
              "rank_test_score                                                                        1   \n",
              "\n",
              "                                                                                       3  \\\n",
              "mean_fit_time                                                                    5.98863   \n",
              "std_fit_time                                                                     1.37589   \n",
              "mean_score_time                                                                 0.090992   \n",
              "std_score_time                                                                   0.00517   \n",
              "param_xgbclassifier__colsample_bytree                                           0.800558   \n",
              "param_xgbclassifier__learning_rate                                                   0.2   \n",
              "param_xgbclassifier__max_depth                                                         4   \n",
              "param_xgbclassifier__min_child_weight                                                  2   \n",
              "params                                 {'xgbclassifier__colsample_bytree': 0.80055750...   \n",
              "split0_test_score                                                               0.554278   \n",
              "split1_test_score                                                               0.564761   \n",
              "split2_test_score                                                               0.553873   \n",
              "mean_test_score                                                                 0.557637   \n",
              "std_test_score                                                                   0.00504   \n",
              "rank_test_score                                                                        2   \n",
              "\n",
              "                                                                                       0  \\\n",
              "mean_fit_time                                                                   7.738554   \n",
              "std_fit_time                                                                    1.255674   \n",
              "mean_score_time                                                                 0.104164   \n",
              "std_score_time                                                                  0.001553   \n",
              "param_xgbclassifier__colsample_bytree                                            0.68727   \n",
              "param_xgbclassifier__learning_rate                                                  0.05   \n",
              "param_xgbclassifier__max_depth                                                         6   \n",
              "param_xgbclassifier__min_child_weight                                                  8   \n",
              "params                                 {'xgbclassifier__colsample_bytree': 0.68727005...   \n",
              "split0_test_score                                                               0.547332   \n",
              "split1_test_score                                                               0.569021   \n",
              "split2_test_score                                                               0.556352   \n",
              "mean_test_score                                                                 0.557568   \n",
              "std_test_score                                                                  0.008896   \n",
              "rank_test_score                                                                        3   \n",
              "\n",
              "                                                                                       7  \\\n",
              "mean_fit_time                                                                   8.193274   \n",
              "std_fit_time                                                                     1.33508   \n",
              "mean_score_time                                                                 0.133576   \n",
              "std_score_time                                                                   0.03446   \n",
              "param_xgbclassifier__colsample_bytree                                           0.805926   \n",
              "param_xgbclassifier__learning_rate                                                   0.1   \n",
              "param_xgbclassifier__max_depth                                                         6   \n",
              "param_xgbclassifier__min_child_weight                                                  4   \n",
              "params                                 {'xgbclassifier__colsample_bytree': 0.80592644...   \n",
              "split0_test_score                                                               0.555815   \n",
              "split1_test_score                                                               0.560363   \n",
              "split2_test_score                                                               0.555339   \n",
              "mean_test_score                                                                 0.557173   \n",
              "std_test_score                                                                  0.002265   \n",
              "rank_test_score                                                                        4   \n",
              "\n",
              "                                                                                       1  \\\n",
              "mean_fit_time                                                                   8.288305   \n",
              "std_fit_time                                                                    0.758722   \n",
              "mean_score_time                                                                 0.103105   \n",
              "std_score_time                                                                  0.000465   \n",
              "param_xgbclassifier__colsample_bytree                                           0.889846   \n",
              "param_xgbclassifier__learning_rate                                                  0.05   \n",
              "param_xgbclassifier__max_depth                                                         6   \n",
              "param_xgbclassifier__min_child_weight                                                  4   \n",
              "params                                 {'xgbclassifier__colsample_bytree': 0.88984550...   \n",
              "split0_test_score                                                               0.550043   \n",
              "split1_test_score                                                               0.564645   \n",
              "split2_test_score                                                               0.555797   \n",
              "mean_test_score                                                                 0.556828   \n",
              "std_test_score                                                                  0.006006   \n",
              "rank_test_score                                                                        5   \n",
              "\n",
              "                                                                                       9  \\\n",
              "mean_fit_time                                                                  10.932698   \n",
              "std_fit_time                                                                    1.280874   \n",
              "mean_score_time                                                                   0.1378   \n",
              "std_score_time                                                                  0.043417   \n",
              "param_xgbclassifier__colsample_bytree                                           0.991615   \n",
              "param_xgbclassifier__learning_rate                                                  0.05   \n",
              "param_xgbclassifier__max_depth                                                         6   \n",
              "param_xgbclassifier__min_child_weight                                                  2   \n",
              "params                                 {'xgbclassifier__colsample_bytree': 0.99161544...   \n",
              "split0_test_score                                                               0.550129   \n",
              "split1_test_score                                                               0.561123   \n",
              "split2_test_score                                                                0.55683   \n",
              "mean_test_score                                                                 0.556027   \n",
              "std_test_score                                                                  0.004524   \n",
              "rank_test_score                                                                        6   \n",
              "\n",
              "                                                                                       8  \\\n",
              "mean_fit_time                                                                   6.159071   \n",
              "std_fit_time                                                                    0.667863   \n",
              "mean_score_time                                                                 0.133141   \n",
              "std_score_time                                                                  0.041756   \n",
              "param_xgbclassifier__colsample_bytree                                           0.545303   \n",
              "param_xgbclassifier__learning_rate                                                   0.1   \n",
              "param_xgbclassifier__max_depth                                                         6   \n",
              "param_xgbclassifier__min_child_weight                                                  8   \n",
              "params                                 {'xgbclassifier__colsample_bytree': 0.54530321...   \n",
              "split0_test_score                                                                0.55109   \n",
              "split1_test_score                                                               0.559377   \n",
              "split2_test_score                                                               0.551694   \n",
              "mean_test_score                                                                 0.554054   \n",
              "std_test_score                                                                  0.003772   \n",
              "rank_test_score                                                                        7   \n",
              "\n",
              "                                                                                       5  \\\n",
              "mean_fit_time                                                                   2.607885   \n",
              "std_fit_time                                                                    0.795554   \n",
              "mean_score_time                                                                  0.07323   \n",
              "std_score_time                                                                   0.00266   \n",
              "param_xgbclassifier__colsample_bytree                                           0.590912   \n",
              "param_xgbclassifier__learning_rate                                                  0.05   \n",
              "param_xgbclassifier__max_depth                                                         2   \n",
              "param_xgbclassifier__min_child_weight                                                  4   \n",
              "params                                 {'xgbclassifier__colsample_bytree': 0.59091248...   \n",
              "split0_test_score                                                                0.54274   \n",
              "split1_test_score                                                               0.560796   \n",
              "split2_test_score                                                               0.543113   \n",
              "mean_test_score                                                                 0.548883   \n",
              "std_test_score                                                                  0.008425   \n",
              "rank_test_score                                                                        8   \n",
              "\n",
              "                                                                                       6  \\\n",
              "mean_fit_time                                                                   2.371911   \n",
              "std_fit_time                                                                    0.036924   \n",
              "mean_score_time                                                                 0.085665   \n",
              "std_score_time                                                                  0.022396   \n",
              "param_xgbclassifier__colsample_bytree                                           0.762378   \n",
              "param_xgbclassifier__learning_rate                                                  0.05   \n",
              "param_xgbclassifier__max_depth                                                         2   \n",
              "param_xgbclassifier__min_child_weight                                                  8   \n",
              "params                                 {'xgbclassifier__colsample_bytree': 0.76237821...   \n",
              "split0_test_score                                                               0.542585   \n",
              "split1_test_score                                                               0.560521   \n",
              "split2_test_score                                                               0.540517   \n",
              "mean_test_score                                                                 0.547874   \n",
              "std_test_score                                                                  0.008982   \n",
              "rank_test_score                                                                        9   \n",
              "\n",
              "                                                                                       2  \n",
              "mean_fit_time                                                                   5.918215  \n",
              "std_fit_time                                                                    0.753919  \n",
              "mean_score_time                                                                  0.10546  \n",
              "std_score_time                                                                  0.006012  \n",
              "param_xgbclassifier__colsample_bytree                                           0.577997  \n",
              "param_xgbclassifier__learning_rate                                                   0.2  \n",
              "param_xgbclassifier__max_depth                                                         6  \n",
              "param_xgbclassifier__min_child_weight                                                  2  \n",
              "params                                 {'xgbclassifier__colsample_bytree': 0.57799726...  \n",
              "split0_test_score                                                               0.543834  \n",
              "split1_test_score                                                                0.55596  \n",
              "split2_test_score                                                               0.542109  \n",
              "mean_test_score                                                                 0.547301  \n",
              "std_test_score                                                                  0.006163  \n",
              "rank_test_score                                                                       10  "
            ],
            "text/html": [
              "\n",
              "  <div id=\"df-dbe4f47b-3234-486d-947d-21c3ff206d5a\">\n",
              "    <div class=\"colab-df-container\">\n",
              "      <div>\n",
              "<style scoped>\n",
              "    .dataframe tbody tr th:only-of-type {\n",
              "        vertical-align: middle;\n",
              "    }\n",
              "\n",
              "    .dataframe tbody tr th {\n",
              "        vertical-align: top;\n",
              "    }\n",
              "\n",
              "    .dataframe thead th {\n",
              "        text-align: right;\n",
              "    }\n",
              "</style>\n",
              "<table border=\"1\" class=\"dataframe\">\n",
              "  <thead>\n",
              "    <tr style=\"text-align: right;\">\n",
              "      <th></th>\n",
              "      <th>4</th>\n",
              "      <th>3</th>\n",
              "      <th>0</th>\n",
              "      <th>7</th>\n",
              "      <th>1</th>\n",
              "      <th>9</th>\n",
              "      <th>8</th>\n",
              "      <th>5</th>\n",
              "      <th>6</th>\n",
              "      <th>2</th>\n",
              "    </tr>\n",
              "  </thead>\n",
              "  <tbody>\n",
              "    <tr>\n",
              "      <th>mean_fit_time</th>\n",
              "      <td>5.511648</td>\n",
              "      <td>5.98863</td>\n",
              "      <td>7.738554</td>\n",
              "      <td>8.193274</td>\n",
              "      <td>8.288305</td>\n",
              "      <td>10.932698</td>\n",
              "      <td>6.159071</td>\n",
              "      <td>2.607885</td>\n",
              "      <td>2.371911</td>\n",
              "      <td>5.918215</td>\n",
              "    </tr>\n",
              "    <tr>\n",
              "      <th>std_fit_time</th>\n",
              "      <td>0.776507</td>\n",
              "      <td>1.37589</td>\n",
              "      <td>1.255674</td>\n",
              "      <td>1.33508</td>\n",
              "      <td>0.758722</td>\n",
              "      <td>1.280874</td>\n",
              "      <td>0.667863</td>\n",
              "      <td>0.795554</td>\n",
              "      <td>0.036924</td>\n",
              "      <td>0.753919</td>\n",
              "    </tr>\n",
              "    <tr>\n",
              "      <th>mean_score_time</th>\n",
              "      <td>0.088557</td>\n",
              "      <td>0.090992</td>\n",
              "      <td>0.104164</td>\n",
              "      <td>0.133576</td>\n",
              "      <td>0.103105</td>\n",
              "      <td>0.1378</td>\n",
              "      <td>0.133141</td>\n",
              "      <td>0.07323</td>\n",
              "      <td>0.085665</td>\n",
              "      <td>0.10546</td>\n",
              "    </tr>\n",
              "    <tr>\n",
              "      <th>std_score_time</th>\n",
              "      <td>0.003204</td>\n",
              "      <td>0.00517</td>\n",
              "      <td>0.001553</td>\n",
              "      <td>0.03446</td>\n",
              "      <td>0.000465</td>\n",
              "      <td>0.043417</td>\n",
              "      <td>0.041756</td>\n",
              "      <td>0.00266</td>\n",
              "      <td>0.022396</td>\n",
              "      <td>0.006012</td>\n",
              "    </tr>\n",
              "    <tr>\n",
              "      <th>param_xgbclassifier__colsample_bytree</th>\n",
              "      <td>0.984955</td>\n",
              "      <td>0.800558</td>\n",
              "      <td>0.68727</td>\n",
              "      <td>0.805926</td>\n",
              "      <td>0.889846</td>\n",
              "      <td>0.991615</td>\n",
              "      <td>0.545303</td>\n",
              "      <td>0.590912</td>\n",
              "      <td>0.762378</td>\n",
              "      <td>0.577997</td>\n",
              "    </tr>\n",
              "    <tr>\n",
              "      <th>param_xgbclassifier__learning_rate</th>\n",
              "      <td>0.1</td>\n",
              "      <td>0.2</td>\n",
              "      <td>0.05</td>\n",
              "      <td>0.1</td>\n",
              "      <td>0.05</td>\n",
              "      <td>0.05</td>\n",
              "      <td>0.1</td>\n",
              "      <td>0.05</td>\n",
              "      <td>0.05</td>\n",
              "      <td>0.2</td>\n",
              "    </tr>\n",
              "    <tr>\n",
              "      <th>param_xgbclassifier__max_depth</th>\n",
              "      <td>4</td>\n",
              "      <td>4</td>\n",
              "      <td>6</td>\n",
              "      <td>6</td>\n",
              "      <td>6</td>\n",
              "      <td>6</td>\n",
              "      <td>6</td>\n",
              "      <td>2</td>\n",
              "      <td>2</td>\n",
              "      <td>6</td>\n",
              "    </tr>\n",
              "    <tr>\n",
              "      <th>param_xgbclassifier__min_child_weight</th>\n",
              "      <td>4</td>\n",
              "      <td>2</td>\n",
              "      <td>8</td>\n",
              "      <td>4</td>\n",
              "      <td>4</td>\n",
              "      <td>2</td>\n",
              "      <td>8</td>\n",
              "      <td>4</td>\n",
              "      <td>8</td>\n",
              "      <td>2</td>\n",
              "    </tr>\n",
              "    <tr>\n",
              "      <th>params</th>\n",
              "      <td>{'xgbclassifier__colsample_bytree': 0.98495492...</td>\n",
              "      <td>{'xgbclassifier__colsample_bytree': 0.80055750...</td>\n",
              "      <td>{'xgbclassifier__colsample_bytree': 0.68727005...</td>\n",
              "      <td>{'xgbclassifier__colsample_bytree': 0.80592644...</td>\n",
              "      <td>{'xgbclassifier__colsample_bytree': 0.88984550...</td>\n",
              "      <td>{'xgbclassifier__colsample_bytree': 0.99161544...</td>\n",
              "      <td>{'xgbclassifier__colsample_bytree': 0.54530321...</td>\n",
              "      <td>{'xgbclassifier__colsample_bytree': 0.59091248...</td>\n",
              "      <td>{'xgbclassifier__colsample_bytree': 0.76237821...</td>\n",
              "      <td>{'xgbclassifier__colsample_bytree': 0.57799726...</td>\n",
              "    </tr>\n",
              "    <tr>\n",
              "      <th>split0_test_score</th>\n",
              "      <td>0.551665</td>\n",
              "      <td>0.554278</td>\n",
              "      <td>0.547332</td>\n",
              "      <td>0.555815</td>\n",
              "      <td>0.550043</td>\n",
              "      <td>0.550129</td>\n",
              "      <td>0.55109</td>\n",
              "      <td>0.54274</td>\n",
              "      <td>0.542585</td>\n",
              "      <td>0.543834</td>\n",
              "    </tr>\n",
              "    <tr>\n",
              "      <th>split1_test_score</th>\n",
              "      <td>0.565488</td>\n",
              "      <td>0.564761</td>\n",
              "      <td>0.569021</td>\n",
              "      <td>0.560363</td>\n",
              "      <td>0.564645</td>\n",
              "      <td>0.561123</td>\n",
              "      <td>0.559377</td>\n",
              "      <td>0.560796</td>\n",
              "      <td>0.560521</td>\n",
              "      <td>0.55596</td>\n",
              "    </tr>\n",
              "    <tr>\n",
              "      <th>split2_test_score</th>\n",
              "      <td>0.560416</td>\n",
              "      <td>0.553873</td>\n",
              "      <td>0.556352</td>\n",
              "      <td>0.555339</td>\n",
              "      <td>0.555797</td>\n",
              "      <td>0.55683</td>\n",
              "      <td>0.551694</td>\n",
              "      <td>0.543113</td>\n",
              "      <td>0.540517</td>\n",
              "      <td>0.542109</td>\n",
              "    </tr>\n",
              "    <tr>\n",
              "      <th>mean_test_score</th>\n",
              "      <td>0.559189</td>\n",
              "      <td>0.557637</td>\n",
              "      <td>0.557568</td>\n",
              "      <td>0.557173</td>\n",
              "      <td>0.556828</td>\n",
              "      <td>0.556027</td>\n",
              "      <td>0.554054</td>\n",
              "      <td>0.548883</td>\n",
              "      <td>0.547874</td>\n",
              "      <td>0.547301</td>\n",
              "    </tr>\n",
              "    <tr>\n",
              "      <th>std_test_score</th>\n",
              "      <td>0.005709</td>\n",
              "      <td>0.00504</td>\n",
              "      <td>0.008896</td>\n",
              "      <td>0.002265</td>\n",
              "      <td>0.006006</td>\n",
              "      <td>0.004524</td>\n",
              "      <td>0.003772</td>\n",
              "      <td>0.008425</td>\n",
              "      <td>0.008982</td>\n",
              "      <td>0.006163</td>\n",
              "    </tr>\n",
              "    <tr>\n",
              "      <th>rank_test_score</th>\n",
              "      <td>1</td>\n",
              "      <td>2</td>\n",
              "      <td>3</td>\n",
              "      <td>4</td>\n",
              "      <td>5</td>\n",
              "      <td>6</td>\n",
              "      <td>7</td>\n",
              "      <td>8</td>\n",
              "      <td>9</td>\n",
              "      <td>10</td>\n",
              "    </tr>\n",
              "  </tbody>\n",
              "</table>\n",
              "</div>\n",
              "      <button class=\"colab-df-convert\" onclick=\"convertToInteractive('df-dbe4f47b-3234-486d-947d-21c3ff206d5a')\"\n",
              "              title=\"Convert this dataframe to an interactive table.\"\n",
              "              style=\"display:none;\">\n",
              "        \n",
              "  <svg xmlns=\"http://www.w3.org/2000/svg\" height=\"24px\"viewBox=\"0 0 24 24\"\n",
              "       width=\"24px\">\n",
              "    <path d=\"M0 0h24v24H0V0z\" fill=\"none\"/>\n",
              "    <path d=\"M18.56 5.44l.94 2.06.94-2.06 2.06-.94-2.06-.94-.94-2.06-.94 2.06-2.06.94zm-11 1L8.5 8.5l.94-2.06 2.06-.94-2.06-.94L8.5 2.5l-.94 2.06-2.06.94zm10 10l.94 2.06.94-2.06 2.06-.94-2.06-.94-.94-2.06-.94 2.06-2.06.94z\"/><path d=\"M17.41 7.96l-1.37-1.37c-.4-.4-.92-.59-1.43-.59-.52 0-1.04.2-1.43.59L10.3 9.45l-7.72 7.72c-.78.78-.78 2.05 0 2.83L4 21.41c.39.39.9.59 1.41.59.51 0 1.02-.2 1.41-.59l7.78-7.78 2.81-2.81c.8-.78.8-2.07 0-2.86zM5.41 20L4 18.59l7.72-7.72 1.47 1.35L5.41 20z\"/>\n",
              "  </svg>\n",
              "      </button>\n",
              "      \n",
              "  <style>\n",
              "    .colab-df-container {\n",
              "      display:flex;\n",
              "      flex-wrap:wrap;\n",
              "      gap: 12px;\n",
              "    }\n",
              "\n",
              "    .colab-df-convert {\n",
              "      background-color: #E8F0FE;\n",
              "      border: none;\n",
              "      border-radius: 50%;\n",
              "      cursor: pointer;\n",
              "      display: none;\n",
              "      fill: #1967D2;\n",
              "      height: 32px;\n",
              "      padding: 0 0 0 0;\n",
              "      width: 32px;\n",
              "    }\n",
              "\n",
              "    .colab-df-convert:hover {\n",
              "      background-color: #E2EBFA;\n",
              "      box-shadow: 0px 1px 2px rgba(60, 64, 67, 0.3), 0px 1px 3px 1px rgba(60, 64, 67, 0.15);\n",
              "      fill: #174EA6;\n",
              "    }\n",
              "\n",
              "    [theme=dark] .colab-df-convert {\n",
              "      background-color: #3B4455;\n",
              "      fill: #D2E3FC;\n",
              "    }\n",
              "\n",
              "    [theme=dark] .colab-df-convert:hover {\n",
              "      background-color: #434B5C;\n",
              "      box-shadow: 0px 1px 3px 1px rgba(0, 0, 0, 0.15);\n",
              "      filter: drop-shadow(0px 1px 2px rgba(0, 0, 0, 0.3));\n",
              "      fill: #FFFFFF;\n",
              "    }\n",
              "  </style>\n",
              "\n",
              "      <script>\n",
              "        const buttonEl =\n",
              "          document.querySelector('#df-dbe4f47b-3234-486d-947d-21c3ff206d5a button.colab-df-convert');\n",
              "        buttonEl.style.display =\n",
              "          google.colab.kernel.accessAllowed ? 'block' : 'none';\n",
              "\n",
              "        async function convertToInteractive(key) {\n",
              "          const element = document.querySelector('#df-dbe4f47b-3234-486d-947d-21c3ff206d5a');\n",
              "          const dataTable =\n",
              "            await google.colab.kernel.invokeFunction('convertToInteractive',\n",
              "                                                     [key], {});\n",
              "          if (!dataTable) return;\n",
              "\n",
              "          const docLinkHtml = 'Like what you see? Visit the ' +\n",
              "            '<a target=\"_blank\" href=https://colab.research.google.com/notebooks/data_table.ipynb>data table notebook</a>'\n",
              "            + ' to learn more about interactive tables.';\n",
              "          element.innerHTML = '';\n",
              "          dataTable['output_type'] = 'display_data';\n",
              "          await google.colab.output.renderOutput(dataTable, element);\n",
              "          const docLink = document.createElement('div');\n",
              "          docLink.innerHTML = docLinkHtml;\n",
              "          element.appendChild(docLink);\n",
              "        }\n",
              "      </script>\n",
              "    </div>\n",
              "  </div>\n",
              "  "
            ]
          },
          "metadata": {},
          "execution_count": 34
        }
      ]
    },
    {
      "cell_type": "markdown",
      "source": [
        "##### 모델 생성"
      ],
      "metadata": {
        "id": "vlWJiGmHVCN3"
      }
    },
    {
      "cell_type": "code",
      "source": [
        "xgb_random = make_pipeline(\n",
        "    OrdinalEncoder(),\n",
        "    SimpleImputer(strategy=\"median\"),\n",
        "    XGBClassifier(\n",
        "        objective=\"binary:logistic\",\n",
        "        eval_metric=\"error\",\n",
        "        n_estimators=200,\n",
        "        max_depth = 4,\n",
        "        learning_rate = 0.1,\n",
        "        min_child_weight = 4,\n",
        "        colsample_bytree = 0.984955\t,\n",
        "        random_state=42,\n",
        "        n_jobs=-1\n",
        "    ),\n",
        ")\n",
        "\n",
        "xgb_random.fit(X_train, y_train)"
      ],
      "metadata": {
        "colab": {
          "base_uri": "https://localhost:8080/",
          "height": 158
        },
        "outputId": "f800aba4-3ecd-4819-94eb-872adfe16703",
        "id": "35c4uvYuVCN3"
      },
      "execution_count": 133,
      "outputs": [
        {
          "output_type": "execute_result",
          "data": {
            "text/plain": [
              "Pipeline(steps=[('ordinalencoder',\n",
              "                 OrdinalEncoder(cols=['opinion_h1n1_vacc_effective',\n",
              "                                      'opinion_h1n1_risk',\n",
              "                                      'opinion_h1n1_sick_from_vacc',\n",
              "                                      'opinion_seas_vacc_effective',\n",
              "                                      'opinion_seas_risk',\n",
              "                                      'opinion_seas_sick_from_vacc', 'agegrp',\n",
              "                                      'employment_status', 'census_msa'],\n",
              "                                mapping=[{'col': 'opinion_h1n1_vacc_effective',\n",
              "                                          'data_type': dtype('O'),\n",
              "                                          'mapping': Not At All Effec...\n",
              "                               feature_types=None, gamma=None, gpu_id=None,\n",
              "                               grow_policy=None, importance_type=None,\n",
              "                               interaction_constraints=None, learning_rate=0.1,\n",
              "                               max_bin=None, max_cat_threshold=None,\n",
              "                               max_cat_to_onehot=None, max_delta_step=None,\n",
              "                               max_depth=4, max_leaves=None, min_child_weight=4,\n",
              "                               missing=nan, monotone_constraints=None,\n",
              "                               n_estimators=200, n_jobs=-1,\n",
              "                               num_parallel_tree=None, predictor=None,\n",
              "                               random_state=42, ...))])"
            ],
            "text/html": [
              "<style>#sk-container-id-8 {color: black;background-color: white;}#sk-container-id-8 pre{padding: 0;}#sk-container-id-8 div.sk-toggleable {background-color: white;}#sk-container-id-8 label.sk-toggleable__label {cursor: pointer;display: block;width: 100%;margin-bottom: 0;padding: 0.3em;box-sizing: border-box;text-align: center;}#sk-container-id-8 label.sk-toggleable__label-arrow:before {content: \"▸\";float: left;margin-right: 0.25em;color: #696969;}#sk-container-id-8 label.sk-toggleable__label-arrow:hover:before {color: black;}#sk-container-id-8 div.sk-estimator:hover label.sk-toggleable__label-arrow:before {color: black;}#sk-container-id-8 div.sk-toggleable__content {max-height: 0;max-width: 0;overflow: hidden;text-align: left;background-color: #f0f8ff;}#sk-container-id-8 div.sk-toggleable__content pre {margin: 0.2em;color: black;border-radius: 0.25em;background-color: #f0f8ff;}#sk-container-id-8 input.sk-toggleable__control:checked~div.sk-toggleable__content {max-height: 200px;max-width: 100%;overflow: auto;}#sk-container-id-8 input.sk-toggleable__control:checked~label.sk-toggleable__label-arrow:before {content: \"▾\";}#sk-container-id-8 div.sk-estimator input.sk-toggleable__control:checked~label.sk-toggleable__label {background-color: #d4ebff;}#sk-container-id-8 div.sk-label input.sk-toggleable__control:checked~label.sk-toggleable__label {background-color: #d4ebff;}#sk-container-id-8 input.sk-hidden--visually {border: 0;clip: rect(1px 1px 1px 1px);clip: rect(1px, 1px, 1px, 1px);height: 1px;margin: -1px;overflow: hidden;padding: 0;position: absolute;width: 1px;}#sk-container-id-8 div.sk-estimator {font-family: monospace;background-color: #f0f8ff;border: 1px dotted black;border-radius: 0.25em;box-sizing: border-box;margin-bottom: 0.5em;}#sk-container-id-8 div.sk-estimator:hover {background-color: #d4ebff;}#sk-container-id-8 div.sk-parallel-item::after {content: \"\";width: 100%;border-bottom: 1px solid gray;flex-grow: 1;}#sk-container-id-8 div.sk-label:hover label.sk-toggleable__label {background-color: #d4ebff;}#sk-container-id-8 div.sk-serial::before {content: \"\";position: absolute;border-left: 1px solid gray;box-sizing: border-box;top: 0;bottom: 0;left: 50%;z-index: 0;}#sk-container-id-8 div.sk-serial {display: flex;flex-direction: column;align-items: center;background-color: white;padding-right: 0.2em;padding-left: 0.2em;position: relative;}#sk-container-id-8 div.sk-item {position: relative;z-index: 1;}#sk-container-id-8 div.sk-parallel {display: flex;align-items: stretch;justify-content: center;background-color: white;position: relative;}#sk-container-id-8 div.sk-item::before, #sk-container-id-8 div.sk-parallel-item::before {content: \"\";position: absolute;border-left: 1px solid gray;box-sizing: border-box;top: 0;bottom: 0;left: 50%;z-index: -1;}#sk-container-id-8 div.sk-parallel-item {display: flex;flex-direction: column;z-index: 1;position: relative;background-color: white;}#sk-container-id-8 div.sk-parallel-item:first-child::after {align-self: flex-end;width: 50%;}#sk-container-id-8 div.sk-parallel-item:last-child::after {align-self: flex-start;width: 50%;}#sk-container-id-8 div.sk-parallel-item:only-child::after {width: 0;}#sk-container-id-8 div.sk-dashed-wrapped {border: 1px dashed gray;margin: 0 0.4em 0.5em 0.4em;box-sizing: border-box;padding-bottom: 0.4em;background-color: white;}#sk-container-id-8 div.sk-label label {font-family: monospace;font-weight: bold;display: inline-block;line-height: 1.2em;}#sk-container-id-8 div.sk-label-container {text-align: center;}#sk-container-id-8 div.sk-container {/* jupyter's `normalize.less` sets `[hidden] { display: none; }` but bootstrap.min.css set `[hidden] { display: none !important; }` so we also need the `!important` here to be able to override the default hidden behavior on the sphinx rendered scikit-learn.org. See: https://github.com/scikit-learn/scikit-learn/issues/21755 */display: inline-block !important;position: relative;}#sk-container-id-8 div.sk-text-repr-fallback {display: none;}</style><div id=\"sk-container-id-8\" class=\"sk-top-container\"><div class=\"sk-text-repr-fallback\"><pre>Pipeline(steps=[(&#x27;ordinalencoder&#x27;,\n",
              "                 OrdinalEncoder(cols=[&#x27;opinion_h1n1_vacc_effective&#x27;,\n",
              "                                      &#x27;opinion_h1n1_risk&#x27;,\n",
              "                                      &#x27;opinion_h1n1_sick_from_vacc&#x27;,\n",
              "                                      &#x27;opinion_seas_vacc_effective&#x27;,\n",
              "                                      &#x27;opinion_seas_risk&#x27;,\n",
              "                                      &#x27;opinion_seas_sick_from_vacc&#x27;, &#x27;agegrp&#x27;,\n",
              "                                      &#x27;employment_status&#x27;, &#x27;census_msa&#x27;],\n",
              "                                mapping=[{&#x27;col&#x27;: &#x27;opinion_h1n1_vacc_effective&#x27;,\n",
              "                                          &#x27;data_type&#x27;: dtype(&#x27;O&#x27;),\n",
              "                                          &#x27;mapping&#x27;: Not At All Effec...\n",
              "                               feature_types=None, gamma=None, gpu_id=None,\n",
              "                               grow_policy=None, importance_type=None,\n",
              "                               interaction_constraints=None, learning_rate=0.1,\n",
              "                               max_bin=None, max_cat_threshold=None,\n",
              "                               max_cat_to_onehot=None, max_delta_step=None,\n",
              "                               max_depth=4, max_leaves=None, min_child_weight=4,\n",
              "                               missing=nan, monotone_constraints=None,\n",
              "                               n_estimators=200, n_jobs=-1,\n",
              "                               num_parallel_tree=None, predictor=None,\n",
              "                               random_state=42, ...))])</pre><b>In a Jupyter environment, please rerun this cell to show the HTML representation or trust the notebook. <br />On GitHub, the HTML representation is unable to render, please try loading this page with nbviewer.org.</b></div><div class=\"sk-container\" hidden><div class=\"sk-item sk-dashed-wrapped\"><div class=\"sk-label-container\"><div class=\"sk-label sk-toggleable\"><input class=\"sk-toggleable__control sk-hidden--visually\" id=\"sk-estimator-id-32\" type=\"checkbox\" ><label for=\"sk-estimator-id-32\" class=\"sk-toggleable__label sk-toggleable__label-arrow\">Pipeline</label><div class=\"sk-toggleable__content\"><pre>Pipeline(steps=[(&#x27;ordinalencoder&#x27;,\n",
              "                 OrdinalEncoder(cols=[&#x27;opinion_h1n1_vacc_effective&#x27;,\n",
              "                                      &#x27;opinion_h1n1_risk&#x27;,\n",
              "                                      &#x27;opinion_h1n1_sick_from_vacc&#x27;,\n",
              "                                      &#x27;opinion_seas_vacc_effective&#x27;,\n",
              "                                      &#x27;opinion_seas_risk&#x27;,\n",
              "                                      &#x27;opinion_seas_sick_from_vacc&#x27;, &#x27;agegrp&#x27;,\n",
              "                                      &#x27;employment_status&#x27;, &#x27;census_msa&#x27;],\n",
              "                                mapping=[{&#x27;col&#x27;: &#x27;opinion_h1n1_vacc_effective&#x27;,\n",
              "                                          &#x27;data_type&#x27;: dtype(&#x27;O&#x27;),\n",
              "                                          &#x27;mapping&#x27;: Not At All Effec...\n",
              "                               feature_types=None, gamma=None, gpu_id=None,\n",
              "                               grow_policy=None, importance_type=None,\n",
              "                               interaction_constraints=None, learning_rate=0.1,\n",
              "                               max_bin=None, max_cat_threshold=None,\n",
              "                               max_cat_to_onehot=None, max_delta_step=None,\n",
              "                               max_depth=4, max_leaves=None, min_child_weight=4,\n",
              "                               missing=nan, monotone_constraints=None,\n",
              "                               n_estimators=200, n_jobs=-1,\n",
              "                               num_parallel_tree=None, predictor=None,\n",
              "                               random_state=42, ...))])</pre></div></div></div><div class=\"sk-serial\"><div class=\"sk-item\"><div class=\"sk-estimator sk-toggleable\"><input class=\"sk-toggleable__control sk-hidden--visually\" id=\"sk-estimator-id-33\" type=\"checkbox\" ><label for=\"sk-estimator-id-33\" class=\"sk-toggleable__label sk-toggleable__label-arrow\">OrdinalEncoder</label><div class=\"sk-toggleable__content\"><pre>OrdinalEncoder(cols=[&#x27;opinion_h1n1_vacc_effective&#x27;, &#x27;opinion_h1n1_risk&#x27;,\n",
              "                     &#x27;opinion_h1n1_sick_from_vacc&#x27;,\n",
              "                     &#x27;opinion_seas_vacc_effective&#x27;, &#x27;opinion_seas_risk&#x27;,\n",
              "                     &#x27;opinion_seas_sick_from_vacc&#x27;, &#x27;agegrp&#x27;,\n",
              "                     &#x27;employment_status&#x27;, &#x27;census_msa&#x27;],\n",
              "               mapping=[{&#x27;col&#x27;: &#x27;opinion_h1n1_vacc_effective&#x27;,\n",
              "                         &#x27;data_type&#x27;: dtype(&#x27;O&#x27;),\n",
              "                         &#x27;mapping&#x27;: Not At All Effective    1\n",
              "Dont Know               2\n",
              "NaN                     3\n",
              "Somewhat Effectiv...\n",
              "                        {&#x27;col&#x27;: &#x27;agegrp&#x27;, &#x27;data_type&#x27;: dtype(&#x27;O&#x27;),\n",
              "                         &#x27;mapping&#x27;: 65+ Years             1\n",
              "35 - 44 Years         2\n",
              "45 - 54 Years         3\n",
              "18 - 34 Years         4\n",
              "6 Months - 9 Years    5\n",
              "10 - 17 Years         6\n",
              "55 - 64 Years         7\n",
              "NaN                  -2\n",
              "dtype: int64},\n",
              "                        {&#x27;col&#x27;: &#x27;employment_status&#x27;, &#x27;data_type&#x27;: dtype(&#x27;O&#x27;),\n",
              "                         &#x27;mapping&#x27;: Employed              1\n",
              "NaN                   2\n",
              "Not in Labor Force    3\n",
              "Unemployed            4\n",
              "dtype: int64},\n",
              "                        {&#x27;col&#x27;: &#x27;census_msa&#x27;, &#x27;data_type&#x27;: dtype(&#x27;O&#x27;),\n",
              "                         &#x27;mapping&#x27;: MSA, Principle City        1\n",
              "MSA, Not Principle City    2\n",
              "Non-MSA                    3\n",
              "NaN                       -2\n",
              "dtype: int64}])</pre></div></div></div><div class=\"sk-item\"><div class=\"sk-estimator sk-toggleable\"><input class=\"sk-toggleable__control sk-hidden--visually\" id=\"sk-estimator-id-34\" type=\"checkbox\" ><label for=\"sk-estimator-id-34\" class=\"sk-toggleable__label sk-toggleable__label-arrow\">SimpleImputer</label><div class=\"sk-toggleable__content\"><pre>SimpleImputer(strategy=&#x27;median&#x27;)</pre></div></div></div><div class=\"sk-item\"><div class=\"sk-estimator sk-toggleable\"><input class=\"sk-toggleable__control sk-hidden--visually\" id=\"sk-estimator-id-35\" type=\"checkbox\" ><label for=\"sk-estimator-id-35\" class=\"sk-toggleable__label sk-toggleable__label-arrow\">XGBClassifier</label><div class=\"sk-toggleable__content\"><pre>XGBClassifier(base_score=None, booster=None, callbacks=None,\n",
              "              colsample_bylevel=None, colsample_bynode=None,\n",
              "              colsample_bytree=0.984955, early_stopping_rounds=None,\n",
              "              enable_categorical=False, eval_metric=&#x27;error&#x27;, feature_types=None,\n",
              "              gamma=None, gpu_id=None, grow_policy=None, importance_type=None,\n",
              "              interaction_constraints=None, learning_rate=0.1, max_bin=None,\n",
              "              max_cat_threshold=None, max_cat_to_onehot=None,\n",
              "              max_delta_step=None, max_depth=4, max_leaves=None,\n",
              "              min_child_weight=4, missing=nan, monotone_constraints=None,\n",
              "              n_estimators=200, n_jobs=-1, num_parallel_tree=None,\n",
              "              predictor=None, random_state=42, ...)</pre></div></div></div></div></div></div></div>"
            ]
          },
          "metadata": {},
          "execution_count": 133
        }
      ]
    },
    {
      "cell_type": "code",
      "source": [
        "y_train_pred = xgb_random.predict(X_train) # random_search.predict(X_train)과 동일\n",
        "y_val_pred = xgb_random.predict(X_val)\n",
        "\n",
        "print(\"훈련 F1-Score: \", f1_score(y_train, y_train_pred).round(2))\n",
        "print(\"검증 F1-Score: \", f1_score(y_val, y_val_pred).round(2))\n",
        "\n",
        "print(\n",
        "    classification_report(\n",
        "        y_val, y_val_pred\n",
        "    )\n",
        ")"
      ],
      "metadata": {
        "colab": {
          "base_uri": "https://localhost:8080/"
        },
        "outputId": "72467702-eb1a-43ae-991e-6df3fabbda8e",
        "id": "vZIBNr-ZVCN4"
      },
      "execution_count": 134,
      "outputs": [
        {
          "output_type": "stream",
          "name": "stdout",
          "text": [
            "훈련 F1-Score:  0.59\n",
            "검증 F1-Score:  0.56\n",
            "              precision    recall  f1-score   support\n",
            "\n",
            "           0       0.85      0.92      0.88      6416\n",
            "           1       0.65      0.48      0.56      2015\n",
            "\n",
            "    accuracy                           0.82      8431\n",
            "   macro avg       0.75      0.70      0.72      8431\n",
            "weighted avg       0.80      0.82      0.80      8431\n",
            "\n"
          ]
        }
      ]
    },
    {
      "cell_type": "markdown",
      "source": [
        "##### Feature Selection"
      ],
      "metadata": {
        "id": "LHY9l1H_VCN4"
      }
    },
    {
      "cell_type": "markdown",
      "source": [
        "###### 특성중요도 기반 선택"
      ],
      "metadata": {
        "id": "eOHU5dGCVCN4"
      }
    },
    {
      "cell_type": "code",
      "source": [
        "feature_importances = list(\n",
        "    zip(X_train.columns, xgb_random.named_steps[\"xgbclassifier\"].feature_importances_)\n",
        ")\n",
        "feature_importances = sorted(feature_importances, key=lambda x: x[1], reverse=True)\n",
        "\n",
        "plt.figure(figsize=(10, 10), dpi=120)\n",
        "plt.barh(*list(zip(*feature_importances[::-1])))\n",
        "plt.axvline(0.015, color=\"red\", linewidth=0.5)\n",
        "plt.show()"
      ],
      "metadata": {
        "colab": {
          "base_uri": "https://localhost:8080/",
          "height": 976
        },
        "outputId": "d6d7a3ed-7b3e-421c-e072-3b410d0d5de3",
        "id": "UZwQVKBLVCN4"
      },
      "execution_count": 135,
      "outputs": [
        {
          "output_type": "display_data",
          "data": {
            "text/plain": [
              "<Figure size 1200x1200 with 1 Axes>"
            ],
            "image/png": "[encoded data removed]"
          },
          "metadata": {
            "needs_background": "light"
          }
        }
      ]
    },
    {
      "cell_type": "code",
      "source": [
        "# 특성 중요도 0.015 미만인 특성들을 Drop 후 재학습\n",
        "features_selected = list(filter(lambda x: x[1] >= 0.015, feature_importances))\n",
        "print(features_selected)\n",
        "selected_feature_names = list(map(lambda x: x[0], features_selected))"
      ],
      "metadata": {
        "colab": {
          "base_uri": "https://localhost:8080/"
        },
        "outputId": "43b569ac-3932-436f-f275-eb202783f5cd",
        "id": "tF6OQrHXVCN4"
      },
      "execution_count": 136,
      "outputs": [
        {
          "output_type": "stream",
          "name": "stdout",
          "text": [
            "[('doctor_recc_h1n1', 0.55489063), ('opinion_h1n1_risk', 0.07801902), ('health_worker', 0.046895962), ('opinion_h1n1_vacc_effective', 0.036481), ('opinion_seas_risk', 0.023467062), ('doctor_recc_seasonal', 0.021797575)]\n"
          ]
        }
      ]
    },
    {
      "cell_type": "code",
      "source": [
        "X_train_selected = X_train[selected_feature_names]\n",
        "X_val_selected = X_val[selected_feature_names]\n",
        "test_selected = test[selected_feature_names]"
      ],
      "metadata": {
        "id": "-zOuW2v5VCN4"
      },
      "execution_count": 137,
      "outputs": []
    },
    {
      "cell_type": "code",
      "source": [
        "xgb_random_fs1 = make_pipeline(\n",
        "    OrdinalEncoder(),\n",
        "    SimpleImputer(strategy=\"median\"),\n",
        "    XGBClassifier(\n",
        "        objective=\"binary:logistic\",\n",
        "        eval_metric=\"error\",\n",
        "        n_estimators=200,\n",
        "        max_depth = 4,\n",
        "        learning_rate = 0.1,\n",
        "        min_child_weight = 4,\n",
        "        colsample_bytree = 0.984955\t,\n",
        "        random_state=42,\n",
        "        n_jobs=-1\n",
        "    ),\n",
        ")\n",
        "\n",
        "xgb_random_fs1.fit(X_train_selected, y_train)\n",
        "\n",
        "y_train_pred = xgb_random_fs1.predict(X_train_selected)\n",
        "y_val_pred = xgb_random_fs1.predict(X_val_selected)\n",
        "\n",
        "print(\"훈련 F1-Score: \", f1_score(y_train, y_train_pred).round(2))\n",
        "print(\"검증 F1-Score: \", f1_score(y_val, y_val_pred).round(2))\n",
        "print(\"특성 수:\")\n",
        "print(\"\\tBefore: \", X_train.shape[1])\n",
        "print(\"\\tAfter: \", X_train_selected.shape[1])"
      ],
      "metadata": {
        "colab": {
          "base_uri": "https://localhost:8080/"
        },
        "outputId": "a4355cd7-7def-4176-a3e3-a6c0ab51dee1",
        "id": "JzDbHvmHVCN4"
      },
      "execution_count": 138,
      "outputs": [
        {
          "output_type": "stream",
          "name": "stdout",
          "text": [
            "훈련 F1-Score:  0.56\n",
            "검증 F1-Score:  0.54\n",
            "특성 수:\n",
            "\tBefore:  35\n",
            "\tAfter:  6\n"
          ]
        }
      ]
    },
    {
      "cell_type": "markdown",
      "source": [
        "###### 통계량 기반 선택"
      ],
      "metadata": {
        "id": "E1I82bRDVCN5"
      }
    },
    {
      "cell_type": "code",
      "execution_count": 139,
      "metadata": {
        "id": "BH9RyKP7VCN5"
      },
      "outputs": [],
      "source": [
        "enc = OrdinalEncoder()\n",
        "imp = SimpleImputer()\n",
        "\n",
        "X_train_encoded = enc.fit_transform(X_train)\n",
        "X_train_imputed = imp.fit_transform(X_train_encoded)"
      ]
    },
    {
      "cell_type": "code",
      "execution_count": 140,
      "metadata": {
        "id": "Sw3nrqp8VCN5"
      },
      "outputs": [],
      "source": [
        "selector = SelectKBest(score_func=mutual_info_classif, k=6)  # 특성 중요도에서 선택된 결과 특성 수와 동일하게 맞춤\n",
        "X_train_selected = pd.DataFrame(selector.fit_transform(X_train_imputed, y_train))"
      ]
    },
    {
      "cell_type": "code",
      "execution_count": 141,
      "metadata": {
        "outputId": "f9dc4b5a-5b50-4864-bd9f-8c58c4764a0b",
        "colab": {
          "base_uri": "https://localhost:8080/"
        },
        "id": "hCjR3h_LVCN5"
      },
      "outputs": [
        {
          "output_type": "stream",
          "name": "stdout",
          "text": [
            "선택된 특성:  ['doctor_recc_h1n1', 'doctor_recc_seasonal', 'health_insurance', 'opinion_h1n1_vacc_effective', 'opinion_h1n1_risk', 'opinion_seas_risk']\n"
          ]
        }
      ],
      "source": [
        "print(\"선택된 특성: \", X_train.columns[selector.get_support()].tolist())"
      ]
    },
    {
      "cell_type": "code",
      "source": [
        "selected_feature_names = X_train.columns[selector.get_support()].tolist()"
      ],
      "metadata": {
        "id": "JSjA5zAnVCN5"
      },
      "execution_count": 142,
      "outputs": []
    },
    {
      "cell_type": "code",
      "source": [
        "X_train_selected = X_train[selected_feature_names]\n",
        "X_val_selected = X_val[selected_feature_names]\n",
        "test_selected = test[selected_feature_names]"
      ],
      "metadata": {
        "id": "zjcuGkNdVCN5"
      },
      "execution_count": 143,
      "outputs": []
    },
    {
      "cell_type": "code",
      "source": [
        "xgb_random_fs2 = make_pipeline(\n",
        "    OrdinalEncoder(),\n",
        "    SimpleImputer(strategy=\"median\"),\n",
        "    XGBClassifier(\n",
        "        objective=\"binary:logistic\",\n",
        "        eval_metric=\"error\",\n",
        "        n_estimators=200,\n",
        "        max_depth = 4,\n",
        "        learning_rate = 0.1,\n",
        "        min_child_weight = 4,\n",
        "        colsample_bytree = 0.984955\t,\n",
        "        random_state=42,\n",
        "        n_jobs=-1\n",
        "    ),\n",
        ")\n",
        "\n",
        "xgb_random_fs2.fit(X_train_selected, y_train)\n",
        "\n",
        "y_train_pred = xgb_random_fs2.predict(X_train_selected)\n",
        "y_val_pred = xgb_random_fs2.predict(X_val_selected)\n",
        "\n",
        "print(\"훈련 F1-Score: \", f1_score(y_train, y_train_pred).round(2))\n",
        "print(\"검증 F1-Score: \", f1_score(y_val, y_val_pred).round(2))\n",
        "print(\"특성 수:\")\n",
        "print(\"\\tBefore: \", X_train.shape[1])\n",
        "print(\"\\tAfter: \", X_train_selected.shape[1])"
      ],
      "metadata": {
        "colab": {
          "base_uri": "https://localhost:8080/"
        },
        "outputId": "6730490a-e485-4dfc-8300-a6d7a834ed43",
        "id": "l-pzU1GBVCN5"
      },
      "execution_count": 144,
      "outputs": [
        {
          "output_type": "stream",
          "name": "stdout",
          "text": [
            "훈련 F1-Score:  0.54\n",
            "검증 F1-Score:  0.52\n",
            "특성 수:\n",
            "\tBefore:  35\n",
            "\tAfter:  6\n"
          ]
        }
      ]
    },
    {
      "cell_type": "markdown",
      "source": [
        "Random Search 결과\n",
        "- 변수를 줄여도 큰 차이는 나지 않지만, 점수가 중요한 시합이다 보니 일단 줄이지 않는 경우를 가장 최적의 결과로 봐야한다.\n",
        "- 따라서 변수를 줄이지 않은 모델 선택 : F1-Score 0.56"
      ],
      "metadata": {
        "id": "LXZA-npzWBZU"
      }
    },
    {
      "cell_type": "markdown",
      "metadata": {
        "id": "lnG6iVRzVPNb"
      },
      "source": [
        "### **2-2. 결과 제출**\n",
        "- 테스트 세트에 대한 예측 결과를 캐글에 제출하세요. "
      ]
    },
    {
      "cell_type": "markdown",
      "source": [
        "두 서치 방식 모두 동일한 f1 score가 나왔다.\n",
        "- 서치 시간이 더 적게 걸리는 Randomized Search 방법을 채택"
      ],
      "metadata": {
        "id": "Am8gfa5QWgNW"
      }
    },
    {
      "cell_type": "markdown",
      "metadata": {
        "id": "wXZdd4ZAW4VY"
      },
      "source": [
        "##### **Q. 캐글 Leaderboard에 있는 개선된 본인의 score를 제출해 주세요.**"
      ]
    },
    {
      "cell_type": "code",
      "execution_count": 145,
      "metadata": {
        "id": "6Cf79MzQYo-R",
        "colab": {
          "base_uri": "https://localhost:8080/"
        },
        "outputId": "917240f9-137b-4015-d725-2e265276cabc"
      },
      "outputs": [
        {
          "output_type": "stream",
          "name": "stdout",
          "text": [
            "Mounted at /content/drive\n"
          ]
        }
      ],
      "source": [
        "# csv 파일 저장을 위한 구글 드라이브 마운트\n",
        "import sys\n",
        "\n",
        "if \"google.colab\" in sys.modules:\n",
        "    from google.colab import drive\n",
        "    drive.mount('/content/drive')\n"
      ]
    },
    {
      "cell_type": "code",
      "source": [
        "pred = xgb_random.predict(test)"
      ],
      "metadata": {
        "id": "y85ScXjjWyez"
      },
      "execution_count": 146,
      "outputs": []
    },
    {
      "cell_type": "code",
      "execution_count": 148,
      "metadata": {
        "id": "DmFBbE8rcO0V"
      },
      "outputs": [],
      "source": [
        "result = sample_submission.copy()\n",
        "result['vacc_h1n1_f'] = pred"
      ]
    },
    {
      "cell_type": "code",
      "source": [
        "result.to_csv('/content/drive/MyDrive/Codestates/N200/N220/data/224_xgb_random.csv', index=False)"
      ],
      "metadata": {
        "id": "En2FjaLxky2h"
      },
      "execution_count": 149,
      "outputs": []
    },
    {
      "cell_type": "markdown",
      "source": [
        "0.5526"
      ],
      "metadata": {
        "id": "yKCTq54uXANc"
      }
    },
    {
      "cell_type": "markdown",
      "metadata": {
        "id": "B-sXGlPDZEtY"
      },
      "source": [
        "# 🥇 **도전 과제**\n",
        "\n",
        "- `hyperopt` 라이브러리를 사용하여 Bayesian Search를 진행해보세요.\n",
        "- **2-1**의 결과와 비교해보세요. \n",
        "    - 최적의 하이퍼파라미터 값은 어떻게 다른가요?\n",
        "    - 최적의 f1 score는 어떻게 다른가요?"
      ]
    },
    {
      "cell_type": "markdown",
      "source": [
        "##### 파라미터 서치"
      ],
      "metadata": {
        "id": "Zw5wPOoIXd4C"
      }
    },
    {
      "cell_type": "code",
      "execution_count": 38,
      "metadata": {
        "id": "IzClYn1mM_Ap"
      },
      "outputs": [],
      "source": [
        "from hyperopt import hp\n",
        "\n",
        "params = {\n",
        "    \"xgbclassifier__max_depth\": hp.quniform(\"max_depth\", 2, 10, 2),\n",
        "    \"xgbclassifier__learning_rate\" : hp.quniform('learning_rate', 0.05, 0.2, 0.05),\n",
        "    \"xgbclassifier__min_child_weight\": hp.quniform(\"min_child_weight\", 2, 10, 2),\n",
        "    \"xgbclassifier__colsample_bytree\": hp.uniform(\"colsample_bytree\", 0.5, 1.0),\n",
        "}"
      ]
    },
    {
      "cell_type": "code",
      "source": [
        "from hyperopt import fmin, tpe, Trials, STATUS_OK\n",
        "from sklearn.model_selection import cross_val_score\n",
        "import numpy as np\n",
        "\n",
        "\n",
        "def get_pipe(params):\n",
        "    params[\"xgbclassifier__max_depth\"] = int(\n",
        "        params[\"xgbclassifier__max_depth\"]\n",
        "    )  # max_depth는 정수형으로 변환해 줍니다.\n",
        "    pipe = make_pipeline(\n",
        "        OrdinalEncoder(),\n",
        "        SimpleImputer(strategy=\"median\"),\n",
        "        XGBClassifier(\n",
        "            objective=\"binary:logistic\",\n",
        "            eval_metric=\"error\",\n",
        "            n_estimators=200,\n",
        "            random_state=42,\n",
        "            n_jobs=-1,\n",
        "        ),\n",
        "    )\n",
        "    pipe = pipe.set_params(**params)\n",
        "    return pipe\n",
        "\n",
        "\n",
        "def fit_and_eval(params):\n",
        "    pipe = get_pipe(params)  # 주어진 params로 파이프라인을 만들어 가져옵니다.\n",
        "    score = cross_val_score(pipe, X_train, y_train, cv=3, scoring=\"f1\")\n",
        "    avg_cv_score = np.mean(score)\n",
        "    # roc_auc는 클수록 좋은 metric이므로, hyperopt.fmin이 roc_auc를 최대화하도록 하기 위해 -부호를 붙여 반환합니다.\n",
        "    return {\"loss\": -avg_cv_score, \"status\": STATUS_OK}\n",
        "\n",
        "\n",
        "trials = (\n",
        "    Trials()\n",
        ")  # Trials() 객체를 fmin에 함께 넣어 실행하면, 실행되는 매 fit의 학습 정보 및 학습 결과가 해당 객체에 모두 저장됩니다.\n",
        "\n",
        "best_params = fmin(\n",
        "    fn=fit_and_eval, trials=trials, space=params, algo=tpe.suggest, max_evals=10,\n",
        "    rstate = np.random.default_rng(2023)\n",
        ")  # max_evals 횟수만큼 하이퍼파라미터 조합을 탐색합니다."
      ],
      "metadata": {
        "colab": {
          "base_uri": "https://localhost:8080/"
        },
        "id": "p4pwlHGS-gYi",
        "outputId": "2209d9d7-f697-40c6-9a41-b2f7f82afc29"
      },
      "execution_count": 150,
      "outputs": [
        {
          "output_type": "stream",
          "name": "stdout",
          "text": [
            "100%|██████████| 10/10 [05:21<00:00, 32.16s/trial, best loss: -0.5609539195318943]\n"
          ]
        }
      ]
    },
    {
      "cell_type": "code",
      "source": [
        "print(\"최적 하이퍼파라미터: \", trials.best_trial[\"misc\"][\"vals\"])\n",
        "print(\"최적 F1-Score: \", -trials.best_trial[\"result\"][\"loss\"])"
      ],
      "metadata": {
        "colab": {
          "base_uri": "https://localhost:8080/"
        },
        "id": "r6Cd-QDh-gVd",
        "outputId": "1c5c7ff3-30a5-418e-eb7e-6c4d044447cf"
      },
      "execution_count": 152,
      "outputs": [
        {
          "output_type": "stream",
          "name": "stdout",
          "text": [
            "최적 하이퍼파라미터:  {'colsample_bytree': [0.6297055162373459], 'learning_rate': [0.1], 'max_depth': [4.0], 'min_child_weight': [2.0]}\n",
            "최적 F1-Score:  0.5609539195318943\n"
          ]
        }
      ]
    },
    {
      "cell_type": "markdown",
      "source": [
        "##### 모델 생성"
      ],
      "metadata": {
        "id": "jYeHJOQ9XbJX"
      }
    },
    {
      "cell_type": "code",
      "source": [
        "xgb_bayes = make_pipeline(\n",
        "    OrdinalEncoder(),\n",
        "    SimpleImputer(strategy=\"median\"),\n",
        "    XGBClassifier(\n",
        "        objective=\"binary:logistic\",\n",
        "        eval_metric=\"error\",\n",
        "        n_estimators=200,\n",
        "        max_depth = 4,\n",
        "        learning_rate = 0.1,\n",
        "        min_child_weight = 2,\n",
        "        colsample_bytree = 0.6297055162373459,\n",
        "        random_state=42,\n",
        "        n_jobs=-1\n",
        "    ),\n",
        ")\n",
        "\n",
        "xgb_bayes.fit(X_train, y_train)"
      ],
      "metadata": {
        "colab": {
          "base_uri": "https://localhost:8080/",
          "height": 158
        },
        "outputId": "6d95df6b-e295-42c1-f3d5-2f51d987d213",
        "id": "N9WGacZcXbJY"
      },
      "execution_count": 153,
      "outputs": [
        {
          "output_type": "execute_result",
          "data": {
            "text/plain": [
              "Pipeline(steps=[('ordinalencoder',\n",
              "                 OrdinalEncoder(cols=['opinion_h1n1_vacc_effective',\n",
              "                                      'opinion_h1n1_risk',\n",
              "                                      'opinion_h1n1_sick_from_vacc',\n",
              "                                      'opinion_seas_vacc_effective',\n",
              "                                      'opinion_seas_risk',\n",
              "                                      'opinion_seas_sick_from_vacc', 'agegrp',\n",
              "                                      'employment_status', 'census_msa'],\n",
              "                                mapping=[{'col': 'opinion_h1n1_vacc_effective',\n",
              "                                          'data_type': dtype('O'),\n",
              "                                          'mapping': Not At All Effec...\n",
              "                               feature_types=None, gamma=None, gpu_id=None,\n",
              "                               grow_policy=None, importance_type=None,\n",
              "                               interaction_constraints=None, learning_rate=0.1,\n",
              "                               max_bin=None, max_cat_threshold=None,\n",
              "                               max_cat_to_onehot=None, max_delta_step=None,\n",
              "                               max_depth=4, max_leaves=None, min_child_weight=2,\n",
              "                               missing=nan, monotone_constraints=None,\n",
              "                               n_estimators=200, n_jobs=-1,\n",
              "                               num_parallel_tree=None, predictor=None,\n",
              "                               random_state=42, ...))])"
            ],
            "text/html": [
              "<style>#sk-container-id-9 {color: black;background-color: white;}#sk-container-id-9 pre{padding: 0;}#sk-container-id-9 div.sk-toggleable {background-color: white;}#sk-container-id-9 label.sk-toggleable__label {cursor: pointer;display: block;width: 100%;margin-bottom: 0;padding: 0.3em;box-sizing: border-box;text-align: center;}#sk-container-id-9 label.sk-toggleable__label-arrow:before {content: \"▸\";float: left;margin-right: 0.25em;color: #696969;}#sk-container-id-9 label.sk-toggleable__label-arrow:hover:before {color: black;}#sk-container-id-9 div.sk-estimator:hover label.sk-toggleable__label-arrow:before {color: black;}#sk-container-id-9 div.sk-toggleable__content {max-height: 0;max-width: 0;overflow: hidden;text-align: left;background-color: #f0f8ff;}#sk-container-id-9 div.sk-toggleable__content pre {margin: 0.2em;color: black;border-radius: 0.25em;background-color: #f0f8ff;}#sk-container-id-9 input.sk-toggleable__control:checked~div.sk-toggleable__content {max-height: 200px;max-width: 100%;overflow: auto;}#sk-container-id-9 input.sk-toggleable__control:checked~label.sk-toggleable__label-arrow:before {content: \"▾\";}#sk-container-id-9 div.sk-estimator input.sk-toggleable__control:checked~label.sk-toggleable__label {background-color: #d4ebff;}#sk-container-id-9 div.sk-label input.sk-toggleable__control:checked~label.sk-toggleable__label {background-color: #d4ebff;}#sk-container-id-9 input.sk-hidden--visually {border: 0;clip: rect(1px 1px 1px 1px);clip: rect(1px, 1px, 1px, 1px);height: 1px;margin: -1px;overflow: hidden;padding: 0;position: absolute;width: 1px;}#sk-container-id-9 div.sk-estimator {font-family: monospace;background-color: #f0f8ff;border: 1px dotted black;border-radius: 0.25em;box-sizing: border-box;margin-bottom: 0.5em;}#sk-container-id-9 div.sk-estimator:hover {background-color: #d4ebff;}#sk-container-id-9 div.sk-parallel-item::after {content: \"\";width: 100%;border-bottom: 1px solid gray;flex-grow: 1;}#sk-container-id-9 div.sk-label:hover label.sk-toggleable__label {background-color: #d4ebff;}#sk-container-id-9 div.sk-serial::before {content: \"\";position: absolute;border-left: 1px solid gray;box-sizing: border-box;top: 0;bottom: 0;left: 50%;z-index: 0;}#sk-container-id-9 div.sk-serial {display: flex;flex-direction: column;align-items: center;background-color: white;padding-right: 0.2em;padding-left: 0.2em;position: relative;}#sk-container-id-9 div.sk-item {position: relative;z-index: 1;}#sk-container-id-9 div.sk-parallel {display: flex;align-items: stretch;justify-content: center;background-color: white;position: relative;}#sk-container-id-9 div.sk-item::before, #sk-container-id-9 div.sk-parallel-item::before {content: \"\";position: absolute;border-left: 1px solid gray;box-sizing: border-box;top: 0;bottom: 0;left: 50%;z-index: -1;}#sk-container-id-9 div.sk-parallel-item {display: flex;flex-direction: column;z-index: 1;position: relative;background-color: white;}#sk-container-id-9 div.sk-parallel-item:first-child::after {align-self: flex-end;width: 50%;}#sk-container-id-9 div.sk-parallel-item:last-child::after {align-self: flex-start;width: 50%;}#sk-container-id-9 div.sk-parallel-item:only-child::after {width: 0;}#sk-container-id-9 div.sk-dashed-wrapped {border: 1px dashed gray;margin: 0 0.4em 0.5em 0.4em;box-sizing: border-box;padding-bottom: 0.4em;background-color: white;}#sk-container-id-9 div.sk-label label {font-family: monospace;font-weight: bold;display: inline-block;line-height: 1.2em;}#sk-container-id-9 div.sk-label-container {text-align: center;}#sk-container-id-9 div.sk-container {/* jupyter's `normalize.less` sets `[hidden] { display: none; }` but bootstrap.min.css set `[hidden] { display: none !important; }` so we also need the `!important` here to be able to override the default hidden behavior on the sphinx rendered scikit-learn.org. See: https://github.com/scikit-learn/scikit-learn/issues/21755 */display: inline-block !important;position: relative;}#sk-container-id-9 div.sk-text-repr-fallback {display: none;}</style><div id=\"sk-container-id-9\" class=\"sk-top-container\"><div class=\"sk-text-repr-fallback\"><pre>Pipeline(steps=[(&#x27;ordinalencoder&#x27;,\n",
              "                 OrdinalEncoder(cols=[&#x27;opinion_h1n1_vacc_effective&#x27;,\n",
              "                                      &#x27;opinion_h1n1_risk&#x27;,\n",
              "                                      &#x27;opinion_h1n1_sick_from_vacc&#x27;,\n",
              "                                      &#x27;opinion_seas_vacc_effective&#x27;,\n",
              "                                      &#x27;opinion_seas_risk&#x27;,\n",
              "                                      &#x27;opinion_seas_sick_from_vacc&#x27;, &#x27;agegrp&#x27;,\n",
              "                                      &#x27;employment_status&#x27;, &#x27;census_msa&#x27;],\n",
              "                                mapping=[{&#x27;col&#x27;: &#x27;opinion_h1n1_vacc_effective&#x27;,\n",
              "                                          &#x27;data_type&#x27;: dtype(&#x27;O&#x27;),\n",
              "                                          &#x27;mapping&#x27;: Not At All Effec...\n",
              "                               feature_types=None, gamma=None, gpu_id=None,\n",
              "                               grow_policy=None, importance_type=None,\n",
              "                               interaction_constraints=None, learning_rate=0.1,\n",
              "                               max_bin=None, max_cat_threshold=None,\n",
              "                               max_cat_to_onehot=None, max_delta_step=None,\n",
              "                               max_depth=4, max_leaves=None, min_child_weight=2,\n",
              "                               missing=nan, monotone_constraints=None,\n",
              "                               n_estimators=200, n_jobs=-1,\n",
              "                               num_parallel_tree=None, predictor=None,\n",
              "                               random_state=42, ...))])</pre><b>In a Jupyter environment, please rerun this cell to show the HTML representation or trust the notebook. <br />On GitHub, the HTML representation is unable to render, please try loading this page with nbviewer.org.</b></div><div class=\"sk-container\" hidden><div class=\"sk-item sk-dashed-wrapped\"><div class=\"sk-label-container\"><div class=\"sk-label sk-toggleable\"><input class=\"sk-toggleable__control sk-hidden--visually\" id=\"sk-estimator-id-36\" type=\"checkbox\" ><label for=\"sk-estimator-id-36\" class=\"sk-toggleable__label sk-toggleable__label-arrow\">Pipeline</label><div class=\"sk-toggleable__content\"><pre>Pipeline(steps=[(&#x27;ordinalencoder&#x27;,\n",
              "                 OrdinalEncoder(cols=[&#x27;opinion_h1n1_vacc_effective&#x27;,\n",
              "                                      &#x27;opinion_h1n1_risk&#x27;,\n",
              "                                      &#x27;opinion_h1n1_sick_from_vacc&#x27;,\n",
              "                                      &#x27;opinion_seas_vacc_effective&#x27;,\n",
              "                                      &#x27;opinion_seas_risk&#x27;,\n",
              "                                      &#x27;opinion_seas_sick_from_vacc&#x27;, &#x27;agegrp&#x27;,\n",
              "                                      &#x27;employment_status&#x27;, &#x27;census_msa&#x27;],\n",
              "                                mapping=[{&#x27;col&#x27;: &#x27;opinion_h1n1_vacc_effective&#x27;,\n",
              "                                          &#x27;data_type&#x27;: dtype(&#x27;O&#x27;),\n",
              "                                          &#x27;mapping&#x27;: Not At All Effec...\n",
              "                               feature_types=None, gamma=None, gpu_id=None,\n",
              "                               grow_policy=None, importance_type=None,\n",
              "                               interaction_constraints=None, learning_rate=0.1,\n",
              "                               max_bin=None, max_cat_threshold=None,\n",
              "                               max_cat_to_onehot=None, max_delta_step=None,\n",
              "                               max_depth=4, max_leaves=None, min_child_weight=2,\n",
              "                               missing=nan, monotone_constraints=None,\n",
              "                               n_estimators=200, n_jobs=-1,\n",
              "                               num_parallel_tree=None, predictor=None,\n",
              "                               random_state=42, ...))])</pre></div></div></div><div class=\"sk-serial\"><div class=\"sk-item\"><div class=\"sk-estimator sk-toggleable\"><input class=\"sk-toggleable__control sk-hidden--visually\" id=\"sk-estimator-id-37\" type=\"checkbox\" ><label for=\"sk-estimator-id-37\" class=\"sk-toggleable__label sk-toggleable__label-arrow\">OrdinalEncoder</label><div class=\"sk-toggleable__content\"><pre>OrdinalEncoder(cols=[&#x27;opinion_h1n1_vacc_effective&#x27;, &#x27;opinion_h1n1_risk&#x27;,\n",
              "                     &#x27;opinion_h1n1_sick_from_vacc&#x27;,\n",
              "                     &#x27;opinion_seas_vacc_effective&#x27;, &#x27;opinion_seas_risk&#x27;,\n",
              "                     &#x27;opinion_seas_sick_from_vacc&#x27;, &#x27;agegrp&#x27;,\n",
              "                     &#x27;employment_status&#x27;, &#x27;census_msa&#x27;],\n",
              "               mapping=[{&#x27;col&#x27;: &#x27;opinion_h1n1_vacc_effective&#x27;,\n",
              "                         &#x27;data_type&#x27;: dtype(&#x27;O&#x27;),\n",
              "                         &#x27;mapping&#x27;: Not At All Effective    1\n",
              "Dont Know               2\n",
              "NaN                     3\n",
              "Somewhat Effectiv...\n",
              "                        {&#x27;col&#x27;: &#x27;agegrp&#x27;, &#x27;data_type&#x27;: dtype(&#x27;O&#x27;),\n",
              "                         &#x27;mapping&#x27;: 65+ Years             1\n",
              "35 - 44 Years         2\n",
              "45 - 54 Years         3\n",
              "18 - 34 Years         4\n",
              "6 Months - 9 Years    5\n",
              "10 - 17 Years         6\n",
              "55 - 64 Years         7\n",
              "NaN                  -2\n",
              "dtype: int64},\n",
              "                        {&#x27;col&#x27;: &#x27;employment_status&#x27;, &#x27;data_type&#x27;: dtype(&#x27;O&#x27;),\n",
              "                         &#x27;mapping&#x27;: Employed              1\n",
              "NaN                   2\n",
              "Not in Labor Force    3\n",
              "Unemployed            4\n",
              "dtype: int64},\n",
              "                        {&#x27;col&#x27;: &#x27;census_msa&#x27;, &#x27;data_type&#x27;: dtype(&#x27;O&#x27;),\n",
              "                         &#x27;mapping&#x27;: MSA, Principle City        1\n",
              "MSA, Not Principle City    2\n",
              "Non-MSA                    3\n",
              "NaN                       -2\n",
              "dtype: int64}])</pre></div></div></div><div class=\"sk-item\"><div class=\"sk-estimator sk-toggleable\"><input class=\"sk-toggleable__control sk-hidden--visually\" id=\"sk-estimator-id-38\" type=\"checkbox\" ><label for=\"sk-estimator-id-38\" class=\"sk-toggleable__label sk-toggleable__label-arrow\">SimpleImputer</label><div class=\"sk-toggleable__content\"><pre>SimpleImputer(strategy=&#x27;median&#x27;)</pre></div></div></div><div class=\"sk-item\"><div class=\"sk-estimator sk-toggleable\"><input class=\"sk-toggleable__control sk-hidden--visually\" id=\"sk-estimator-id-39\" type=\"checkbox\" ><label for=\"sk-estimator-id-39\" class=\"sk-toggleable__label sk-toggleable__label-arrow\">XGBClassifier</label><div class=\"sk-toggleable__content\"><pre>XGBClassifier(base_score=None, booster=None, callbacks=None,\n",
              "              colsample_bylevel=None, colsample_bynode=None,\n",
              "              colsample_bytree=0.6297055162373459, early_stopping_rounds=None,\n",
              "              enable_categorical=False, eval_metric=&#x27;error&#x27;, feature_types=None,\n",
              "              gamma=None, gpu_id=None, grow_policy=None, importance_type=None,\n",
              "              interaction_constraints=None, learning_rate=0.1, max_bin=None,\n",
              "              max_cat_threshold=None, max_cat_to_onehot=None,\n",
              "              max_delta_step=None, max_depth=4, max_leaves=None,\n",
              "              min_child_weight=2, missing=nan, monotone_constraints=None,\n",
              "              n_estimators=200, n_jobs=-1, num_parallel_tree=None,\n",
              "              predictor=None, random_state=42, ...)</pre></div></div></div></div></div></div></div>"
            ]
          },
          "metadata": {},
          "execution_count": 153
        }
      ]
    },
    {
      "cell_type": "code",
      "source": [
        "y_train_pred = xgb_bayes.predict(X_train)\n",
        "y_val_pred = xgb_bayes.predict(X_val)\n",
        "\n",
        "print(\"훈련 F1-Score: \", f1_score(y_train, y_train_pred).round(2))\n",
        "print(\"검증 F1-Score: \", f1_score(y_val, y_val_pred).round(2))\n",
        "\n",
        "print(\n",
        "    classification_report(\n",
        "        y_val, y_val_pred\n",
        "    )\n",
        ")"
      ],
      "metadata": {
        "colab": {
          "base_uri": "https://localhost:8080/"
        },
        "outputId": "f7cb78d2-f777-4717-b849-4bce6910b921",
        "id": "fW1goaOAXbJY"
      },
      "execution_count": 154,
      "outputs": [
        {
          "output_type": "stream",
          "name": "stdout",
          "text": [
            "훈련 F1-Score:  0.59\n",
            "검증 F1-Score:  0.56\n",
            "              precision    recall  f1-score   support\n",
            "\n",
            "           0       0.85      0.92      0.88      6416\n",
            "           1       0.66      0.49      0.56      2015\n",
            "\n",
            "    accuracy                           0.82      8431\n",
            "   macro avg       0.75      0.70      0.72      8431\n",
            "weighted avg       0.80      0.82      0.81      8431\n",
            "\n"
          ]
        }
      ]
    },
    {
      "cell_type": "markdown",
      "source": [
        "##### Feature Selection"
      ],
      "metadata": {
        "id": "fPREqd_gXbJY"
      }
    },
    {
      "cell_type": "markdown",
      "source": [
        "###### 특성중요도 기반 선택"
      ],
      "metadata": {
        "id": "y5txuuLeXbJY"
      }
    },
    {
      "cell_type": "code",
      "source": [
        "feature_importances = list(\n",
        "    zip(X_train.columns, xgb_bayes.named_steps[\"xgbclassifier\"].feature_importances_)\n",
        ")\n",
        "feature_importances = sorted(feature_importances, key=lambda x: x[1], reverse=True)\n",
        "\n",
        "plt.figure(figsize=(10, 10), dpi=120)\n",
        "plt.barh(*list(zip(*feature_importances[::-1])))\n",
        "plt.axvline(0.015, color=\"red\", linewidth=0.5)\n",
        "plt.show()"
      ],
      "metadata": {
        "colab": {
          "base_uri": "https://localhost:8080/",
          "height": 976
        },
        "outputId": "31ec6e08-eab3-485e-bceb-b8bc3740025d",
        "id": "PisWbL7mXbJZ"
      },
      "execution_count": 155,
      "outputs": [
        {
          "output_type": "display_data",
          "data": {
            "text/plain": [
              "<Figure size 1200x1200 with 1 Axes>"
            ],
            "image/png": "[encoded data removed]"
          },
          "metadata": {
            "needs_background": "light"
          }
        }
      ]
    },
    {
      "cell_type": "code",
      "source": [
        "# 특성 중요도 0.015 미만인 특성들을 Drop 후 재학습\n",
        "features_selected = list(filter(lambda x: x[1] >= 0.015, feature_importances))\n",
        "print(features_selected)\n",
        "selected_feature_names = list(map(lambda x: x[0], features_selected))"
      ],
      "metadata": {
        "colab": {
          "base_uri": "https://localhost:8080/"
        },
        "outputId": "64bb062e-b0af-4179-9f36-08546c3d1167",
        "id": "jvmjFwKWXbJZ"
      },
      "execution_count": 156,
      "outputs": [
        {
          "output_type": "stream",
          "name": "stdout",
          "text": [
            "[('doctor_recc_h1n1', 0.5027896), ('opinion_h1n1_risk', 0.072393976), ('health_worker', 0.050481815), ('opinion_seas_risk', 0.049597163), ('opinion_h1n1_vacc_effective', 0.042389743), ('doctor_recc_seasonal', 0.04058846), ('h1n1_knowledge', 0.015315588)]\n"
          ]
        }
      ]
    },
    {
      "cell_type": "code",
      "source": [
        "X_train_selected = X_train[selected_feature_names]\n",
        "X_val_selected = X_val[selected_feature_names]\n",
        "test_selected = test[selected_feature_names]"
      ],
      "metadata": {
        "id": "S6Hh20fMXbJZ"
      },
      "execution_count": 157,
      "outputs": []
    },
    {
      "cell_type": "code",
      "source": [
        "xgb_bayes_fs1 = make_pipeline(\n",
        "    OrdinalEncoder(),\n",
        "    SimpleImputer(strategy=\"median\"),\n",
        "    XGBClassifier(\n",
        "        objective=\"binary:logistic\",\n",
        "        eval_metric=\"error\",\n",
        "        n_estimators=200,\n",
        "        max_depth = 4,\n",
        "        learning_rate = 0.1,\n",
        "        min_child_weight = 2,\n",
        "        colsample_bytree = 0.6297055162373459,\n",
        "        random_state=42,\n",
        "        n_jobs=-1\n",
        "    ),\n",
        ")\n",
        "\n",
        "xgb_bayes_fs1.fit(X_train_selected, y_train)\n",
        "\n",
        "y_train_pred = xgb_bayes_fs1.predict(X_train_selected)\n",
        "y_val_pred = xgb_bayes_fs1.predict(X_val_selected)\n",
        "\n",
        "print(\"훈련 F1-Score: \", f1_score(y_train, y_train_pred).round(2))\n",
        "print(\"검증 F1-Score: \", f1_score(y_val, y_val_pred).round(2))\n",
        "print(\"특성 수:\")\n",
        "print(\"\\tBefore: \", X_train.shape[1])\n",
        "print(\"\\tAfter: \", X_train_selected.shape[1])"
      ],
      "metadata": {
        "colab": {
          "base_uri": "https://localhost:8080/"
        },
        "outputId": "35d12fef-139b-46b1-a4bb-b8a6af07017b",
        "id": "eBnYvgGlXbJZ"
      },
      "execution_count": 158,
      "outputs": [
        {
          "output_type": "stream",
          "name": "stdout",
          "text": [
            "훈련 F1-Score:  0.56\n",
            "검증 F1-Score:  0.54\n",
            "특성 수:\n",
            "\tBefore:  35\n",
            "\tAfter:  7\n"
          ]
        }
      ]
    },
    {
      "cell_type": "markdown",
      "source": [
        "###### 통계량 기반 선택"
      ],
      "metadata": {
        "id": "IhqLg-V9XbJZ"
      }
    },
    {
      "cell_type": "code",
      "execution_count": 159,
      "metadata": {
        "id": "qkXeNGVHXbJZ"
      },
      "outputs": [],
      "source": [
        "enc = OrdinalEncoder()\n",
        "imp = SimpleImputer()\n",
        "\n",
        "X_train_encoded = enc.fit_transform(X_train)\n",
        "X_train_imputed = imp.fit_transform(X_train_encoded)"
      ]
    },
    {
      "cell_type": "code",
      "execution_count": 160,
      "metadata": {
        "id": "QH3rJ5TZXbJZ"
      },
      "outputs": [],
      "source": [
        "selector = SelectKBest(score_func=mutual_info_classif, k=7)  # 특성 중요도에서 선택된 결과 특성 수와 동일하게 맞춤\n",
        "X_train_selected = pd.DataFrame(selector.fit_transform(X_train_imputed, y_train))"
      ]
    },
    {
      "cell_type": "code",
      "execution_count": 161,
      "metadata": {
        "outputId": "35594024-38bf-4637-9a75-964401a04eab",
        "colab": {
          "base_uri": "https://localhost:8080/"
        },
        "id": "y-fOIAO6XbJZ"
      },
      "outputs": [
        {
          "output_type": "stream",
          "name": "stdout",
          "text": [
            "선택된 특성:  ['doctor_recc_h1n1', 'doctor_recc_seasonal', 'health_insurance', 'opinion_h1n1_vacc_effective', 'opinion_h1n1_risk', 'opinion_seas_vacc_effective', 'opinion_seas_risk']\n"
          ]
        }
      ],
      "source": [
        "print(\"선택된 특성: \", X_train.columns[selector.get_support()].tolist())"
      ]
    },
    {
      "cell_type": "code",
      "source": [
        "selected_feature_names = X_train.columns[selector.get_support()].tolist()"
      ],
      "metadata": {
        "id": "FzjKQGKtXbJZ"
      },
      "execution_count": 162,
      "outputs": []
    },
    {
      "cell_type": "code",
      "source": [
        "X_train_selected = X_train[selected_feature_names]\n",
        "X_val_selected = X_val[selected_feature_names]\n",
        "test_selected = test[selected_feature_names]"
      ],
      "metadata": {
        "id": "aDbvDnQTXbJZ"
      },
      "execution_count": 163,
      "outputs": []
    },
    {
      "cell_type": "code",
      "source": [
        "xgb_bayes_fs2 = make_pipeline(\n",
        "    OrdinalEncoder(),\n",
        "    SimpleImputer(strategy=\"median\"),\n",
        "    XGBClassifier(\n",
        "        objective=\"binary:logistic\",\n",
        "        eval_metric=\"error\",\n",
        "        n_estimators=200,\n",
        "        max_depth = 4,\n",
        "        learning_rate = 0.1,\n",
        "        min_child_weight = 2,\n",
        "        colsample_bytree = 0.6297055162373459,\n",
        "        random_state=42,\n",
        "        n_jobs=-1\n",
        "    ),\n",
        ")\n",
        "\n",
        "xgb_bayes_fs2.fit(X_train_selected, y_train)\n",
        "\n",
        "y_train_pred = xgb_bayes_fs2.predict(X_train_selected)\n",
        "y_val_pred = xgb_bayes_fs2.predict(X_val_selected)\n",
        "\n",
        "print(\"훈련 F1-Score: \", f1_score(y_train, y_train_pred).round(2))\n",
        "print(\"검증 F1-Score: \", f1_score(y_val, y_val_pred).round(2))\n",
        "print(\"특성 수:\")\n",
        "print(\"\\tBefore: \", X_train.shape[1])\n",
        "print(\"\\tAfter: \", X_train_selected.shape[1])"
      ],
      "metadata": {
        "colab": {
          "base_uri": "https://localhost:8080/"
        },
        "outputId": "fb8ccd64-74ea-4c91-e483-bb324237a430",
        "id": "8OeIniANXbJa"
      },
      "execution_count": 164,
      "outputs": [
        {
          "output_type": "stream",
          "name": "stdout",
          "text": [
            "훈련 F1-Score:  0.53\n",
            "검증 F1-Score:  0.52\n",
            "특성 수:\n",
            "\tBefore:  35\n",
            "\tAfter:  7\n"
          ]
        }
      ]
    },
    {
      "cell_type": "markdown",
      "source": [
        "Bayesian Search 결과\n",
        "- 변수를 줄여도 큰 차이는 나지 않지만, 점수가 중요한 시합이다 보니 일단 줄이지 않는 경우를 가장 최적의 결과로 봐야한다.\n",
        "- 따라서 변수를 줄이지 않은 모델 선택 : F1-Score 0.56"
      ],
      "metadata": {
        "id": "kXm2GuZ8XbJa"
      }
    },
    {
      "cell_type": "markdown",
      "source": [
        "오늘의 결론\n",
        "- 이제까지의 결과보다 안 좋다\n",
        "  - 이전에는 max_depth 자체를 높게 설정했음\n",
        "- 어떤 방식을 사용하던, 파라미터의 범위가 유사하니 큰 차이가 나지는 않았다."
      ],
      "metadata": {
        "id": "61eBNJpzZcc-"
      }
    }
  ],
  "metadata": {
    "colab": {
      "provenance": [],
      "toc_visible": true,
      "include_colab_link": true
    },
    "kernelspec": {
      "display_name": "Python 3.9.12 ('base')",
      "language": "python",
      "name": "python3"
    },
    "language_info": {
      "codemirror_mode": {
        "name": "ipython",
        "version": 3
      },
      "file_extension": ".py",
      "mimetype": "text/x-python",
      "name": "python",
      "nbconvert_exporter": "python",
      "pygments_lexer": "ipython3",
      "version": "3.9.12"
    },
    "vscode": {
      "interpreter": {
        "hash": "b20ff92b575a8ea539dfbc3b545a889469c164f0620e393f7e974863baa629ad"
      }
    }
  },
  "nbformat": 4,
  "nbformat_minor": 0
}